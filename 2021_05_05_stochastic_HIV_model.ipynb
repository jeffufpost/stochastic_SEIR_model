{
  "nbformat": 4,
  "nbformat_minor": 0,
  "metadata": {
    "colab": {
      "name": "2021-05-05-stochastic_HIV_model.ipynb",
      "provenance": [],
      "authorship_tag": "ABX9TyMdhXyspn/qgV19e19IdGd3",
      "include_colab_link": true
    },
    "kernelspec": {
      "display_name": "Python 3",
      "name": "python3"
    }
  },
  "cells": [
    {
      "cell_type": "markdown",
      "metadata": {
        "id": "view-in-github",
        "colab_type": "text"
      },
      "source": [
        "<a href=\"https://colab.research.google.com/github/jeffufpost/stochastic_SEIR_model/blob/master/2021_05_05_stochastic_HIV_model.ipynb\" target=\"_parent\"><img src=\"https://colab.research.google.com/assets/colab-badge.svg\" alt=\"Open In Colab\"/></a>"
      ]
    },
    {
      "cell_type": "markdown",
      "metadata": {
        "id": "EaN1NsvLOVtF"
      },
      "source": [
        "# \"HIV modeling\"\n",
        "> \"Building a new stochastic SEIR model to deal with probability distributions \"\n",
        "\n",
        "- toc: true \n",
        "- badges: true\n",
        "- comments: true\n",
        "- categories: [probability distributions, modeling, SEIR, epidemiology, stochastic, HIV, AIDS]\n",
        "- image: images/HIV_stochastic.png"
      ]
    },
    {
      "cell_type": "markdown",
      "metadata": {
        "id": "Wa5uqUhVOolP"
      },
      "source": [
        "![](https://github.com/jeffufpost/scattered-thoughts/blob/master/_notebooks/my_icons/HIV_stochastic.png?raw=1)"
      ]
    },
    {
      "cell_type": "markdown",
      "metadata": {
        "id": "yAOm450_HxYm"
      },
      "source": [
        "## Building a stochastic model"
      ]
    },
    {
      "cell_type": "markdown",
      "metadata": {
        "id": "AGMGuLg7jfUf"
      },
      "source": [
        "This model is going to focus on individual level disease dynamics to model the disease propagation.\n",
        "\n",
        "It models DHS dataset which contains a homogeneous population between 15 and 49 years old.\n",
        "\n",
        "The basic idea of this model is to have a dataframe with the number of rows equal to the population size (each individual is a row) and two columns:\n",
        "* State column to describe the state of each individual (S, I, or D)\n",
        "* Year column to save the day of transition of the individual into that state\n",
        "* Age column to know the age of the individuals\n",
        "\n",
        "However, the population-level rates of transmission still apply here i.e. a person goes from S &rarr; I following two points:\n",
        "1. the effective contact rate $\\beta$, which is itself given by:\n",
        "  - the number of contacts the person has per unit time (given by $r$)\n",
        "  - the chance of an S contracting the disease from a contact with an I (given by $\\rho$)\n",
        "2. the chance a given contact is with an I - infectious individual (the higher the number of I, the higher the chance)\n",
        "\n",
        "This is done stochastically.\n",
        "\n",
        "Once a person becomes I, their progression is unique to them. This progression is calculated in advance for computational reason, but it allows to use the time ditributions we want."
      ]
    },
    {
      "cell_type": "code",
      "metadata": {
        "colab": {
          "base_uri": "https://localhost:8080/"
        },
        "id": "nsPi17ppluAE",
        "outputId": "0201e79f-db73-45d2-fb40-be06d907c11b"
      },
      "source": [
        "#collapse_hide\n",
        "!pip install plotly==4.14.3\n",
        "import pandas as pd\n",
        "import numpy as np\n",
        "import math\n",
        "import plotly.graph_objects as go\n",
        "import plotly.express as px\n",
        "from scipy.stats import expon\n",
        "from scipy.stats import gamma\n",
        "from scipy.stats import weibull_min\n",
        "from numpy.random import default_rng\n",
        "rng = default_rng()\n",
        "import tqdm\n",
        "import time"
      ],
      "execution_count": 1,
      "outputs": [
        {
          "output_type": "stream",
          "text": [
            "Collecting plotly==4.14.3\n",
            "  Downloading plotly-4.14.3-py2.py3-none-any.whl (13.2 MB)\n",
            "\u001b[K     |████████████████████████████████| 13.2 MB 139 kB/s \n",
            "\u001b[?25hRequirement already satisfied: retrying>=1.3.3 in /usr/local/lib/python3.7/dist-packages (from plotly==4.14.3) (1.3.3)\n",
            "Requirement already satisfied: six in /usr/local/lib/python3.7/dist-packages (from plotly==4.14.3) (1.15.0)\n",
            "Installing collected packages: plotly\n",
            "  Attempting uninstall: plotly\n",
            "    Found existing installation: plotly 4.4.1\n",
            "    Uninstalling plotly-4.4.1:\n",
            "      Successfully uninstalled plotly-4.4.1\n",
            "Successfully installed plotly-4.14.3\n"
          ],
          "name": "stdout"
        }
      ]
    },
    {
      "cell_type": "markdown",
      "metadata": {
        "id": "42RmLhHwVj_2"
      },
      "source": [
        "### Creating the initial population dataframe\n",
        "\n",
        "Below is a function to create the initial population dataframe:\n",
        "* $p$ is the population number\n",
        "* $num_I$ is the number of infectious on day 0\n",
        "* $num_R$ is the number of people recovered on day 0"
      ]
    },
    {
      "cell_type": "code",
      "metadata": {
        "id": "TYGGYIjObXgv"
      },
      "source": [
        "#collapse_hide\n",
        "# Need this new function for model below:\n",
        "def make_df(p, num_I, num_R):\n",
        "  df = pd.DataFrame(np.full((p,1), 'S').T[0], columns=['State'])\n",
        "  df['Year'] = 0\n",
        "  df['Age'] = (np.random.random(p)*35+15).astype(int)\n",
        "  tochange=df.loc[rng.choice(p, size=num_I+num_R, replace=False),'State'].index\n",
        "  df.loc[tochange[0:num_I],'State'] = 'I'\n",
        "  df.loc[tochange[num_I:num_I+num_R],'State'] = 'R'\n",
        "  return df"
      ],
      "execution_count": 2,
      "outputs": []
    },
    {
      "cell_type": "markdown",
      "metadata": {
        "id": "30fEs2dbap35"
      },
      "source": [
        "### Building the model"
      ]
    },
    {
      "cell_type": "code",
      "metadata": {
        "colab": {
          "base_uri": "https://localhost:8080/"
        },
        "id": "vhEHGn9AqmIW",
        "outputId": "ac8b007d-4f19-4f99-8c42-b73a9b59d99b"
      },
      "source": [
        "# Modelling the decrease of beta over time\n",
        "\n",
        "#np.random.random(size=(p,days))\n",
        "#np.log(4)\n",
        "j=11\n",
        "over = 10\n",
        "\n",
        "#10/np.cumsum(np.ones(100))\n",
        "\n",
        "b1 = 0.4  # original beta = beta value before epidemic\n",
        "b2 = 0.05 # end beta = beta at the end of epidemic\n",
        "\n",
        "for j in [11,12,13,14,15,16,17,18,19,20]:\n",
        "  print(b2 + (b1/np.exp((j+(b1*2.9)-over+1)/(b1*27))))"
      ],
      "execution_count": 3,
      "outputs": [
        {
          "output_type": "stream",
          "text": [
            "0.34853045502580576\n",
            "0.322129855397731\n",
            "0.2980639980011034\n",
            "0.2761264094465268\n",
            "0.2561288758594902\n",
            "0.23789982809657062\n",
            "0.22128286976535838\n",
            "0.20613543541923113\n",
            "0.19232756741493678\n",
            "0.17974080093901812\n"
          ],
          "name": "stdout"
        }
      ]
    },
    {
      "cell_type": "code",
      "metadata": {
        "id": "iT2XoyZad5Zw"
      },
      "source": [
        "8#collapse_hide\n",
        "def seir_model_stoch(beta, beta2, p, num_I, num_R, years, T_Infectious, ART, control, reduc):\n",
        "\n",
        "    ################################\n",
        "    #### Explanation of inputs  ####\n",
        "    ################################\n",
        "\n",
        "    #### As seen in SSA, beta has a starting value, but after a certain threshold (as soon as incidence or prevalence reaches a certain threshold) behaviours change and beta decreases\n",
        "    # beta is initial value of beta at start of epidemic (usually 0.3, but can range from 0.2 to 0.5 as seen in SSA)\n",
        "    # beta2 is final value (usually around 0.05)\n",
        "    # p is total number of individuals in population\n",
        "    # num_I is initial number of PLWHA in population (for simulations start with something between 1 and 10 depending on size of p)\n",
        "    # num_R is initial number of people deceased from HIV/AIDS\n",
        "    # years is number of years you want to run simulation for\n",
        "    # T_infectious is distribution of progression of HIV in an individual (use 'gamma' for HIV)\n",
        "    # ART is to emulate ART usage:\n",
        "        # ART == 0 means no ART\n",
        "        # ART == 1 means ART stops evolution of I to R but does not stop spread from I to S\n",
        "        # ART == 2 means ART stops both I to R, and S to I\n",
        "    # control sets the threshold at which beta above will decrease\n",
        "        # control == 0 means no control i.e. beta never decreases\n",
        "        # control == 1 means beta decreases once incidence is 15 per 1 thousand population\n",
        "        # control == 2 means beta decreases once incidence is 30 per 1 thousand population\n",
        "\n",
        "\n",
        "    ################################\n",
        "    ##### Set up the dataframe #####\n",
        "    ################################\n",
        "\n",
        "    # Initialize population dataframe with data given by user\n",
        "    df = make_df(p, num_I, num_R)\n",
        "    \n",
        "    # This variable is used to track daily value of beta if it varies over time\n",
        "    xxbeta=np.array([],dtype=float)\n",
        "\n",
        "    # Initialize the arrays to return\n",
        "    # Below are numbers of S, I, R total\n",
        "    S=np.array([],dtype=int)\n",
        "    I=np.array([],dtype=int)\n",
        "    R=np.array([],dtype=int)\n",
        "    # Below are the daily additions in S, I, R\n",
        "    Spd=np.array([],dtype=int)\n",
        "    Ipd=np.array([],dtype=int)\n",
        "    Rpd=np.array([],dtype=int)\n",
        "\n",
        "    # Beta values to track spread\n",
        "    b=beta\n",
        "    b2=np.array([],dtype=float)\n",
        "    b1=b\n",
        "\n",
        "    # Signal to initiate decrease of beta\n",
        "    over = 0 \n",
        "\n",
        "    # signal to end transmission and deaths due to ART\n",
        "    art1 = 0\n",
        "    art2 = 0\n",
        "    \n",
        "    # Stochastic model so use random values to decide on progression\n",
        "    rand = np.random.random(size=(p,years))\n",
        "\n",
        "    # Depending if you want exponential, gamma, or Weibull distribution for T_Infectious\n",
        "    # Uses distributions found on blog part 3\n",
        "    if T_Infectious == 'expon':\n",
        "      ItoR = expon.rvs(loc=0,scale=10,size=p)\n",
        "    elif T_Infectious == 'gamma':\n",
        "      ItoR = gamma.rvs(4,loc=3,scale=2,size=p)    \n",
        "    else:\n",
        "      ItoR = weibull_min.rvs(2.3, loc=2, scale=20.11, size=p)\n",
        "\n",
        "\n",
        "    ################################\n",
        "    ####### Simulation code ########\n",
        "    ################################\n",
        "\n",
        "    # Iterate over every day the simulation is run\n",
        "    for j in range(0,years-1):\n",
        "\n",
        "        # Record daily beta values\n",
        "        xxbeta=np.append(xxbeta, b[j])\n",
        "\n",
        "        # First we get the index of the individuals that will change state today:\n",
        "\n",
        "        # Random number tells you which 'S' have been exposed on this day \n",
        "        if ART < 2:\n",
        "          StoI_index = df.loc[(df.State == 'S') & (df.Age < 49) & (rand[:,j] < b[j]*len(np.where(df.State=='I')[0])/(len(np.where(df.State=='I')[0])+len(np.where(df.State=='S')[0])))].index\n",
        "          StoS_index = df.loc[(df.State == 'S') & (df.Age < 49) & (rand[:,j] >= b[j]*len(np.where(df.State=='I')[0])/(len(np.where(df.State=='I')[0])+len(np.where(df.State=='S')[0])))].index\n",
        "        elif ART == 2: \n",
        "          if art2 == 0:\n",
        "            StoI_index = df.loc[(df.State == 'S') & (df.Age < 49) & (rand[:,j] < b[j]*len(np.where(df.State=='I')[0])/(len(np.where(df.State=='I')[0])+len(np.where(df.State=='S')[0])))].index\n",
        "            StoS_index = df.loc[(df.State == 'S') & (df.Age < 49) & (rand[:,j] >= b[j]*len(np.where(df.State=='I')[0])/(len(np.where(df.State=='I')[0])+len(np.where(df.State=='S')[0])))].index\n",
        "          elif art2 == 1:\n",
        "            StoI_index = df.loc[(df.State == 'S') & (df.Age > 55)].index # cannot happen so put an impossible condition like df.Age > 55 to emulate\n",
        "            StoS_index = df.loc[(df.State == 'S') & (df.Age < 49)].index # anyone S under 49 will stay S\n",
        "\n",
        "        StoRem_index = df.loc[(df.State == 'S') & (df.Age >= 49)].index\n",
        "        \n",
        "        # For each row, if a person has been a certain number of years in I, they will go to R (progression to AIDS and death)\n",
        "        # This follows ItoR variable which is either exponential or gamma distributed according to above\n",
        "        ItoRem_index = df.loc[(df.State == 'I') & (df.Age >= 49)].index\n",
        "        if ART == 0: #don't use ART\n",
        "          ItoR_index = df.loc[(df.State == 'I') & (j-df.Year >= ItoR) & (df.Age < 49)].index\n",
        "          ItoI_index = df.loc[(df.State == 'I') & (j-df.Year < ItoR) & (df.Age < 49)].index\n",
        "        elif ART > 0:\n",
        "          if art2 == 0:\n",
        "            ItoR_index = df.loc[(df.State == 'I') & (j-df.Year >= ItoR) & (df.Age < 49)].index\n",
        "            ItoI_index = df.loc[(df.State == 'I') & (j-df.Year < ItoR) & (df.Age < 49)].index\n",
        "          elif art2 ==1:\n",
        "            ItoR_index = df.loc[(df.State == 'I') & (df.Age > 55)].index # cannot happen so impossible condition\n",
        "            ItoI_index = df.loc[(df.State == 'I') & (df.Age < 49)].index            \n",
        "\n",
        "        RtoRem_index = df.loc[(df.State == 'R') & (df.Age >= 49)].index\n",
        "\n",
        "        RtoR_index = df.loc[(df.State == 'R') & (df.Age < 49)].index\n",
        "\n",
        "        # Use indexes collected above to populate per day values\n",
        "        Ipd = np.append(Ipd,len(StoI_index))\n",
        "        Rpd = np.append(Rpd,len(ItoR_index))\n",
        "\n",
        "        # Now we use the indexes collected above randomly to change the actual population dataframe to the new states\n",
        "        df.loc[ItoR_index, ['State','Year']] = ['S', j]\n",
        "        df.loc[ItoR_index, 'Age'] = df.loc[ItoR_index, 'Age'] + 1\n",
        "        df.loc[ItoI_index, 'Age'] = df.loc[ItoI_index, 'Age'] + 1\n",
        "        \n",
        "        df.loc[StoI_index, ['State','Year']] = ['I', j]\n",
        "        df.loc[StoI_index, 'Age'] = df.loc[StoI_index, 'Age'] + 1\n",
        "        df.loc[StoS_index, 'Age'] = df.loc[StoS_index, 'Age'] + 1\n",
        "        \n",
        "        df.loc[RtoR_index, 'Age'] = df.loc[RtoR_index, 'Age'] + 1\n",
        "\n",
        "        df.iloc[ItoRem_index] = ['S', j, 15]\n",
        "        df.iloc[StoRem_index] = ['S', j, 15]\n",
        "        df.iloc[RtoRem_index] = ['S', j, 15]\n",
        "\n",
        "        # Append the S, I, and R arrays\n",
        "        S=np.append(S,len(np.where(df.State=='S')[0]))\n",
        "        I=np.append(I,len(np.where(df.State=='I')[0]))\n",
        "        R=np.append(R,len(np.where(df.State=='R')[0]))\n",
        "\n",
        "        # Code below for control measures to reduce beta values\n",
        "        #if (Ipd[-1]*1000/p > control):\n",
        "        # after year 15\n",
        "        if (j > reduc):\n",
        "          art1 = 1\n",
        "          if over == 0:\n",
        "            over = j\n",
        "          \n",
        "          if art1 == 1:\n",
        "            if j > over + 15:\n",
        "              art2 = 1\n",
        "\n",
        "          if over != 0:\n",
        "            b = beta2 + (b1/np.exp((j+(b1*2.9)-over+1)/(b1*27)))\n",
        "\n",
        "        ## Code below for control measures to reduce beta values\n",
        "        #if control == 1:\n",
        "        #  if (I[-1]/p > 0.006):\n",
        "        #    art1 = 1\n",
        "        #    if over == 0:\n",
        "        #      over = j\n",
        "          \n",
        "        #  if art1 == 1:\n",
        "        #    if j > over + 15:    \n",
        "        #      art2 = 1\n",
        "\n",
        "        #  if over != 0:\n",
        "        #    b = beta2 + (b1/np.exp((j+(b1*2.9)-over+1)/(b1*27)))\n",
        "\n",
        "        #if control == 2:\n",
        "        #  if (I[-1]/p > 0.01):\n",
        "        #    art1 = 1\n",
        "        #    if over == 0:\n",
        "        #      over = j\n",
        "          \n",
        "        #  if art1 == 1:\n",
        "        #    if j > over + 15:    \n",
        "        #      art2 = 1\n",
        "\n",
        "        #  if over != 0:\n",
        "        #    b = beta2 + (b1/np.exp((j+(b1*2.9)-over+1)/(b1*27)))\n",
        "\n",
        "\n",
        "        xxbeta2 = ((S[j-1]+I[j-1])/I[j-1])*Ipd[j]/S[j-1]\n",
        "        b2 = np.append(b2, xxbeta2)\n",
        "                \n",
        "    Ipd[0]+=num_I\n",
        "    Rpd[0]+=num_R\n",
        "\n",
        "    return S, I, R, Spd, Ipd, Rpd, xxbeta, b2, over"
      ],
      "execution_count": 4,
      "outputs": []
    },
    {
      "cell_type": "markdown",
      "metadata": {
        "id": "5F__Fhakfd1-"
      },
      "source": [
        "## Testing the model"
      ]
    },
    {
      "cell_type": "code",
      "metadata": {
        "colab": {
          "base_uri": "https://localhost:8080/"
        },
        "id": "wpfAaUGTdarx",
        "outputId": "522d3dab-e9dd-41cc-eced-860677b4176f"
      },
      "source": [
        "#collapse_hide\n",
        "# Define parameters for stochastic model\n",
        "years = 100\n",
        "p = 1000000\n",
        "num_E = 0\n",
        "num_I = 10\n",
        "num_R = 0\n",
        "#beta_stoch = [0.15,0.15,0.15,0.20,0.20,0.20,0.25,0.25,0.25,0.30,0.30,0.30,0.35,0.35,0.35,0.40,0.40,0.40]\n",
        "#beta_stoch = [0.34853045502580576,0.322129855397731,0.2980639980011034,0.2761264094465268,0.2561288758594902,0.23789982809657062,0.22128286976535838,0.20613543541923113,0.19232756741493678,0.17974080093901812]\n",
        "#beta_stoch = [0.25, 0.25, 0.25, 0.25, 0.25, 0.25, 0.25, 0.25, 0.25]\n",
        "beta_stoch = [0.3, 0.3, 0.3, 0.3, 0.3, 0.3, 0.3, 0.3, 0.3]\n",
        "#beta_stoch = np.linspace(0.15,0.45,num=29)\n",
        "#beta_stoch = [0.1,0.1,0.1,0.1,0.1,0.1]\n",
        "#beta_stoch2 = [0.05,0.05,0.05,0.05,0.05,0.05]\n",
        "beta_stoch2 = 0.05*np.ones(len(beta_stoch))\n",
        "#beta_stoch = beta_stoch2\n",
        "\n",
        "#control= [1,1,1,1,1,1]\n",
        "control = 0.1*np.ones(len(beta_stoch))\n",
        "\n",
        "#reduc = [11,12,13,14,15,16,17,18,19,20]\n",
        "#reduc = [30,30,30]\n",
        "reduc = 30*np.ones(len(beta_stoch))\n",
        "\n",
        "n = len(beta_stoch)\n",
        "\n",
        "#results_stoch = []\n",
        "\n",
        "# Run n stochastic simulations\n",
        "for i in tqdm.tqdm(range(n)):\n",
        "  res = seir_model_stoch(beta_stoch[i]*np.ones(years),beta_stoch2[i], p, num_I, num_R, years, 'gamma', 0, control[i],reduc[i])\n",
        "  results_stoch.append(res)"
      ],
      "execution_count": 10,
      "outputs": [
        {
          "output_type": "stream",
          "text": [
            "100%|██████████| 9/9 [17:42<00:00, 118.05s/it]\n"
          ],
          "name": "stderr"
        }
      ]
    },
    {
      "cell_type": "code",
      "metadata": {
        "id": "XbDzcO24Kw8y"
      },
      "source": [
        "#from google.colab import drive\n",
        "#drive.mount('/content/drive')"
      ],
      "execution_count": 7,
      "outputs": []
    },
    {
      "cell_type": "code",
      "metadata": {
        "id": "UWa6BlFILI8C"
      },
      "source": [
        "#type(res)"
      ],
      "execution_count": 8,
      "outputs": []
    },
    {
      "cell_type": "code",
      "metadata": {
        "id": "4h_3hGuQRD0Y",
        "colab": {
          "base_uri": "https://localhost:8080/",
          "height": 817
        },
        "outputId": "ab856f6f-199a-4489-c982-6e80b2b2f436"
      },
      "source": [
        "#collapse_hide\n",
        "fig = go.Figure()\n",
        "\n",
        "for i in range(len(results_stoch)):\n",
        "  #fig.add_trace(go.Scatter(name='Beta_stoch'+str(i), x=np.arange(len(results_stoch[i][0])), y=results_stoch[i][6], line={'dash':'dot','color':'yellow'}, legendgroup=\"Sim_\"+str(i)))\n",
        "  fig.add_trace(go.Scatter(name='Beta_meas'+str(i), x=np.arange(len(results_stoch[i][0])), y=0.01*results_stoch[i][7], line={'dash':'dot','color':'yellow'}, legendgroup=\"Sim_\"+str(i)))\n",
        "  fig.add_trace(go.Scatter(name='I_stoch'+str(i), x=np.arange(len(results_stoch[i][0])), y=results_stoch[i][1]/p, line={'dash':'dot', 'color':'red'}, legendgroup=\"Sim_\"+str(i)))\n",
        "  fig.add_trace(go.Bar(name='Ip_stoch'+str(i), x=np.arange(len(results_stoch[i][0])), y=results_stoch[i][4]*10/p, legendgroup=\"Sim_\"+str(i)))\n",
        "  #fig.add_trace(go.Scatter(name='R_stoch'+str(i), x=np.arange(len(results_stoch[i][0])), y=results_stoch[i][2]/p, line={'dash':'dot', 'color':'green'}, legendgroup=\"Sim_\"+str(i)))\n",
        "\n",
        "fig.update_layout(\n",
        "    xaxis_title = 'Years',\n",
        "    yaxis_title = 'Proportion of population',\n",
        "    title={\n",
        "        'text':r'$\\text{Stochastic HIV SIR model}$',\n",
        "        'x':0.5,\n",
        "        'xanchor':'center'\n",
        "    },\n",
        "    height=800,\n",
        ")\n",
        "\n",
        "fig.show()"
      ],
      "execution_count": 11,
      "outputs": [
        {
          "output_type": "display_data",
          "data": {
            "text/html": [
              "<html>\n",
              "<head><meta charset=\"utf-8\" /></head>\n",
              "<body>\n",
              "    <div>            <script src=\"https://cdnjs.cloudflare.com/ajax/libs/mathjax/2.7.5/MathJax.js?config=TeX-AMS-MML_SVG\"></script><script type=\"text/javascript\">if (window.MathJax) {MathJax.Hub.Config({SVG: {font: \"STIX-Web\"}});}</script>                <script type=\"text/javascript\">window.PlotlyConfig = {MathJaxConfig: 'local'};</script>\n",
              "        <script src=\"https://cdn.plot.ly/plotly-latest.min.js\"></script>                <div id=\"38e4b7e9-a0ff-4e89-885c-a3922004d9a4\" class=\"plotly-graph-div\" style=\"height:800px; width:100%;\"></div>            <script type=\"text/javascript\">                                    window.PLOTLYENV=window.PLOTLYENV || {};                                    if (document.getElementById(\"38e4b7e9-a0ff-4e89-885c-a3922004d9a4\")) {                    Plotly.newPlot(                        \"38e4b7e9-a0ff-4e89-885c-a3922004d9a4\",                        [{\"legendgroup\": \"Sim_0\", \"line\": {\"color\": \"yellow\", \"dash\": \"dot\"}, \"name\": \"Beta_meas0\", \"type\": \"scatter\", \"x\": [0, 1, 2, 3, 4, 5, 6, 7, 8, 9, 10, 11, 12, 13, 14, 15, 16, 17, 18, 19, 20, 21, 22, 23, 24, 25, 26, 27, 28, 29, 30, 31, 32, 33, 34, 35, 36, 37, 38, 39, 40, 41, 42, 43, 44, 45, 46, 47, 48, 49, 50, 51, 52, 53, 54, 55, 56, 57, 58, 59, 60, 61, 62, 63, 64, 65, 66, 67, 68, 69, 70, 71, 72, 73, 74, 75, 76, 77, 78, 79, 80, 81, 82, 83, 84, 85, 86, 87, 88, 89, 90, 91, 92, 93, 94, 95, 96, 97, 98], \"y\": [0.0016666866669066693, 0.004166716667266673, 0.0033333833340833453, 0.0036842805276458145, 0.001923126924376957, 0.001034512759490715, 0.0037932134514659546, 0.002820622824802988, 0.002500120005760276, 0.002321558578708979, 0.002388219712213256, 0.0018520018640028363, 0.002872610450914301, 0.0026498826858468933, 0.0025717886218356283, 0.0024856271715837136, 0.002376717720741966, 0.0025110603944803055, 0.0022923268568014253, 0.002336109601924408, 0.0021274226104121257, 0.0025347627912003907, 0.0022858648465846304, 0.0026145242308295664, 0.0024681386364963126, 0.002262255708603476, 0.002631719328817882, 0.002324880024201823, 0.002346907537322397, 0.0024221728436899636, 0.002602235371420296, 0.0024973948980334167, 0.002262405146524119, 0.002076094445758144, 0.0019114522090438449, 0.0016719990369672697, 0.0015021882258561855, 0.0014130971170024857, 0.0012763766819847244, 0.0011509420233172458, 0.0010287598851235378, 0.0009830507000834778, 0.0009016782325996377, 0.0007514819016616398, 0.0007941017354433848, 0.0007528651756883244, 0.0007315329569477475, 0.0006034557047950749, 0.0006219541620607686, 0.0006856752912748804, 0.0005989126812142078, 0.0006254306522081364, 0.000564097994171701, 0.00055941792453069, 0.0006126956118041874, 0.00047386181048792385, 0.0005938192451765331, 0.0005643223860324983, 0.0005504636928498922, 0.0005484495337609762, 0.0004816709187290916, 0.0005482148269349046, 0.0004525574599564813, 0.0005075800411722681, 0.0004878312119617211, 0.0005390043371037001, 0.00044044044044044047, 0.0005226926456032651, 0.0005248205967918083, 0.0005483454976927677, 0.000461838656665294, 0.0005906179737306467, 0.0004644567585735829, 0.00044046167254484795, 0.0005002100882370595, 0.0005143388953109957, 0.0003602408502710476, 0.00040765355245502, 0.0003957934838259137, 0.0003239666594409953, 0.00045055047265538, 0.000640524115065309, 0.0006146351593583296, 0.0006251000160025603, 0.0005334133453351336, 0.00041964042816164664, 0.0008001000125015627, 0.00034192034656088953, 0.0005319648983174631, 0.0002469335818670448, 0.0005479852083996652, 0.00014085507113258564, 0.0006154246179847845, 0.00033900305202752724, 0.0, 0.0010870065240392362, 0.0002325681399649022, 0.0, 0.0013793503459876197]}, {\"legendgroup\": \"Sim_0\", \"line\": {\"color\": \"red\", \"dash\": \"dot\"}, \"name\": \"I_stoch0\", \"type\": \"scatter\", \"x\": [0, 1, 2, 3, 4, 5, 6, 7, 8, 9, 10, 11, 12, 13, 14, 15, 16, 17, 18, 19, 20, 21, 22, 23, 24, 25, 26, 27, 28, 29, 30, 31, 32, 33, 34, 35, 36, 37, 38, 39, 40, 41, 42, 43, 44, 45, 46, 47, 48, 49, 50, 51, 52, 53, 54, 55, 56, 57, 58, 59, 60, 61, 62, 63, 64, 65, 66, 67, 68, 69, 70, 71, 72, 73, 74, 75, 76, 77, 78, 79, 80, 81, 82, 83, 84, 85, 86, 87, 88, 89, 90, 91, 92, 93, 94, 95, 96, 97, 98], \"y\": [1.2e-05, 1.5e-05, 1.9e-05, 2.6e-05, 2.9e-05, 2.9e-05, 3.9e-05, 4.8e-05, 5.6e-05, 6.7e-05, 8.1e-05, 9.4e-05, 0.000117, 0.00014, 0.000169, 0.000202, 0.000239, 0.000288, 0.000334, 0.000395, 0.000446, 0.000534, 0.00062, 0.000742, 0.000876, 0.001027, 0.001236, 0.001438, 0.001679, 0.001983, 0.002356, 0.002788, 0.003228, 0.003702, 0.00415, 0.004581, 0.004957, 0.005285, 0.005548, 0.005729, 0.005822, 0.005868, 0.005809, 0.005712, 0.005543, 0.00536, 0.005147, 0.004847, 0.004527, 0.004276, 0.003965, 0.003701, 0.003444, 0.00316, 0.002942, 0.002634, 0.002398, 0.002203, 0.002028, 0.001872, 0.001681, 0.001527, 0.001381, 0.001252, 0.001133, 0.001, 0.0009, 0.00082, 0.00073, 0.00065, 0.000576, 0.000517, 0.000477, 0.00042, 0.000389, 0.000361, 0.000319, 0.000278, 0.000247, 0.000222, 0.000203, 0.000179, 0.00016, 0.00015, 0.000143, 0.000125, 0.000117, 9.4e-05, 8.1e-05, 7.3e-05, 7.1e-05, 6.5e-05, 5.9e-05, 5.2e-05, 4.6e-05, 4.3e-05, 3.4e-05, 2.9e-05, 3.1e-05]}, {\"legendgroup\": \"Sim_0\", \"name\": \"Ip_stoch0\", \"type\": \"bar\", \"x\": [0, 1, 2, 3, 4, 5, 6, 7, 8, 9, 10, 11, 12, 13, 14, 15, 16, 17, 18, 19, 20, 21, 22, 23, 24, 25, 26, 27, 28, 29, 30, 31, 32, 33, 34, 35, 36, 37, 38, 39, 40, 41, 42, 43, 44, 45, 46, 47, 48, 49, 50, 51, 52, 53, 54, 55, 56, 57, 58, 59, 60, 61, 62, 63, 64, 65, 66, 67, 68, 69, 70, 71, 72, 73, 74, 75, 76, 77, 78, 79, 80, 81, 82, 83, 84, 85, 86, 87, 88, 89, 90, 91, 92, 93, 94, 95, 96, 97, 98], \"y\": [0.00012, 5e-05, 5e-05, 7e-05, 5e-05, 3e-05, 0.00011, 0.00011, 0.00012, 0.00013, 0.00016, 0.00015, 0.00027, 0.00031, 0.00036, 0.00042, 0.00048, 0.0006, 0.00066, 0.00078, 0.00084, 0.00113, 0.00122, 0.00162, 0.00183, 0.00198, 0.0027, 0.00287, 0.00337, 0.00406, 0.00515, 0.00587, 0.00629, 0.00668, 0.00705, 0.00691, 0.00685, 0.00697, 0.00671, 0.00635, 0.00586, 0.00569, 0.00526, 0.00434, 0.00451, 0.00415, 0.0039, 0.00309, 0.003, 0.00309, 0.00255, 0.00247, 0.00208, 0.00192, 0.00193, 0.00139, 0.00156, 0.00135, 0.00121, 0.00111, 0.0009, 0.00092, 0.00069, 0.0007, 0.00061, 0.00061, 0.00044, 0.00047, 0.00043, 0.0004, 0.0003, 0.00034, 0.00024, 0.00021, 0.00021, 0.0002, 0.00013, 0.00013, 0.00011, 8e-05, 0.0001, 0.00013, 0.00011, 0.0001, 8e-05, 6e-05, 0.0001, 4e-05, 5e-05, 2e-05, 4e-05, 1e-05, 4e-05, 2e-05, 0.0, 5e-05, 1e-05, 0.0, 4e-05]}, {\"legendgroup\": \"Sim_1\", \"line\": {\"color\": \"yellow\", \"dash\": \"dot\"}, \"name\": \"Beta_meas1\", \"type\": \"scatter\", \"x\": [0, 1, 2, 3, 4, 5, 6, 7, 8, 9, 10, 11, 12, 13, 14, 15, 16, 17, 18, 19, 20, 21, 22, 23, 24, 25, 26, 27, 28, 29, 30, 31, 32, 33, 34, 35, 36, 37, 38, 39, 40, 41, 42, 43, 44, 45, 46, 47, 48, 49, 50, 51, 52, 53, 54, 55, 56, 57, 58, 59, 60, 61, 62, 63, 64, 65, 66, 67, 68, 69, 70, 71, 72, 73, 74, 75, 76, 77, 78, 79, 80, 81, 82, 83, 84, 85, 86, 87, 88, 89, 90, 91, 92, 93, 94, 95, 96, 97, 98], \"y\": [0.0009091009092009103, 0.0009091009092009103, 0.0033333733338133387, 0.0025000400006400104, 0.0010526515793273757, 0.0023810023820024034, 0.0036000900022500567, 0.0017241879324845248, 0.003333443336963454, 0.0034147741520816994, 0.0018519518572521433, 0.0035002100126007565, 0.002307872321733403, 0.002065407408785956, 0.0023587405925405455, 0.0030162530637590497, 0.0022296494180159532, 0.0018336633927440275, 0.002843199704250367, 0.002195662084092199, 0.0025095441232483636, 0.002470322460889123, 0.0021965975096258344, 0.002732587511436867, 0.0025201377057406573, 0.002362822161068896, 0.002851490965395092, 0.0026019096484460893, 0.002460908889467447, 0.0026607670645547392, 0.002553751399664023, 0.002401856445480442, 0.002244398861711252, 0.002231839166198318, 0.001721492871432745, 0.001829447154271417, 0.001490273556318344, 0.0014023250083076094, 0.0012839198449738096, 0.001190656622166591, 0.0010561982271075966, 0.0010765757369657618, 0.0008753476051242324, 0.0008770095238648353, 0.0007665972278179071, 0.0007877829018194333, 0.0007701131067241115, 0.0007057265563426849, 0.0006561601043517359, 0.0006101311464059917, 0.00061644530171023, 0.0006070738939368261, 0.000576264272560663, 0.0006333840920307086, 0.0005447468436011729, 0.0004842948201847964, 0.0005445716072536756, 0.0005791394130211662, 0.0005651918517960709, 0.0005398788080403805, 0.0005642616584005625, 0.0004157914025668617, 0.0005510153569428364, 0.0005955183875364389, 0.0005643814555593143, 0.00047569796781797785, 0.00039898356497323557, 0.00042071242485860956, 0.0003765264605367635, 0.0006659576448706904, 0.0004466787115070154, 0.0006547168845729161, 0.0006404667318710386, 0.0005388717844346235, 0.0004114711162487966, 0.00040128618068221566, 0.0003897304265817768, 0.00032736275202953537, 0.0005977595994124405, 0.0004742479565604048, 0.00038103239775590965, 0.0004640075432365838, 0.0003889589014911573, 0.00031650570410377997, 0.0004286314369726047, 0.0008462638604557054, 0.0005217991373355763, 0.00047624048144102746, 0.00021054631768965425, 0.00011495252960570789, 0.0010527115850278307, 0.0005882752968378321, 0.0003125200012800819, 0.00017858142913145994, 0.0003773784916260939, 0.000600030001500075, 0.00022728272771274663, 0.0005405605412805679, 0.0]}, {\"legendgroup\": \"Sim_1\", \"line\": {\"color\": \"red\", \"dash\": \"dot\"}, \"name\": \"I_stoch1\", \"type\": \"scatter\", \"x\": [0, 1, 2, 3, 4, 5, 6, 7, 8, 9, 10, 11, 12, 13, 14, 15, 16, 17, 18, 19, 20, 21, 22, 23, 24, 25, 26, 27, 28, 29, 30, 31, 32, 33, 34, 35, 36, 37, 38, 39, 40, 41, 42, 43, 44, 45, 46, 47, 48, 49, 50, 51, 52, 53, 54, 55, 56, 57, 58, 59, 60, 61, 62, 63, 64, 65, 66, 67, 68, 69, 70, 71, 72, 73, 74, 75, 76, 77, 78, 79, 80, 81, 82, 83, 84, 85, 86, 87, 88, 89, 90, 91, 92, 93, 94, 95, 96, 97, 98], \"y\": [1.1e-05, 1.2e-05, 1.6e-05, 1.9e-05, 2.1e-05, 2.5e-05, 2.9e-05, 3.3e-05, 4.1e-05, 5.4e-05, 6e-05, 7.8e-05, 9.2e-05, 0.000106, 0.000126, 0.000157, 0.00018, 0.000197, 0.000246, 0.000283, 0.000328, 0.000378, 0.000443, 0.000532, 0.000631, 0.000737, 0.000904, 0.001078, 0.001287, 0.001557, 0.001852, 0.002188, 0.002556, 0.002948, 0.003274, 0.003657, 0.003916, 0.004208, 0.004412, 0.004575, 0.004638, 0.004706, 0.004651, 0.004613, 0.004514, 0.004356, 0.004212, 0.004009, 0.003784, 0.003549, 0.003322, 0.003081, 0.00285, 0.002632, 0.002401, 0.00219, 0.002007, 0.001879, 0.001707, 0.001562, 0.001421, 0.001272, 0.00116, 0.001082, 0.000989, 0.000878, 0.000785, 0.000691, 0.000601, 0.00056, 0.000489, 0.000453, 0.000427, 0.000389, 0.000349, 0.000308, 0.000275, 0.000251, 0.000232, 0.00021, 0.000194, 0.00018, 0.000158, 0.00014, 0.00013, 0.000115, 0.000105, 9.5e-05, 8.7e-05, 7.6e-05, 6.8e-05, 6.4e-05, 5.6e-05, 5.3e-05, 5e-05, 4.4e-05, 3.7e-05, 3.4e-05, 2.7e-05]}, {\"legendgroup\": \"Sim_1\", \"name\": \"Ip_stoch1\", \"type\": \"bar\", \"x\": [0, 1, 2, 3, 4, 5, 6, 7, 8, 9, 10, 11, 12, 13, 14, 15, 16, 17, 18, 19, 20, 21, 22, 23, 24, 25, 26, 27, 28, 29, 30, 31, 32, 33, 34, 35, 36, 37, 38, 39, 40, 41, 42, 43, 44, 45, 46, 47, 48, 49, 50, 51, 52, 53, 54, 55, 56, 57, 58, 59, 60, 61, 62, 63, 64, 65, 66, 67, 68, 69, 70, 71, 72, 73, 74, 75, 76, 77, 78, 79, 80, 81, 82, 83, 84, 85, 86, 87, 88, 89, 90, 91, 92, 93, 94, 95, 96, 97, 98], \"y\": [0.00011, 1e-05, 4e-05, 4e-05, 2e-05, 5e-05, 9e-05, 5e-05, 0.00011, 0.00014, 0.0001, 0.00021, 0.00018, 0.00019, 0.00025, 0.00038, 0.00035, 0.00033, 0.00056, 0.00054, 0.00071, 0.00081, 0.00083, 0.00121, 0.00134, 0.00149, 0.0021, 0.00235, 0.00265, 0.00342, 0.00397, 0.00444, 0.0049, 0.00569, 0.00506, 0.00597, 0.00543, 0.00547, 0.00538, 0.00523, 0.00481, 0.00497, 0.0041, 0.00406, 0.00352, 0.00354, 0.00334, 0.00296, 0.00262, 0.0023, 0.00218, 0.00201, 0.00177, 0.0018, 0.00143, 0.00116, 0.00119, 0.00116, 0.00106, 0.00092, 0.00088, 0.00059, 0.0007, 0.00069, 0.00061, 0.00047, 0.00035, 0.00033, 0.00026, 0.0004, 0.00025, 0.00032, 0.00029, 0.00023, 0.00016, 0.00014, 0.00012, 9e-05, 0.00015, 0.00011, 8e-05, 9e-05, 7e-05, 5e-05, 6e-05, 0.00011, 6e-05, 5e-05, 2e-05, 1e-05, 8e-05, 4e-05, 2e-05, 1e-05, 2e-05, 3e-05, 1e-05, 2e-05, 0.0]}, {\"legendgroup\": \"Sim_2\", \"line\": {\"color\": \"yellow\", \"dash\": \"dot\"}, \"name\": \"Beta_meas2\", \"type\": \"scatter\", \"x\": [0, 1, 2, 3, 4, 5, 6, 7, 8, 9, 10, 11, 12, 13, 14, 15, 16, 17, 18, 19, 20, 21, 22, 23, 24, 25, 26, 27, 28, 29, 30, 31, 32, 33, 34, 35, 36, 37, 38, 39, 40, 41, 42, 43, 44, 45, 46, 47, 48, 49, 50, 51, 52, 53, 54, 55, 56, 57, 58, 59, 60, 61, 62, 63, 64, 65, 66, 67, 68, 69, 70, 71, 72, 73, 74, 75, 76, 77, 78, 79, 80, 81, 82, 83, 84, 85, 86, 87, 88, 89, 90, 91, 92, 93, 94, 95, 96, 97, 98], \"y\": [0.0023077223080823126, 0.0015384815387215417, 0.0015384815387215417, 0.004615444616164625, 0.0005263257896636879, 0.0021053031586547514, 0.0027273327285927563, 0.0014815214825615107, 0.0027587006919752395, 0.0010811210825611359, 0.002368511056051709, 0.003043618267309862, 0.0038890989002295013, 0.0009722922272625852, 0.002631778962569576, 0.0020432007703598152, 0.00311353758215352, 0.002824797529392381, 0.002468744492009484, 0.0022684813224899654, 0.0022128894935565173, 0.0020234309022551696, 0.0025589097667235044, 0.0024184627380190566, 0.002297974185574679, 0.0024961596127742905, 0.002497187350326437, 0.0019692809558902596, 0.0025855591228381852, 0.00207943448570288, 0.0023187717493980448, 0.0023197926404481227, 0.0025053688355299412, 0.002224810333708662, 0.001938258852974017, 0.001614267714060325, 0.001505545951087497, 0.0014051053534055336, 0.0013220446130734582, 0.0011721248712515018, 0.0009940021210368083, 0.0010203304289935996, 0.0008875796582843838, 0.0008067337886950387, 0.0007104388425181546, 0.0007751681018326095, 0.0006243568262671373, 0.0007186104878440789, 0.0007234434854867655, 0.0006891539695268645, 0.000561979284846181, 0.0006122612075161424, 0.0006112684555451942, 0.0005465555734091577, 0.00042611562076374495, 0.0006092001334531219, 0.0005316944289731212, 0.0005132426547996405, 0.0005476958827029358, 0.0005330849268140144, 0.0005015497472867456, 0.0006760731304876592, 0.0005095286801700547, 0.0003814918489952669, 0.0004764806529080972, 0.0003109561990738001, 0.0006502053261376327, 0.00048186146774672654, 0.00032513005202080837, 0.0005708622512214929, 0.00042438247045767526, 0.00059876159758949, 0.0004017064506090129, 0.00027155322593261437, 0.0004546354723689836, 0.00044452445884703693, 0.00048492849805066324, 0.0005298813365851357, 0.0004317146846001522, 0.0004098860716745148, 0.00046301296836354615, 0.00041670667050703534, 0.00035297117902080506, 0.0002564302579703781, 0.00044779119603998547, 0.00033900305202752724, 0.00041668666762671274, 0.0004651362799298044, 0.001000040001600064, 0.001111151112551163, 0.000285724286064298, 0.0006250200006400205, 0.00035715285742286503, 0.0011111411119211331, 0.00035715285742286503, 0.0015385015395015657, 0.0, 0.0008333533338133448, 0.00045455545476545944]}, {\"legendgroup\": \"Sim_2\", \"line\": {\"color\": \"red\", \"dash\": \"dot\"}, \"name\": \"I_stoch2\", \"type\": \"scatter\", \"x\": [0, 1, 2, 3, 4, 5, 6, 7, 8, 9, 10, 11, 12, 13, 14, 15, 16, 17, 18, 19, 20, 21, 22, 23, 24, 25, 26, 27, 28, 29, 30, 31, 32, 33, 34, 35, 36, 37, 38, 39, 40, 41, 42, 43, 44, 45, 46, 47, 48, 49, 50, 51, 52, 53, 54, 55, 56, 57, 58, 59, 60, 61, 62, 63, 64, 65, 66, 67, 68, 69, 70, 71, 72, 73, 74, 75, 76, 77, 78, 79, 80, 81, 82, 83, 84, 85, 86, 87, 88, 89, 90, 91, 92, 93, 94, 95, 96, 97, 98], \"y\": [1.3e-05, 1.3e-05, 1.3e-05, 1.9e-05, 1.9e-05, 2.2e-05, 2.7e-05, 2.9e-05, 3.7e-05, 3.8e-05, 4.6e-05, 5.4e-05, 7.2e-05, 7.6e-05, 9.3e-05, 0.000106, 0.000131, 0.000158, 0.000194, 0.000226, 0.000262, 0.000301, 0.000364, 0.000431, 0.000493, 0.000585, 0.000686, 0.000778, 0.000929, 0.001075, 0.001256, 0.001459, 0.001738, 0.002011, 0.00226, 0.002477, 0.002676, 0.002837, 0.002995, 0.003088, 0.003156, 0.003176, 0.003146, 0.003078, 0.00295, 0.002843, 0.002679, 0.002536, 0.0024, 0.002265, 0.002095, 0.001967, 0.001833, 0.001669, 0.001496, 0.001356, 0.001229, 0.001115, 0.001014, 0.000918, 0.000829, 0.000766, 0.000682, 0.000609, 0.000547, 0.000477, 0.000436, 0.0004, 0.000368, 0.00033, 0.000284, 0.000249, 0.000221, 0.000198, 0.00018, 0.000165, 0.000151, 0.000139, 0.000122, 0.000108, 9.6e-05, 8.5e-05, 7.8e-05, 6.7e-05, 5.9e-05, 4.8e-05, 4.3e-05, 4e-05, 3.6e-05, 3.5e-05, 3.2e-05, 2.8e-05, 2.7e-05, 2.8e-05, 2.6e-05, 2.5e-05, 2.4e-05, 2.2e-05, 2.2e-05]}, {\"legendgroup\": \"Sim_2\", \"name\": \"Ip_stoch2\", \"type\": \"bar\", \"x\": [0, 1, 2, 3, 4, 5, 6, 7, 8, 9, 10, 11, 12, 13, 14, 15, 16, 17, 18, 19, 20, 21, 22, 23, 24, 25, 26, 27, 28, 29, 30, 31, 32, 33, 34, 35, 36, 37, 38, 39, 40, 41, 42, 43, 44, 45, 46, 47, 48, 49, 50, 51, 52, 53, 54, 55, 56, 57, 58, 59, 60, 61, 62, 63, 64, 65, 66, 67, 68, 69, 70, 71, 72, 73, 74, 75, 76, 77, 78, 79, 80, 81, 82, 83, 84, 85, 86, 87, 88, 89, 90, 91, 92, 93, 94, 95, 96, 97, 98], \"y\": [0.00013, 2e-05, 2e-05, 6e-05, 1e-05, 4e-05, 6e-05, 4e-05, 8e-05, 4e-05, 9e-05, 0.00014, 0.00021, 7e-05, 0.0002, 0.00019, 0.00033, 0.00037, 0.00039, 0.00044, 0.0005, 0.00053, 0.00077, 0.00088, 0.00099, 0.00123, 0.00146, 0.00135, 0.00201, 0.00193, 0.00249, 0.00291, 0.00365, 0.00386, 0.00389, 0.00364, 0.00372, 0.00375, 0.00374, 0.0035, 0.00306, 0.00321, 0.00281, 0.00253, 0.00218, 0.00228, 0.00177, 0.00192, 0.00183, 0.00165, 0.00127, 0.00128, 0.0012, 0.001, 0.00071, 0.00091, 0.00072, 0.00063, 0.00061, 0.00054, 0.00046, 0.00056, 0.00039, 0.00026, 0.00029, 0.00017, 0.00031, 0.00021, 0.00013, 0.00021, 0.00014, 0.00017, 0.0001, 6e-05, 9e-05, 8e-05, 8e-05, 8e-05, 6e-05, 5e-05, 5e-05, 4e-05, 3e-05, 2e-05, 3e-05, 2e-05, 2e-05, 2e-05, 4e-05, 4e-05, 1e-05, 2e-05, 1e-05, 3e-05, 1e-05, 4e-05, 0.0, 2e-05, 1e-05]}, {\"legendgroup\": \"Sim_3\", \"line\": {\"color\": \"yellow\", \"dash\": \"dot\"}, \"name\": \"Beta_meas3\", \"type\": \"scatter\", \"x\": [0, 1, 2, 3, 4, 5, 6, 7, 8, 9, 10, 11, 12, 13, 14, 15, 16, 17, 18, 19, 20, 21, 22, 23, 24, 25, 26, 27, 28, 29, 30, 31, 32, 33, 34, 35, 36, 37, 38, 39, 40, 41, 42, 43, 44, 45, 46, 47, 48, 49, 50, 51, 52, 53, 54, 55, 56, 57, 58, 59, 60, 61, 62, 63, 64, 65, 66, 67, 68, 69, 70, 71, 72, 73, 74, 75, 76, 77, 78, 79, 80, 81, 82, 83, 84, 85, 86, 87, 88, 89, 90, 91, 92, 93, 94, 95, 96, 97, 98], \"y\": [0.0009091009092009103, 0.0018182018184018207, 0.0038462038468038548, 0.002222262222942235, 0.0019048019056019225, 0.0016667066676266896, 0.0033334233357633987, 0.0017647658843930106, 0.0035136435183236916, 0.002916806673386989, 0.0023334733417338374, 0.002083483344134111, 0.0017074570846516736, 0.0015218791433159679, 0.0022224422440043786, 0.0021554224427964676, 0.003053835166910682, 0.00220160791729407, 0.002283028772946396, 0.002429081535693924, 0.0021917851978456157, 0.0026198178454941946, 0.0029153060714107084, 0.0024834960500030472, 0.002199130362813419, 0.002585990365755987, 0.0022909570040835366, 0.0022817468153958497, 0.0024451797057043305, 0.002384509449546198, 0.002440527517094187, 0.002463260445385719, 0.0024200120666355712, 0.001957429381877828, 0.001958557883646851, 0.001642492928318379, 0.0015082260827306692, 0.0013724392554999465, 0.0013529635670290268, 0.0012069845142196514, 0.001000044080551257, 0.0011064701004202325, 0.0009468259453779324, 0.000807232887394342, 0.0007896564590855088, 0.0007558988131182368, 0.0007159430265557607, 0.0005672167633479858, 0.0006569110112022521, 0.0006827044735522903, 0.0006575726584764928, 0.0005593089074350502, 0.0006154146912458807, 0.0005731596009213367, 0.0005873900740855476, 0.0005188036130171396, 0.00044754844490298715, 0.0005867557008649529, 0.0004922321423173283, 0.0005281876591190647, 0.0006495552150069586, 0.0005848732323049459, 0.0004736088806144899, 0.0005025396590350872, 0.0005361947161799831, 0.0005655709398556077, 0.00043857726062944527, 0.0004806795718440228, 0.0004400095795626332, 0.0005680757371180343, 0.0005032682329636944, 0.0004224123077607145, 0.00028651623168532436, 0.0004608746697992264, 0.0003471131894551898, 0.000479592095686461, 0.000562389030852618, 0.0005070224662714943, 0.00046641126089666914, 0.0005203212294455264, 0.0005807351752424852, 0.0003571928641438373, 0.00023812524187571442, 0.0002678871462175193, 0.0002062055689504975, 0.0008140234943926107, 0.00039476684438543647, 0.0007463186600666423, 0.00047622047808059526, 0.00017544859706126054, 0.000200010000500025, 0.0, 0.0006060806067206279, 0.0006451812909426, 0.00037038037064037767, 0.0004762004764004806, 0.0, 0.002000030000450007, 0.0006250100001600026]}, {\"legendgroup\": \"Sim_3\", \"line\": {\"color\": \"red\", \"dash\": \"dot\"}, \"name\": \"I_stoch3\", \"type\": \"scatter\", \"x\": [0, 1, 2, 3, 4, 5, 6, 7, 8, 9, 10, 11, 12, 13, 14, 15, 16, 17, 18, 19, 20, 21, 22, 23, 24, 25, 26, 27, 28, 29, 30, 31, 32, 33, 34, 35, 36, 37, 38, 39, 40, 41, 42, 43, 44, 45, 46, 47, 48, 49, 50, 51, 52, 53, 54, 55, 56, 57, 58, 59, 60, 61, 62, 63, 64, 65, 66, 67, 68, 69, 70, 71, 72, 73, 74, 75, 76, 77, 78, 79, 80, 81, 82, 83, 84, 85, 86, 87, 88, 89, 90, 91, 92, 93, 94, 95, 96, 97, 98], \"y\": [1.1e-05, 1.3e-05, 1.8e-05, 2.1e-05, 2.4e-05, 2.7e-05, 3.4e-05, 3.7e-05, 4.8e-05, 6e-05, 7.2e-05, 8.2e-05, 9.2e-05, 9.9e-05, 0.000116, 0.000131, 0.000159, 0.000184, 0.00021, 0.000251, 0.000294, 0.00035, 0.000427, 0.000505, 0.000592, 0.000712, 0.000829, 0.000962, 0.001142, 0.001354, 0.001598, 0.001892, 0.002217, 0.002503, 0.002833, 0.003106, 0.003341, 0.003553, 0.003759, 0.003895, 0.003947, 0.004019, 0.00398, 0.003903, 0.003798, 0.003673, 0.003503, 0.003299, 0.003115, 0.002959, 0.002779, 0.002574, 0.002396, 0.002201, 0.002028, 0.001858, 0.001673, 0.001526, 0.001384, 0.001264, 0.001164, 0.001078, 0.000976, 0.000896, 0.000814, 0.000753, 0.000687, 0.000614, 0.000546, 0.000497, 0.00045, 0.000419, 0.000369, 0.000317, 0.000292, 0.000249, 0.000217, 0.000193, 0.000173, 0.000155, 0.00014, 0.000126, 0.000112, 9.7e-05, 8.6e-05, 7.6e-05, 6.7e-05, 6.3e-05, 5.7e-05, 5e-05, 4.2e-05, 3.3e-05, 3.1e-05, 2.7e-05, 2.1e-05, 1.9e-05, 1.5e-05, 1.6e-05, 1.3e-05]}, {\"legendgroup\": \"Sim_3\", \"name\": \"Ip_stoch3\", \"type\": \"bar\", \"x\": [0, 1, 2, 3, 4, 5, 6, 7, 8, 9, 10, 11, 12, 13, 14, 15, 16, 17, 18, 19, 20, 21, 22, 23, 24, 25, 26, 27, 28, 29, 30, 31, 32, 33, 34, 35, 36, 37, 38, 39, 40, 41, 42, 43, 44, 45, 46, 47, 48, 49, 50, 51, 52, 53, 54, 55, 56, 57, 58, 59, 60, 61, 62, 63, 64, 65, 66, 67, 68, 69, 70, 71, 72, 73, 74, 75, 76, 77, 78, 79, 80, 81, 82, 83, 84, 85, 86, 87, 88, 89, 90, 91, 92, 93, 94, 95, 96, 97, 98], \"y\": [0.00011, 2e-05, 5e-05, 4e-05, 4e-05, 4e-05, 9e-05, 6e-05, 0.00013, 0.00014, 0.00014, 0.00015, 0.00014, 0.00014, 0.00022, 0.00025, 0.0004, 0.00035, 0.00042, 0.00051, 0.00055, 0.00077, 0.00102, 0.00106, 0.00111, 0.00153, 0.00163, 0.00189, 0.00235, 0.00272, 0.0033, 0.00393, 0.00457, 0.00433, 0.00489, 0.00464, 0.00467, 0.00457, 0.00479, 0.00452, 0.00388, 0.00435, 0.00379, 0.0032, 0.00307, 0.00286, 0.00262, 0.00198, 0.00216, 0.00212, 0.00194, 0.00155, 0.00158, 0.00137, 0.00129, 0.00105, 0.00083, 0.00098, 0.00075, 0.00073, 0.00082, 0.00068, 0.00051, 0.00049, 0.00048, 0.00046, 0.00033, 0.00033, 0.00027, 0.00031, 0.00025, 0.00019, 0.00012, 0.00017, 0.00011, 0.00014, 0.00014, 0.00011, 9e-05, 9e-05, 9e-05, 5e-05, 3e-05, 3e-05, 2e-05, 7e-05, 3e-05, 5e-05, 3e-05, 1e-05, 1e-05, 0.0, 2e-05, 2e-05, 1e-05, 1e-05, 0.0, 3e-05, 1e-05]}, {\"legendgroup\": \"Sim_4\", \"line\": {\"color\": \"yellow\", \"dash\": \"dot\"}, \"name\": \"Beta_meas4\", \"type\": \"scatter\", \"x\": [0, 1, 2, 3, 4, 5, 6, 7, 8, 9, 10, 11, 12, 13, 14, 15, 16, 17, 18, 19, 20, 21, 22, 23, 24, 25, 26, 27, 28, 29, 30, 31, 32, 33, 34, 35, 36, 37, 38, 39, 40, 41, 42, 43, 44, 45, 46, 47, 48, 49, 50, 51, 52, 53, 54, 55, 56, 57, 58, 59, 60, 61, 62, 63, 64, 65, 66, 67, 68, 69, 70, 71, 72, 73, 74, 75, 76, 77, 78, 79, 80, 81, 82, 83, 84, 85, 86, 87, 88, 89, 90, 91, 92, 93, 94, 95, 96, 97, 98], \"y\": [0.0025000300003600044, 0.0033333733338133387, 0.005000080001280021, 0.0017391704357026297, 0.0011111411119211331, 0.0020000600018000537, 0.002500090003240117, 0.0029546754602657065, 0.0009091409118410602, 0.0016950152601376363, 0.0029689400121607787, 0.0025318455854215012, 0.0025277025484044323, 0.0024076674354904406, 0.0015750031750095257, 0.002374430765300837, 0.00277822785068959, 0.002488062289574931, 0.0025108982141096503, 0.0031019355516705765, 0.002078312597717582, 0.0022613626350347195, 0.002067796319948738, 0.002882304801070712, 0.0021239919521107305, 0.0022556273546805077, 0.002578220046620321, 0.0023210300020876347, 0.002593614361379226, 0.002683443637436732, 0.002731475729259156, 0.002340611590033325, 0.0021527938004797277, 0.002159618359979371, 0.0018603954781841656, 0.0016861121565675578, 0.001611548223641722, 0.0013108518862324128, 0.0012617823852924398, 0.001232988106329579, 0.0010448806074637316, 0.0009903274727456782, 0.0008732493001003889, 0.0007936570248730838, 0.0007583328224496062, 0.0008557669106111502, 0.0006403711321451963, 0.0006759284493115804, 0.0006811469105201079, 0.0006502632407610113, 0.0005797299816600752, 0.0005874369873107158, 0.000643328274143622, 0.0005867059737305736, 0.0005194962278553076, 0.0005428816957391408, 0.0005726389453892648, 0.0005406973830945836, 0.0005173718976321775, 0.0005537172172194748, 0.0005351065399229937, 0.0005132358421726879, 0.0005442901775386653, 0.0004835115883418284, 0.0005485458631996556, 0.0003968325150086348, 0.0005443306194686074, 0.0004818717976375679, 0.000500370274002762, 0.0005360745277969653, 0.00046652812261445273, 0.00042773941748690535, 0.0005374502085455641, 0.0006252701166904103, 0.0005972550218919349, 0.00046848962096105893, 0.0006155846804057473, 0.0005784013425117053, 0.0004983606799204527, 0.0006441094388312453, 0.0004220409519756604, 0.000666806696072842, 0.00045694280961166607, 0.00034688081963035093, 0.0007844337438530056, 0.00020836333765395548, 0.0006015837700399115, 0.0003390230555680147, 0.00037041037469083695, 0.0007778477840783449, 0.0003896403919205675, 0.0005714685742287674, 0.00046878000192012294, 0.00015874015936019845, 0.0006780061040550545, 0.0007143257165258398, 0.0003773784916260939, 0.0006522039144235417, 0.000750030001200048]}, {\"legendgroup\": \"Sim_4\", \"line\": {\"color\": \"red\", \"dash\": \"dot\"}, \"name\": \"I_stoch4\", \"type\": \"scatter\", \"x\": [0, 1, 2, 3, 4, 5, 6, 7, 8, 9, 10, 11, 12, 13, 14, 15, 16, 17, 18, 19, 20, 21, 22, 23, 24, 25, 26, 27, 28, 29, 30, 31, 32, 33, 34, 35, 36, 37, 38, 39, 40, 41, 42, 43, 44, 45, 46, 47, 48, 49, 50, 51, 52, 53, 54, 55, 56, 57, 58, 59, 60, 61, 62, 63, 64, 65, 66, 67, 68, 69, 70, 71, 72, 73, 74, 75, 76, 77, 78, 79, 80, 81, 82, 83, 84, 85, 86, 87, 88, 89, 90, 91, 92, 93, 94, 95, 96, 97, 98], \"y\": [1.2e-05, 1.6e-05, 2.3e-05, 2.7e-05, 3e-05, 3.6e-05, 4.4e-05, 5.5e-05, 5.9e-05, 6.4e-05, 7.9e-05, 9.1e-05, 0.000108, 0.000127, 0.000139, 0.000162, 0.000201, 0.000243, 0.000287, 0.000361, 0.000407, 0.000479, 0.000545, 0.000669, 0.000772, 0.000889, 0.001061, 0.001216, 0.001448, 0.001731, 0.002085, 0.00244, 0.0028, 0.003241, 0.003625, 0.004006, 0.004352, 0.004602, 0.004841, 0.00505, 0.005146, 0.00518, 0.005142, 0.005063, 0.004885, 0.00477, 0.004503, 0.004261, 0.00403, 0.003792, 0.003502, 0.003275, 0.003026, 0.002799, 0.002567, 0.002328, 0.00215, 0.001956, 0.001773, 0.001591, 0.001483, 0.001343, 0.001201, 0.001095, 0.001009, 0.000901, 0.00081, 0.00074, 0.000672, 0.000622, 0.000538, 0.000484, 0.000432, 0.000402, 0.000363, 0.000325, 0.000294, 0.000281, 0.000264, 0.000237, 0.00021, 0.000197, 0.000173, 0.000153, 0.000144, 0.000133, 0.000118, 0.000108, 9e-05, 7.7e-05, 7e-05, 6.4e-05, 6.3e-05, 5.9e-05, 5.6e-05, 5.3e-05, 4.6e-05, 4e-05, 3.8e-05]}, {\"legendgroup\": \"Sim_4\", \"name\": \"Ip_stoch4\", \"type\": \"bar\", \"x\": [0, 1, 2, 3, 4, 5, 6, 7, 8, 9, 10, 11, 12, 13, 14, 15, 16, 17, 18, 19, 20, 21, 22, 23, 24, 25, 26, 27, 28, 29, 30, 31, 32, 33, 34, 35, 36, 37, 38, 39, 40, 41, 42, 43, 44, 45, 46, 47, 48, 49, 50, 51, 52, 53, 54, 55, 56, 57, 58, 59, 60, 61, 62, 63, 64, 65, 66, 67, 68, 69, 70, 71, 72, 73, 74, 75, 76, 77, 78, 79, 80, 81, 82, 83, 84, 85, 86, 87, 88, 89, 90, 91, 92, 93, 94, 95, 96, 97, 98], \"y\": [0.00013, 4e-05, 8e-05, 4e-05, 3e-05, 6e-05, 9e-05, 0.00013, 5e-05, 0.0001, 0.00019, 0.0002, 0.00023, 0.00026, 0.0002, 0.00033, 0.00045, 0.0005, 0.00061, 0.00089, 0.00075, 0.00092, 0.00099, 0.00157, 0.00142, 0.00174, 0.00229, 0.00246, 0.00315, 0.00388, 0.00472, 0.00487, 0.00524, 0.00603, 0.00601, 0.00609, 0.00643, 0.00568, 0.00578, 0.00594, 0.00525, 0.00507, 0.0045, 0.00406, 0.00382, 0.00416, 0.00304, 0.00303, 0.00289, 0.00261, 0.00219, 0.00205, 0.0021, 0.00177, 0.00145, 0.00139, 0.00133, 0.00116, 0.00101, 0.00098, 0.00085, 0.00076, 0.00073, 0.00058, 0.0006, 0.0004, 0.00049, 0.00039, 0.00037, 0.00036, 0.00029, 0.00023, 0.00026, 0.00027, 0.00024, 0.00017, 0.0002, 0.00017, 0.00014, 0.00017, 0.0001, 0.00014, 9e-05, 6e-05, 0.00012, 3e-05, 8e-05, 4e-05, 4e-05, 7e-05, 3e-05, 4e-05, 3e-05, 1e-05, 4e-05, 4e-05, 2e-05, 3e-05, 3e-05]}, {\"legendgroup\": \"Sim_5\", \"line\": {\"color\": \"yellow\", \"dash\": \"dot\"}, \"name\": \"Beta_meas5\", \"type\": \"scatter\", \"x\": [0, 1, 2, 3, 4, 5, 6, 7, 8, 9, 10, 11, 12, 13, 14, 15, 16, 17, 18, 19, 20, 21, 22, 23, 24, 25, 26, 27, 28, 29, 30, 31, 32, 33, 34, 35, 36, 37, 38, 39, 40, 41, 42, 43, 44, 45, 46, 47, 48, 49, 50, 51, 52, 53, 54, 55, 56, 57, 58, 59, 60, 61, 62, 63, 64, 65, 66, 67, 68, 69, 70, 71, 72, 73, 74, 75, 76, 77, 78, 79, 80, 81, 82, 83, 84, 85, 86, 87, 88, 89, 90, 91, 92, 93, 94, 95, 96, 97, 98], \"y\": [0.0033333833340833453, 0.004666736667716683, 0.0013636663642963781, 0.002083383334533362, 0.0014815214825615107, 0.0023334033354333963, 0.0032354041213871858, 0.003181958187978453, 0.0027274227355231807, 0.002794307659979702, 0.002683146847309772, 0.0029002900290029006, 0.0029271893125781302, 0.002585414069473655, 0.0025993301379315893, 0.003269910910700195, 0.0026242643260044308, 0.0025320602592829706, 0.002593572963172672, 0.0026443723512148526, 0.0021663182581295798, 0.0028544857387038003, 0.0021756143739186653, 0.0021100795024486443, 0.002120743955929096, 0.0023032225340058397, 0.002288838550335494, 0.002162893071839838, 0.0025862804952416795, 0.0022677446188322176, 0.0025024028760279923, 0.0024658941020444963, 0.0023099708214714488, 0.002074288400901535, 0.001864543025485044, 0.0017195035842937326, 0.0015056538193926666, 0.0014226971206382957, 0.001256030447884701, 0.0011675249120807183, 0.001053713878431223, 0.0010255242025596681, 0.0008878913228824535, 0.0007783051980962669, 0.0007131082438780218, 0.0007334355692257505, 0.0007019245422411423, 0.00064337860577898, 0.0006725018217281463, 0.0006460503016718963, 0.0005806527421691218, 0.0006537684516153912, 0.0005779503874698957, 0.0005229193936095981, 0.0005023425403501062, 0.0005575627815692047, 0.0005684430887339445, 0.0005700664254316025, 0.0005615442466783655, 0.000523433661737251, 0.0005307702452344833, 0.000496939702741892, 0.0006078567828382428, 0.0004226341166602344, 0.0005388260286696018, 0.0005513861606502687, 0.00047896671695907, 0.000535190265046507, 0.00042580988644035366, 0.0006281509775382775, 0.00045893566891552144, 0.0004422694693389083, 0.00043754576296427733, 0.0005291116028975217, 0.00028928574627731443, 0.00031083969409294326, 0.0005288744702429705, 0.000530340573265616, 0.0004268267266891751, 0.0005936718775117423, 0.00044080800446301156, 0.0007907138846048999, 0.0005933603720308502, 0.00027528937088101715, 0.0005103041012364955, 0.0005682818357849164, 0.00033562047724976793, 0.00037598985627494474, 0.0006838406931217791, 0.00045050045600106655, 0.0003030603060005971, 0.00045981011842283155, 0.00025976026128037835, 0.00015626000064004094, 0.00018182818236821207, 0.0013044078288470835, 0.0002127759579168306, 0.0009524209540610229, 0.0005405605412805679]}, {\"legendgroup\": \"Sim_5\", \"line\": {\"color\": \"red\", \"dash\": \"dot\"}, \"name\": \"I_stoch5\", \"type\": \"scatter\", \"x\": [0, 1, 2, 3, 4, 5, 6, 7, 8, 9, 10, 11, 12, 13, 14, 15, 16, 17, 18, 19, 20, 21, 22, 23, 24, 25, 26, 27, 28, 29, 30, 31, 32, 33, 34, 35, 36, 37, 38, 39, 40, 41, 42, 43, 44, 45, 46, 47, 48, 49, 50, 51, 52, 53, 54, 55, 56, 57, 58, 59, 60, 61, 62, 63, 64, 65, 66, 67, 68, 69, 70, 71, 72, 73, 74, 75, 76, 77, 78, 79, 80, 81, 82, 83, 84, 85, 86, 87, 88, 89, 90, 91, 92, 93, 94, 95, 96, 97, 98], \"y\": [1.5e-05, 2.2e-05, 2.4e-05, 2.7e-05, 3e-05, 3.4e-05, 4.4e-05, 5.5e-05, 6.8e-05, 8.2e-05, 0.0001, 0.000123, 0.000147, 0.000177, 0.000208, 0.000263, 0.00032, 0.000378, 0.000454, 0.000545, 0.000638, 0.000782, 0.000906, 0.001029, 0.001178, 0.001365, 0.001593, 0.00184, 0.002192, 0.002536, 0.00301, 0.003532, 0.004105, 0.004688, 0.00525, 0.005812, 0.006274, 0.006725, 0.00703, 0.007275, 0.007427, 0.007478, 0.007365, 0.007161, 0.006892, 0.006698, 0.006398, 0.006059, 0.005682, 0.005298, 0.004888, 0.004554, 0.004225, 0.003897, 0.0036, 0.003336, 0.003044, 0.00275, 0.002509, 0.002266, 0.002077, 0.001912, 0.001754, 0.00158, 0.001453, 0.001338, 0.001216, 0.001105, 0.000988, 0.000916, 0.000792, 0.000709, 0.000643, 0.000588, 0.000515, 0.000454, 0.000415, 0.000375, 0.000337, 0.000295, 0.000253, 0.000236, 0.000218, 0.000196, 0.000176, 0.000149, 0.000133, 0.000117, 0.000111, 9.9e-05, 8.7e-05, 7.7e-05, 6.4e-05, 5.5e-05, 4.6e-05, 4.7e-05, 4.2e-05, 3.7e-05, 3.3e-05]}, {\"legendgroup\": \"Sim_5\", \"name\": \"Ip_stoch5\", \"type\": \"bar\", \"x\": [0, 1, 2, 3, 4, 5, 6, 7, 8, 9, 10, 11, 12, 13, 14, 15, 16, 17, 18, 19, 20, 21, 22, 23, 24, 25, 26, 27, 28, 29, 30, 31, 32, 33, 34, 35, 36, 37, 38, 39, 40, 41, 42, 43, 44, 45, 46, 47, 48, 49, 50, 51, 52, 53, 54, 55, 56, 57, 58, 59, 60, 61, 62, 63, 64, 65, 66, 67, 68, 69, 70, 71, 72, 73, 74, 75, 76, 77, 78, 79, 80, 81, 82, 83, 84, 85, 86, 87, 88, 89, 90, 91, 92, 93, 94, 95, 96, 97, 98], \"y\": [0.00015, 7e-05, 3e-05, 5e-05, 4e-05, 7e-05, 0.00011, 0.00014, 0.00015, 0.00019, 0.00022, 0.00029, 0.00036, 0.00038, 0.00046, 0.00068, 0.00069, 0.00081, 0.00098, 0.0012, 0.00118, 0.00182, 0.0017, 0.00191, 0.00218, 0.00271, 0.00312, 0.00344, 0.00475, 0.00496, 0.00633, 0.0074, 0.00813, 0.00848, 0.0087, 0.00898, 0.0087, 0.00887, 0.00839, 0.00815, 0.00761, 0.00756, 0.00659, 0.00569, 0.00507, 0.00502, 0.00467, 0.00409, 0.00405, 0.00365, 0.00306, 0.00318, 0.00262, 0.0022, 0.00195, 0.002, 0.00189, 0.00173, 0.00154, 0.00131, 0.0012, 0.00103, 0.00116, 0.00074, 0.00085, 0.0008, 0.00064, 0.00065, 0.00047, 0.00062, 0.00042, 0.00035, 0.00031, 0.00034, 0.00017, 0.00016, 0.00024, 0.00022, 0.00016, 0.0002, 0.00013, 0.0002, 0.00014, 6e-05, 0.0001, 0.0001, 5e-05, 5e-05, 8e-05, 5e-05, 3e-05, 4e-05, 2e-05, 1e-05, 1e-05, 6e-05, 1e-05, 4e-05, 2e-05]}, {\"legendgroup\": \"Sim_6\", \"line\": {\"color\": \"yellow\", \"dash\": \"dot\"}, \"name\": \"Beta_meas6\", \"type\": \"scatter\", \"x\": [0, 1, 2, 3, 4, 5, 6, 7, 8, 9, 10, 11, 12, 13, 14, 15, 16, 17, 18, 19, 20, 21, 22, 23, 24, 25, 26, 27, 28, 29, 30, 31, 32, 33, 34, 35, 36, 37, 38, 39, 40, 41, 42, 43, 44, 45, 46, 47, 48, 49, 50, 51, 52, 53, 54, 55, 56, 57, 58, 59, 60, 61, 62, 63, 64, 65, 66, 67, 68, 69, 70, 71, 72, 73, 74, 75, 76, 77, 78, 79, 80, 81, 82, 83, 84, 85, 86, 87, 88, 89, 90, 91, 92, 93, 94, 95, 96, 97, 98], \"y\": [0.0009091009092009103, 0.0027273027276027307, 0.0, 0.0014285914288514326, 0.0006250100001600026, 0.00411771706001355, 0.002608755653553945, 0.0027587006919752395, 0.0030304030336031395, 0.00250010000400016, 0.00200010000500025, 0.0033335233441639505, 0.0020549445314987447, 0.0019513795253161981, 0.0021980022160038542, 0.0018448502137467732, 0.0030438283011241947, 0.0028173014652587707, 0.002442280537368706, 0.0022004400880176037, 0.002128159691995704, 0.0019634931061016108, 0.002033407074403595, 0.002145667791619993, 0.0026561572800190836, 0.002609073493534678, 0.002475667642691758, 0.002598654877944906, 0.002230715431987605, 0.0026070948931781295, 0.0023970892906172397, 0.0025629684391059683, 0.0023845033644973, 0.002040894327315664, 0.0019324209151571012, 0.0016269205057060539, 0.0015051510334519011, 0.0013221601431597525, 0.0013082183702999102, 0.0011509914960809047, 0.001076111794200646, 0.0009148797860924307, 0.0008721863676162279, 0.0008612486038467003, 0.0008091330004519118, 0.0007748215878049211, 0.0006853471274163345, 0.0007111564581442996, 0.0006408525073446897, 0.0006445244280953691, 0.0005392205577621959, 0.0006604938188064975, 0.0005405520818038843, 0.0006293931959775833, 0.0005765234110634612, 0.0005167079985700623, 0.0006319164140146359, 0.0005677711076119263, 0.0005550747411802492, 0.0006146543184598236, 0.0004709238958938101, 0.0003693124306385091, 0.0005834801055097199, 0.0004175181914364502, 0.00042438683416291405, 0.0006010008671781412, 0.0006059348743260528, 0.00048327551774071404, 0.00045931195161510443, 0.0005326375068103494, 0.0005183347922557175, 0.0005100950777267436, 0.0004924677443245978, 0.0005407005879145632, 0.0004136438638542514, 0.000595884713758797, 0.00046521630057439096, 0.0003553999630312959, 0.0004945955108884762, 0.00041427119526395227, 0.0006081981214300799, 0.0007353941312489088, 0.0008944189566210953, 0.00043864649692872, 0.0007208007296017065, 0.0003773984948064872, 0.0003191789389904779, 0.00023257814125503165, 0.00012049192854091227, 0.0, 0.0005000300018001081, 0.00019608843188257506, 0.00027778777813779074, 0.0006666866672666848, 0.0004000100002500063, 0.0, 0.0, 0.00176473588286295, 0.0]}, {\"legendgroup\": \"Sim_6\", \"line\": {\"color\": \"red\", \"dash\": \"dot\"}, \"name\": \"I_stoch6\", \"type\": \"scatter\", \"x\": [0, 1, 2, 3, 4, 5, 6, 7, 8, 9, 10, 11, 12, 13, 14, 15, 16, 17, 18, 19, 20, 21, 22, 23, 24, 25, 26, 27, 28, 29, 30, 31, 32, 33, 34, 35, 36, 37, 38, 39, 40, 41, 42, 43, 44, 45, 46, 47, 48, 49, 50, 51, 52, 53, 54, 55, 56, 57, 58, 59, 60, 61, 62, 63, 64, 65, 66, 67, 68, 69, 70, 71, 72, 73, 74, 75, 76, 77, 78, 79, 80, 81, 82, 83, 84, 85, 86, 87, 88, 89, 90, 91, 92, 93, 94, 95, 96, 97, 98], \"y\": [1.1e-05, 1.4e-05, 1.4e-05, 1.6e-05, 1.7e-05, 2.3e-05, 2.9e-05, 3.3e-05, 4e-05, 5e-05, 5.7e-05, 7.3e-05, 8.2e-05, 9.1e-05, 0.000103, 0.000115, 0.000142, 0.000172, 0.0002, 0.000235, 0.00027, 0.000305, 0.000345, 0.000403, 0.000487, 0.000582, 0.000697, 0.000839, 0.000956, 0.001136, 0.001344, 0.001613, 0.00189, 0.002147, 0.00244, 0.002678, 0.00289, 0.003067, 0.00326, 0.003366, 0.003433, 0.00344, 0.003402, 0.003373, 0.003276, 0.003147, 0.00299, 0.002801, 0.002629, 0.002454, 0.002261, 0.002132, 0.00199, 0.001842, 0.001706, 0.001585, 0.001464, 0.001353, 0.001238, 0.001148, 0.00103, 0.000892, 0.000815, 0.000731, 0.000666, 0.000611, 0.000559, 0.000501, 0.000432, 0.000386, 0.000353, 0.000325, 0.000296, 0.000266, 0.000235, 0.000215, 0.000197, 0.000182, 0.000169, 0.000148, 0.000136, 0.000123, 0.000114, 0.000111, 0.000106, 9.4e-05, 8.6e-05, 8.3e-05, 7.4e-05, 6e-05, 5.1e-05, 3.6e-05, 3e-05, 2.5e-05, 2e-05, 1.8e-05, 1.7e-05, 1.4e-05, 1.1e-05]}, {\"legendgroup\": \"Sim_6\", \"name\": \"Ip_stoch6\", \"type\": \"bar\", \"x\": [0, 1, 2, 3, 4, 5, 6, 7, 8, 9, 10, 11, 12, 13, 14, 15, 16, 17, 18, 19, 20, 21, 22, 23, 24, 25, 26, 27, 28, 29, 30, 31, 32, 33, 34, 35, 36, 37, 38, 39, 40, 41, 42, 43, 44, 45, 46, 47, 48, 49, 50, 51, 52, 53, 54, 55, 56, 57, 58, 59, 60, 61, 62, 63, 64, 65, 66, 67, 68, 69, 70, 71, 72, 73, 74, 75, 76, 77, 78, 79, 80, 81, 82, 83, 84, 85, 86, 87, 88, 89, 90, 91, 92, 93, 94, 95, 96, 97, 98], \"y\": [0.00011, 3e-05, 0.0, 2e-05, 1e-05, 7e-05, 6e-05, 8e-05, 0.0001, 0.0001, 0.0001, 0.00019, 0.00015, 0.00016, 0.0002, 0.00019, 0.00035, 0.0004, 0.00042, 0.00044, 0.0005, 0.00053, 0.00062, 0.00074, 0.00107, 0.00127, 0.00144, 0.00181, 0.00187, 0.00249, 0.00272, 0.00344, 0.00384, 0.00385, 0.00414, 0.00396, 0.00402, 0.00381, 0.004, 0.00374, 0.00361, 0.00313, 0.00299, 0.00292, 0.00272, 0.00253, 0.00215, 0.00212, 0.00179, 0.00169, 0.00132, 0.00149, 0.00115, 0.00125, 0.00106, 0.00088, 0.001, 0.00083, 0.00075, 0.00076, 0.00054, 0.00038, 0.00052, 0.00034, 0.00031, 0.0004, 0.00037, 0.00027, 0.00023, 0.00023, 0.0002, 0.00018, 0.00016, 0.00016, 0.00011, 0.00014, 0.0001, 7e-05, 9e-05, 7e-05, 9e-05, 0.0001, 0.00011, 5e-05, 8e-05, 4e-05, 3e-05, 2e-05, 1e-05, 0.0, 3e-05, 1e-05, 1e-05, 2e-05, 1e-05, 0.0, 0.0, 3e-05, 0.0]}, {\"legendgroup\": \"Sim_7\", \"line\": {\"color\": \"yellow\", \"dash\": \"dot\"}, \"name\": \"Beta_meas7\", \"type\": \"scatter\", \"x\": [0, 1, 2, 3, 4, 5, 6, 7, 8, 9, 10, 11, 12, 13, 14, 15, 16, 17, 18, 19, 20, 21, 22, 23, 24, 25, 26, 27, 28, 29, 30, 31, 32, 33, 34, 35, 36, 37, 38, 39, 40, 41, 42, 43, 44, 45, 46, 47, 48, 49, 50, 51, 52, 53, 54, 55, 56, 57, 58, 59, 60, 61, 62, 63, 64, 65, 66, 67, 68, 69, 70, 71, 72, 73, 74, 75, 76, 77, 78, 79, 80, 81, 82, 83, 84, 85, 86, 87, 88, 89, 90, 91, 92, 93, 94, 95, 96, 97, 98], \"y\": [0.0033333833340833453, 0.004666736667716683, 0.0009091109095309189, 0.003750090002160052, 0.002500080002560082, 0.0030770430816032595, 0.0021569727507083254, 0.002459166402593181, 0.002876922344098243, 0.003033977889200678, 0.002612902644806186, 0.003111531167818767, 0.0026320290243315816, 0.0027967986553219604, 0.0020838834785716766, 0.002369141271578139, 0.0025221367732044544, 0.0023750911324266826, 0.0026613306653326665, 0.0023729068163757805, 0.0022678900822394213, 0.0022836269800599533, 0.0025507593029259145, 0.0024689896721882673, 0.0023201171644514676, 0.0023886552441883565, 0.00238443374995567, 0.00264289239479842, 0.002562011825355451, 0.0024485099523654202, 0.0026238737886447924, 0.0023090644636248677, 0.0023059491028601946, 0.002150949874050782, 0.0019616746952330092, 0.0017310106827505057, 0.0014936925065155377, 0.0013813030990809786, 0.0012647016463202651, 0.001145536616302965, 0.001028488899784899, 0.0009916327352942193, 0.0008851928956337688, 0.0008204841371444579, 0.0007725113063737167, 0.0007604931439843414, 0.0007049161606796513, 0.0006937797789666155, 0.0006411376700010313, 0.00065274515821809, 0.0005696732884923968, 0.0005785258989934016, 0.0005757875928035129, 0.0006226937286883386, 0.0005319355720007372, 0.0005334358762702996, 0.0005677772716379785, 0.000540649843057757, 0.0005396158422206685, 0.0005358816863942619, 0.0005886172736936314, 0.00048683660793032006, 0.0004914538745920831, 0.00045406301964786726, 0.0006033993784433583, 0.0005655718515771182, 0.0005458298361976366, 0.0005932969547372567, 0.0005067450902699093, 0.0005307471444036801, 0.00048049696306699466, 0.000505226450161774, 0.0004754064147730349, 0.00037792138336385984, 0.0006319020980628983, 0.000600480384307446, 0.0005024055510458019, 0.0006802086062544401, 0.00031064763269107623, 0.00046150474811960636, 0.0003895343550603515, 0.00036545687376367654, 0.0004093672237097902, 0.00039120150265191584, 0.0004855869395682101, 0.0005556955908444484, 0.0007174696183586226, 0.000368743611833814, 0.00046884001728331843, 0.0005715285889316344, 0.0004459298836031907, 0.0006712409544995359, 0.0006522639254651924, 0.0010001300169021974, 0.0007200900112514064, 0.0008334333453347736, 0.0007080446108109331, 0.00046301296836354615, 0.0002941476501191357]}, {\"legendgroup\": \"Sim_7\", \"line\": {\"color\": \"red\", \"dash\": \"dot\"}, \"name\": \"I_stoch7\", \"type\": \"scatter\", \"x\": [0, 1, 2, 3, 4, 5, 6, 7, 8, 9, 10, 11, 12, 13, 14, 15, 16, 17, 18, 19, 20, 21, 22, 23, 24, 25, 26, 27, 28, 29, 30, 31, 32, 33, 34, 35, 36, 37, 38, 39, 40, 41, 42, 43, 44, 45, 46, 47, 48, 49, 50, 51, 52, 53, 54, 55, 56, 57, 58, 59, 60, 61, 62, 63, 64, 65, 66, 67, 68, 69, 70, 71, 72, 73, 74, 75, 76, 77, 78, 79, 80, 81, 82, 83, 84, 85, 86, 87, 88, 89, 90, 91, 92, 93, 94, 95, 96, 97, 98], \"y\": [1.5e-05, 2.2e-05, 2.4e-05, 3.2e-05, 3.9e-05, 5.1e-05, 6.1e-05, 7.3e-05, 8.9e-05, 0.000111, 0.000135, 0.000171, 0.000211, 0.000264, 0.000304, 0.000353, 0.000417, 0.0005, 0.000603, 0.000706, 0.000802, 0.00093, 0.001111, 0.001312, 0.001522, 0.001794, 0.002112, 0.00252, 0.003015, 0.003534, 0.004223, 0.004929, 0.005775, 0.006656, 0.007538, 0.008324, 0.008978, 0.009556, 0.010026, 0.010256, 0.010425, 0.010492, 0.010432, 0.010201, 0.009921, 0.00951, 0.00915, 0.008701, 0.008171, 0.007713, 0.007173, 0.006679, 0.006189, 0.005729, 0.00522, 0.004796, 0.004403, 0.004019, 0.003671, 0.003341, 0.00307, 0.002775, 0.002517, 0.002259, 0.002073, 0.001909, 0.001756, 0.001601, 0.001434, 0.001292, 0.001189, 0.001095, 0.00098, 0.000887, 0.0008, 0.000737, 0.000662, 0.000612, 0.000542, 0.000488, 0.000438, 0.000391, 0.000358, 0.000309, 0.000252, 0.000237, 0.000217, 0.000192, 0.000175, 0.000157, 0.000149, 0.000138, 0.00013, 0.000125, 0.00012, 0.000113, 0.000108, 0.000102, 8.8e-05]}, {\"legendgroup\": \"Sim_7\", \"name\": \"Ip_stoch7\", \"type\": \"bar\", \"x\": [0, 1, 2, 3, 4, 5, 6, 7, 8, 9, 10, 11, 12, 13, 14, 15, 16, 17, 18, 19, 20, 21, 22, 23, 24, 25, 26, 27, 28, 29, 30, 31, 32, 33, 34, 35, 36, 37, 38, 39, 40, 41, 42, 43, 44, 45, 46, 47, 48, 49, 50, 51, 52, 53, 54, 55, 56, 57, 58, 59, 60, 61, 62, 63, 64, 65, 66, 67, 68, 69, 70, 71, 72, 73, 74, 75, 76, 77, 78, 79, 80, 81, 82, 83, 84, 85, 86, 87, 88, 89, 90, 91, 92, 93, 94, 95, 96, 97, 98], \"y\": [0.00015, 7e-05, 2e-05, 9e-05, 8e-05, 0.00012, 0.00011, 0.00015, 0.00021, 0.00027, 0.00029, 0.00042, 0.00045, 0.00059, 0.00055, 0.00072, 0.00089, 0.00099, 0.00133, 0.00143, 0.0016, 0.00183, 0.00237, 0.00274, 0.00304, 0.00363, 0.00427, 0.00557, 0.00644, 0.00736, 0.00924, 0.00971, 0.01131, 0.01235, 0.01297, 0.01295, 0.01233, 0.01229, 0.01197, 0.01137, 0.01044, 0.01023, 0.00919, 0.00847, 0.0078, 0.00747, 0.00664, 0.00629, 0.00553, 0.00529, 0.00436, 0.00412, 0.00382, 0.00383, 0.00303, 0.00277, 0.00271, 0.00237, 0.00216, 0.00196, 0.00196, 0.00149, 0.00136, 0.00114, 0.00136, 0.00117, 0.00104, 0.00104, 0.00081, 0.00076, 0.00062, 0.0006, 0.00052, 0.00037, 0.00056, 0.00048, 0.00037, 0.00045, 0.00019, 0.00025, 0.00019, 0.00016, 0.00016, 0.00014, 0.00015, 0.00014, 0.00017, 8e-05, 9e-05, 0.0001, 7e-05, 0.0001, 9e-05, 0.00013, 9e-05, 0.0001, 8e-05, 5e-05, 3e-05]}, {\"legendgroup\": \"Sim_8\", \"line\": {\"color\": \"yellow\", \"dash\": \"dot\"}, \"name\": \"Beta_meas8\", \"type\": \"scatter\", \"x\": [0, 1, 2, 3, 4, 5, 6, 7, 8, 9, 10, 11, 12, 13, 14, 15, 16, 17, 18, 19, 20, 21, 22, 23, 24, 25, 26, 27, 28, 29, 30, 31, 32, 33, 34, 35, 36, 37, 38, 39, 40, 41, 42, 43, 44, 45, 46, 47, 48, 49, 50, 51, 52, 53, 54, 55, 56, 57, 58, 59, 60, 61, 62, 63, 64, 65, 66, 67, 68, 69, 70, 71, 72, 73, 74, 75, 76, 77, 78, 79, 80, 81, 82, 83, 84, 85, 86, 87, 88, 89, 90, 91, 92, 93, 94, 95, 96, 97, 98], \"y\": [0.0009091009092009103, 0.0018182018184018207, 0.0038462038468038548, 0.0027778277786777938, 0.0030435482624796024, 0.002413863105478335, 0.00142862143032149, 0.0023077823112024444, 0.002826216962502014, 0.0026787214369718994, 0.0025374834442265836, 0.00308666977333806, 0.002178437844004423, 0.0024350626408993557, 0.0014494753899226501, 0.0021771907953462358, 0.002335719406458244, 0.0030156754963081875, 0.0022897267684713735, 0.00213120437291238, 0.0027753005424803728, 0.002583298884071867, 0.002159130131020976, 0.001986374705486844, 0.0022127429507358405, 0.0023521780031887434, 0.0026313498913280685, 0.0027264699684338067, 0.002402943605917249, 0.0022854624550585627, 0.00245675363520732, 0.0023077200141649653, 0.0022016141590870284, 0.00204777842732368, 0.0018506033198640354, 0.0017138370387680926, 0.0015563413309944117, 0.00139115621498586, 0.0012513856651404623, 0.0011346117951487305, 0.001100685917777498, 0.0009433908566026946, 0.0009469256325282407, 0.0008764234896869973, 0.0008061023430086284, 0.0007540809681435451, 0.0007328321800294552, 0.0007321615873678246, 0.0006729940867040494, 0.0005870066617888167, 0.0006102021571568881, 0.0005231686402098498, 0.0005906527756423286, 0.0005733803474081917, 0.0005707305522960001, 0.0004903998525913622, 0.00048748245263865683, 0.0005731649890573503, 0.0004580652358069048, 0.0005485405958200252, 0.00044903414346882575, 0.0005627407383234673, 0.0006073052471698355, 0.0006598018210804739, 0.0005513878288576713, 0.0004066403747597694, 0.0005780868946691027, 0.0006464831518564993, 0.0004109062607169076, 0.000524302329764666, 0.00027794788188148923, 0.00030702930000837795, 0.000494067277190542, 0.0004807592908947892, 0.000333463384053114, 0.0006453813653681711, 0.0005942394604971247, 0.00040156988416285914, 0.0005486532375683585, 0.0004036774640206649, 0.00015078377481540935, 0.0005781346993839182, 0.00042951786417259636, 0.0006475720269002284, 0.0003150006350019051, 8.850557635136664e-05, 0.0007369121119137899, 0.00045458545806576433, 0.0005063691170843003, 0.000434812610765795, 0.0004918332805186362, 0.0005263457911837817, 0.0007692707713108773, 0.000600030001500075, 0.0006818481831382399, 0.0, 0.0013889388906889535, 0.00025642025680027163, 0.0005555755562755815]}, {\"legendgroup\": \"Sim_8\", \"line\": {\"color\": \"red\", \"dash\": \"dot\"}, \"name\": \"I_stoch8\", \"type\": \"scatter\", \"x\": [0, 1, 2, 3, 4, 5, 6, 7, 8, 9, 10, 11, 12, 13, 14, 15, 16, 17, 18, 19, 20, 21, 22, 23, 24, 25, 26, 27, 28, 29, 30, 31, 32, 33, 34, 35, 36, 37, 38, 39, 40, 41, 42, 43, 44, 45, 46, 47, 48, 49, 50, 51, 52, 53, 54, 55, 56, 57, 58, 59, 60, 61, 62, 63, 64, 65, 66, 67, 68, 69, 70, 71, 72, 73, 74, 75, 76, 77, 78, 79, 80, 81, 82, 83, 84, 85, 86, 87, 88, 89, 90, 91, 92, 93, 94, 95, 96, 97, 98], \"y\": [1.1e-05, 1.3e-05, 1.8e-05, 2.3e-05, 2.9e-05, 3.5e-05, 3.9e-05, 4.6e-05, 5.6e-05, 6.7e-05, 8.1e-05, 0.000101, 0.000115, 0.000138, 0.000147, 0.000167, 0.000199, 0.000249, 0.000291, 0.000328, 0.000395, 0.000468, 0.000544, 0.000615, 0.000719, 0.000852, 0.001017, 0.001225, 0.001446, 0.001688, 0.002006, 0.002331, 0.002698, 0.003057, 0.003431, 0.003786, 0.004078, 0.004334, 0.004542, 0.004701, 0.004793, 0.004839, 0.004873, 0.004749, 0.004623, 0.004496, 0.004321, 0.004148, 0.003968, 0.003701, 0.003414, 0.003142, 0.002886, 0.002688, 0.002453, 0.002241, 0.002063, 0.001881, 0.00168, 0.001539, 0.001388, 0.001253, 0.001138, 0.001053, 0.00096, 0.000883, 0.000805, 0.000755, 0.000668, 0.000612, 0.000554, 0.000486, 0.000437, 0.00039, 0.000341, 0.000303, 0.000274, 0.000237, 0.000223, 0.000199, 0.000173, 0.000163, 0.000139, 0.000127, 0.000113, 9.5e-05, 8.8e-05, 7.9e-05, 6.9e-05, 6.1e-05, 5.7e-05, 5.2e-05, 5e-05, 4.4e-05, 4.2e-05, 3.6e-05, 3.9e-05, 3.6e-05, 3.7e-05]}, {\"legendgroup\": \"Sim_8\", \"name\": \"Ip_stoch8\", \"type\": \"bar\", \"x\": [0, 1, 2, 3, 4, 5, 6, 7, 8, 9, 10, 11, 12, 13, 14, 15, 16, 17, 18, 19, 20, 21, 22, 23, 24, 25, 26, 27, 28, 29, 30, 31, 32, 33, 34, 35, 36, 37, 38, 39, 40, 41, 42, 43, 44, 45, 46, 47, 48, 49, 50, 51, 52, 53, 54, 55, 56, 57, 58, 59, 60, 61, 62, 63, 64, 65, 66, 67, 68, 69, 70, 71, 72, 73, 74, 75, 76, 77, 78, 79, 80, 81, 82, 83, 84, 85, 86, 87, 88, 89, 90, 91, 92, 93, 94, 95, 96, 97, 98], \"y\": [0.00011, 2e-05, 5e-05, 5e-05, 7e-05, 7e-05, 5e-05, 9e-05, 0.00013, 0.00015, 0.00017, 0.00025, 0.00022, 0.00028, 0.0002, 0.00032, 0.00039, 0.0006, 0.00057, 0.00062, 0.00091, 0.00102, 0.00101, 0.00108, 0.00136, 0.00169, 0.00224, 0.00277, 0.00294, 0.0033, 0.00414, 0.00462, 0.00512, 0.00551, 0.00564, 0.00586, 0.00587, 0.00565, 0.0054, 0.00513, 0.00515, 0.0045, 0.00456, 0.00425, 0.00381, 0.00347, 0.00328, 0.00315, 0.00278, 0.00232, 0.00225, 0.00178, 0.00185, 0.00165, 0.00153, 0.0012, 0.00109, 0.00118, 0.00086, 0.00092, 0.00069, 0.00078, 0.00076, 0.00075, 0.00058, 0.00039, 0.00051, 0.00052, 0.00031, 0.00035, 0.00017, 0.00017, 0.00024, 0.00021, 0.00013, 0.00022, 0.00018, 0.00011, 0.00013, 9e-05, 3e-05, 0.0001, 7e-05, 9e-05, 4e-05, 1e-05, 7e-05, 4e-05, 4e-05, 3e-05, 3e-05, 3e-05, 4e-05, 3e-05, 3e-05, 0.0, 5e-05, 1e-05, 2e-05]}, {\"legendgroup\": \"Sim_9\", \"line\": {\"color\": \"yellow\", \"dash\": \"dot\"}, \"name\": \"Beta_meas9\", \"type\": \"scatter\", \"x\": [0, 1, 2, 3, 4, 5, 6, 7, 8, 9, 10, 11, 12, 13, 14, 15, 16, 17, 18, 19, 20, 21, 22, 23, 24, 25, 26, 27, 28, 29, 30, 31, 32, 33, 34, 35, 36, 37, 38, 39, 40, 41, 42, 43, 44, 45, 46, 47, 48, 49, 50, 51, 52, 53, 54, 55, 56, 57, 58, 59, 60, 61, 62, 63, 64, 65, 66, 67, 68, 69, 70, 71, 72, 73, 74, 75, 76, 77, 78, 79, 80, 81, 82, 83, 84, 85, 86, 87, 88, 89, 90, 91, 92, 93, 94, 95, 96, 97, 98], \"y\": [0.002857182857702865, 0.0035714785721285814, 0.0031579547379821265, 0.002500060001440035, 0.0027587006919752395, 0.0025715185745786816, 0.0025582495396139237, 0.0021569727507083254, 0.0026787214369718994, 0.0028987507384386334, 0.002442070483177832, 0.0020794179420042217, 0.0031038083176269135, 0.0027087233895014213, 0.002865987159827722, 0.0032565141040207368, 0.0032350709775873948, 0.0034820063588577176, 0.003021915542767246, 0.0026937784953661626, 0.003026307419704658, 0.002797838347200981, 0.00303143821976109, 0.003034538786178189, 0.002794377840274517, 0.0028402409399691164, 0.0029736568081407335, 0.003060129326379922, 0.0029205644790891053, 0.002865599372047577, 0.0028929118627949103, 0.0029958458608288657, 0.0028833276045796318, 0.00243963807084272, 0.0022511585344592243, 0.002137485514658288, 0.0018657915091830415, 0.0017151203805838941, 0.0015802658085636682, 0.0013995063224864239, 0.0013259560788887893, 0.0012705055311963587, 0.00116675607077296, 0.0010313542028990096, 0.0009789160977672893, 0.0009633491740543214, 0.0008661663693036215, 0.0008443040280542767, 0.0008059140651936553, 0.0007884044681100071, 0.0007314338261733963, 0.0007049466571010906, 0.0006887969183107906, 0.0006881894658551716, 0.0006317295141841792, 0.0006121913298474304, 0.000552165331879394, 0.0005744287511630702, 0.0005766631496157029, 0.0005706287369906644, 0.0005588772325495155, 0.0005749717289223991, 0.0005253375130097001, 0.0005471197549479014, 0.0005303074925510962, 0.0005585960075016013, 0.0005141521650885495, 0.0005816332052502604, 0.00057900579828596, 0.000531089601719975, 0.0005038548752986157, 0.0005133688857847026, 0.00048076923594775605, 0.0004213673086850734, 0.00046361931210122103, 0.0004746116085924274, 0.0005175860457617189, 0.0004597680052943941, 0.0004354621389605913, 0.00045137094567057097, 0.0005300685129272231, 0.0004698699467648627, 0.0005239239345654987, 0.0004569821988192868, 0.00047264406169495165, 0.0006433924550984764, 0.0004140618802750626, 0.0005231784949105545, 0.0006096227575422747, 0.000583683543459409, 0.00045562354351847, 0.000572282257558231, 0.00047435803316186987, 0.0006940700255769111, 0.0006890456160855872, 0.00041566251954351646, 0.0005995591454226006, 0.0005518841843444944, 0.00022394061309923599]}, {\"legendgroup\": \"Sim_9\", \"line\": {\"color\": \"red\", \"dash\": \"dot\"}, \"name\": \"I_stoch9\", \"type\": \"scatter\", \"x\": [0, 1, 2, 3, 4, 5, 6, 7, 8, 9, 10, 11, 12, 13, 14, 15, 16, 17, 18, 19, 20, 21, 22, 23, 24, 25, 26, 27, 28, 29, 30, 31, 32, 33, 34, 35, 36, 37, 38, 39, 40, 41, 42, 43, 44, 45, 46, 47, 48, 49, 50, 51, 52, 53, 54, 55, 56, 57, 58, 59, 60, 61, 62, 63, 64, 65, 66, 67, 68, 69, 70, 71, 72, 73, 74, 75, 76, 77, 78, 79, 80, 81, 82, 83, 84, 85, 86, 87, 88, 89, 90, 91, 92, 93, 94, 95, 96, 97, 98], \"y\": [1.4e-05, 1.9e-05, 2.4e-05, 2.9e-05, 3.5e-05, 4.3e-05, 5.1e-05, 5.6e-05, 6.9e-05, 8.6e-05, 0.000101, 0.000116, 0.000144, 0.000171, 0.000215, 0.000269, 0.000339, 0.000437, 0.000546, 0.000658, 0.000812, 0.000984, 0.001234, 0.001534, 0.001866, 0.002292, 0.002838, 0.003522, 0.004332, 0.005352, 0.006579, 0.008172, 0.010045, 0.0119, 0.013848, 0.015964, 0.017857, 0.019675, 0.021319, 0.022719, 0.023884, 0.024874, 0.025542, 0.025806, 0.025906, 0.025775, 0.025262, 0.024629, 0.02387, 0.022977, 0.021959, 0.020847, 0.019745, 0.018696, 0.017507, 0.016312, 0.015023, 0.013839, 0.012799, 0.011714, 0.010742, 0.009843, 0.008926, 0.008137, 0.00734, 0.006736, 0.006089, 0.00561, 0.00511, 0.004686, 0.004245, 0.003821, 0.003477, 0.003094, 0.002789, 0.002518, 0.002289, 0.002048, 0.00182, 0.001644, 0.001492, 0.001357, 0.001205, 0.001059, 0.000949, 0.000846, 0.000746, 0.000673, 0.0006, 0.000549, 0.000507, 0.000464, 0.000418, 0.000392, 0.000361, 0.000317, 0.00029, 0.000268, 0.000236]}, {\"legendgroup\": \"Sim_9\", \"name\": \"Ip_stoch9\", \"type\": \"bar\", \"x\": [0, 1, 2, 3, 4, 5, 6, 7, 8, 9, 10, 11, 12, 13, 14, 15, 16, 17, 18, 19, 20, 21, 22, 23, 24, 25, 26, 27, 28, 29, 30, 31, 32, 33, 34, 35, 36, 37, 38, 39, 40, 41, 42, 43, 44, 45, 46, 47, 48, 49, 50, 51, 52, 53, 54, 55, 56, 57, 58, 59, 60, 61, 62, 63, 64, 65, 66, 67, 68, 69, 70, 71, 72, 73, 74, 75, 76, 77, 78, 79, 80, 81, 82, 83, 84, 85, 86, 87, 88, 89, 90, 91, 92, 93, 94, 95, 96, 97, 98], \"y\": [0.00014, 5e-05, 6e-05, 6e-05, 8e-05, 9e-05, 0.00011, 0.00011, 0.00015, 0.0002, 0.00021, 0.00021, 0.00036, 0.00039, 0.00049, 0.0007, 0.00087, 0.00118, 0.00132, 0.00147, 0.00199, 0.00227, 0.00298, 0.00374, 0.00428, 0.00529, 0.0068, 0.00866, 0.01025, 0.01236, 0.0154, 0.01958, 0.02337, 0.02426, 0.02647, 0.02919, 0.02931, 0.03008, 0.03048, 0.0292, 0.02944, 0.02962, 0.0283, 0.02567, 0.02461, 0.02431, 0.02175, 0.02079, 0.01936, 0.01837, 0.01642, 0.01514, 0.01406, 0.01332, 0.01159, 0.01053, 0.00886, 0.0085, 0.00787, 0.00721, 0.00647, 0.00611, 0.00512, 0.00484, 0.00428, 0.00407, 0.00344, 0.00352, 0.00323, 0.0027, 0.00235, 0.00217, 0.00183, 0.00146, 0.00143, 0.00132, 0.0013, 0.00105, 0.00089, 0.00082, 0.00087, 0.0007, 0.00071, 0.00055, 0.0005, 0.00061, 0.00035, 0.00039, 0.00041, 0.00035, 0.00025, 0.00029, 0.00022, 0.00029, 0.00027, 0.00015, 0.00019, 0.00016, 6e-05]}, {\"legendgroup\": \"Sim_10\", \"line\": {\"color\": \"yellow\", \"dash\": \"dot\"}, \"name\": \"Beta_meas10\", \"type\": \"scatter\", \"x\": [0, 1, 2, 3, 4, 5, 6, 7, 8, 9, 10, 11, 12, 13, 14, 15, 16, 17, 18, 19, 20, 21, 22, 23, 24, 25, 26, 27, 28, 29, 30, 31, 32, 33, 34, 35, 36, 37, 38, 39, 40, 41, 42, 43, 44, 45, 46, 47, 48, 49, 50, 51, 52, 53, 54, 55, 56, 57, 58, 59, 60, 61, 62, 63, 64, 65, 66, 67, 68, 69, 70, 71, 72, 73, 74, 75, 76, 77, 78, 79, 80, 81, 82, 83, 84, 85, 86, 87, 88, 89, 90, 91, 92, 93, 94, 95, 96, 97, 98], \"y\": [0.0037500600009600154, 0.004375070001120018, 0.0039131334803309175, 0.0035484971001842995, 0.002683036833778478, 0.0023078123139326323, 0.002459166402593181, 0.0032002400180013504, 0.002210736335741369, 0.002695962209567144, 0.002901143408565148, 0.003121509185222335, 0.0024383010437834325, 0.0029668018601542506, 0.002916114491062999, 0.0029487287907549, 0.002903086296946747, 0.0025425242159563656, 0.0027855023365603517, 0.0028419791797315787, 0.0029241692328671864, 0.0026968925338387347, 0.0031865853134470986, 0.002880761800981588, 0.0028946466146286976, 0.0028444003628392577, 0.0030036456891558293, 0.002991146432639817, 0.0027943125235780552, 0.002944582387793842, 0.0028424734239314627, 0.002899914789675777, 0.0027899351784150196, 0.002558213074542745, 0.0022746434715208838, 0.002058215608163196, 0.0018813083151378953, 0.0017408656641330381, 0.0015812112004970264, 0.0014870776455683003, 0.001319915875996692, 0.0012667948785520116, 0.0011766967307041906, 0.0010852504492816339, 0.0010162113563487395, 0.0009688057864851672, 0.0009094000700646536, 0.0008489404288082267, 0.0007947844196973087, 0.0007393108501629236, 0.0007468966311015157, 0.0007033524265631629, 0.000692348435668152, 0.0006519369423389211, 0.0006377012302653351, 0.0006222610468944622, 0.0006058634930455775, 0.0005935188461877224, 0.0005911248818429967, 0.0005662326716080504, 0.0005453974803544969, 0.0005559456273245176, 0.0005426434233896749, 0.0005352135504227773, 0.0005689092142993579, 0.0005180944583787782, 0.0005043784060926332, 0.0005128014137712098, 0.0005114421280752546, 0.0005643071317124937, 0.0005237699858336865, 0.0005069384675411136, 0.0005280360468763369, 0.00048267951248336344, 0.0004609467404914801, 0.00045864368627456854, 0.0004867600559125667, 0.000496111622777086, 0.0004986871709481479, 0.00044522304851629235, 0.0004929284239761048, 0.00043292734401823073, 0.0004703852966888699, 0.0005626936504703038, 0.0004362992566052879, 0.0004145141410921096, 0.0005026450581447845, 0.00039692628225547006, 0.0005135889782693495, 0.00048411992141778954, 0.0005718889420269031, 0.0005537166468153172, 0.0004582127210904648, 0.00035315130149497775, 0.00041767742150397883, 0.0004916830991433905, 0.000587104566639285, 0.00037893793821141056, 0.0006462974976394969]}, {\"legendgroup\": \"Sim_10\", \"line\": {\"color\": \"red\", \"dash\": \"dot\"}, \"name\": \"I_stoch10\", \"type\": \"scatter\", \"x\": [0, 1, 2, 3, 4, 5, 6, 7, 8, 9, 10, 11, 12, 13, 14, 15, 16, 17, 18, 19, 20, 21, 22, 23, 24, 25, 26, 27, 28, 29, 30, 31, 32, 33, 34, 35, 36, 37, 38, 39, 40, 41, 42, 43, 44, 45, 46, 47, 48, 49, 50, 51, 52, 53, 54, 55, 56, 57, 58, 59, 60, 61, 62, 63, 64, 65, 66, 67, 68, 69, 70, 71, 72, 73, 74, 75, 76, 77, 78, 79, 80, 81, 82, 83, 84, 85, 86, 87, 88, 89, 90, 91, 92, 93, 94, 95, 96, 97, 98], \"y\": [1.6e-05, 2.3e-05, 3.1e-05, 4.1e-05, 5.2e-05, 6.1e-05, 7.5e-05, 9.5e-05, 0.000115, 0.000131, 0.000157, 0.000201, 0.000236, 0.000295, 0.000363, 0.000448, 0.000547, 0.000661, 0.000817, 0.001003, 0.00124, 0.001496, 0.001885, 0.00232, 0.00287, 0.003498, 0.004318, 0.005361, 0.006536, 0.008083, 0.009944, 0.012225, 0.014868, 0.017728, 0.020668, 0.023499, 0.026336, 0.029124, 0.031588, 0.033812, 0.035428, 0.036801, 0.037858, 0.038417, 0.038519, 0.038269, 0.037651, 0.036689, 0.035509, 0.033941, 0.03243, 0.030773, 0.029036, 0.02731, 0.025461, 0.023685, 0.021894, 0.020289, 0.018699, 0.017163, 0.015809, 0.014454, 0.013197, 0.011955, 0.010948, 0.009973, 0.009092, 0.008221, 0.007481, 0.006805, 0.006153, 0.00558, 0.00506, 0.004533, 0.004094, 0.003691, 0.003337, 0.003017, 0.00268, 0.00242, 0.002176, 0.001917, 0.001709, 0.001561, 0.001377, 0.001235, 0.001135, 0.000994, 0.000889, 0.000805, 0.000741, 0.000677, 0.000595, 0.000527, 0.000468, 0.000426, 0.000396, 0.000356, 0.000321]}, {\"legendgroup\": \"Sim_10\", \"name\": \"Ip_stoch10\", \"type\": \"bar\", \"x\": [0, 1, 2, 3, 4, 5, 6, 7, 8, 9, 10, 11, 12, 13, 14, 15, 16, 17, 18, 19, 20, 21, 22, 23, 24, 25, 26, 27, 28, 29, 30, 31, 32, 33, 34, 35, 36, 37, 38, 39, 40, 41, 42, 43, 44, 45, 46, 47, 48, 49, 50, 51, 52, 53, 54, 55, 56, 57, 58, 59, 60, 61, 62, 63, 64, 65, 66, 67, 68, 69, 70, 71, 72, 73, 74, 75, 76, 77, 78, 79, 80, 81, 82, 83, 84, 85, 86, 87, 88, 89, 90, 91, 92, 93, 94, 95, 96, 97, 98], \"y\": [0.00016, 7e-05, 9e-05, 0.00011, 0.00011, 0.00012, 0.00015, 0.00024, 0.00021, 0.00031, 0.00038, 0.00049, 0.00049, 0.0007, 0.00086, 0.00107, 0.0013, 0.00139, 0.00184, 0.00232, 0.00293, 0.00334, 0.00476, 0.00542, 0.0067, 0.00814, 0.01047, 0.01286, 0.0149, 0.01912, 0.02279, 0.02855, 0.03369, 0.03747, 0.03961, 0.04166, 0.04317, 0.04464, 0.04471, 0.04549, 0.04312, 0.04329, 0.04171, 0.03953, 0.03754, 0.03588, 0.03347, 0.03076, 0.02809, 0.02532, 0.02449, 0.02207, 0.02065, 0.01838, 0.01694, 0.01544, 0.01401, 0.01271, 0.01175, 0.01039, 0.0092, 0.00865, 0.00773, 0.00697, 0.00672, 0.00561, 0.00498, 0.00462, 0.00417, 0.00419, 0.00354, 0.0031, 0.00293, 0.00243, 0.00208, 0.00187, 0.00179, 0.00165, 0.0015, 0.00119, 0.00119, 0.00094, 0.0009, 0.00096, 0.00068, 0.00057, 0.00062, 0.00045, 0.00051, 0.00043, 0.00046, 0.00041, 0.00031, 0.00021, 0.00022, 0.00023, 0.00025, 0.00015, 0.00023]}, {\"legendgroup\": \"Sim_11\", \"line\": {\"color\": \"yellow\", \"dash\": \"dot\"}, \"name\": \"Beta_meas11\", \"type\": \"scatter\", \"x\": [0, 1, 2, 3, 4, 5, 6, 7, 8, 9, 10, 11, 12, 13, 14, 15, 16, 17, 18, 19, 20, 21, 22, 23, 24, 25, 26, 27, 28, 29, 30, 31, 32, 33, 34, 35, 36, 37, 38, 39, 40, 41, 42, 43, 44, 45, 46, 47, 48, 49, 50, 51, 52, 53, 54, 55, 56, 57, 58, 59, 60, 61, 62, 63, 64, 65, 66, 67, 68, 69, 70, 71, 72, 73, 74, 75, 76, 77, 78, 79, 80, 81, 82, 83, 84, 85, 86, 87, 88, 89, 90, 91, 92, 93, 94, 95, 96, 97, 98], \"y\": [0.00411771706001355, 0.0011764905885753, 0.0010526515793273757, 0.002857202858402883, 0.003703803706403776, 0.002973082977043123, 0.002444554449394667, 0.00288476539241579, 0.0035823295683198838, 0.0022990505921141576, 0.00480441161861255, 0.002534616629370354, 0.0031255500968170396, 0.0025005601254681053, 0.0026673868611191693, 0.002688360275288092, 0.0027044424660703863, 0.002242419793128839, 0.0031566924771381072, 0.003074459547961828, 0.002886808206101606, 0.0028432555594207817, 0.0029486267921798592, 0.0029335793059887985, 0.002724272760993694, 0.0030078032970917317, 0.002930300895156989, 0.0029445422877940365, 0.0028271013391456086, 0.002918657266682629, 0.0029410586515424535, 0.002757758440598041, 0.002754706083103784, 0.0025012876567101746, 0.002215625363643891, 0.002037723159305677, 0.001917098333451685, 0.0017351466233385708, 0.0015356413900312438, 0.0014500774552338464, 0.0013448234384044078, 0.0012228681808865314, 0.0011600387455788772, 0.001056818856614862, 0.0010131092050120318, 0.0009442100682513225, 0.0009043661603731133, 0.0008701797427514882, 0.0008336180207585404, 0.0007630858732137212, 0.0007320397502806112, 0.0007147520472707523, 0.0006778088513217506, 0.0006920355812923274, 0.0006277835477674239, 0.0006269290276933403, 0.0005999309915617555, 0.0006045231176079623, 0.0005489849168098464, 0.0005810056865062382, 0.0005623845086597687, 0.0005439227505454767, 0.0005267482876842454, 0.00049687858333517, 0.0005367856238273633, 0.000524487485184915, 0.0005283630428243721, 0.0004919263350262371, 0.0004849388397476394, 0.0005511200931993494, 0.0005476946119767633, 0.0004935496016179731, 0.0005839135312206596, 0.0005767236516856862, 0.0004745036169875326, 0.0005625958974980661, 0.00046334168599390673, 0.00047325988197987045, 0.0004552862055748045, 0.0004303618885788501, 0.0005467120819950361, 0.0005260586968182424, 0.0005017405407581807, 0.000510261975192701, 0.0005099160284694987, 0.0005278203077111028, 0.000491896372092912, 0.0004900009804919619, 0.00047662086483141896, 0.0005672009873068436, 0.0004752005788099586, 0.000585896425516678, 0.0004618086195809164, 0.0004945567147787417, 0.0003626434273153853, 0.0004483032881413417, 0.0005210334101628358, 0.00034494762798143407, 0.0005450418479283485]}, {\"legendgroup\": \"Sim_11\", \"line\": {\"color\": \"red\", \"dash\": \"dot\"}, \"name\": \"I_stoch11\", \"type\": \"scatter\", \"x\": [0, 1, 2, 3, 4, 5, 6, 7, 8, 9, 10, 11, 12, 13, 14, 15, 16, 17, 18, 19, 20, 21, 22, 23, 24, 25, 26, 27, 28, 29, 30, 31, 32, 33, 34, 35, 36, 37, 38, 39, 40, 41, 42, 43, 44, 45, 46, 47, 48, 49, 50, 51, 52, 53, 54, 55, 56, 57, 58, 59, 60, 61, 62, 63, 64, 65, 66, 67, 68, 69, 70, 71, 72, 73, 74, 75, 76, 77, 78, 79, 80, 81, 82, 83, 84, 85, 86, 87, 88, 89, 90, 91, 92, 93, 94, 95, 96, 97, 98], \"y\": [1.7e-05, 1.9e-05, 2.1e-05, 2.7e-05, 3.7e-05, 4.5e-05, 5.2e-05, 6.7e-05, 8.7e-05, 0.000102, 0.000146, 0.000176, 0.000224, 0.00027, 0.00032, 0.000381, 0.000464, 0.000542, 0.000677, 0.000839, 0.001021, 0.001253, 0.00155, 0.001894, 0.002306, 0.002868, 0.003524, 0.004352, 0.005308, 0.006568, 0.008138, 0.009892, 0.012047, 0.014337, 0.016623, 0.018928, 0.021251, 0.023473, 0.025359, 0.027063, 0.02851, 0.029526, 0.030349, 0.030692, 0.030861, 0.030592, 0.030144, 0.029492, 0.028725, 0.027547, 0.026339, 0.024982, 0.023499, 0.022171, 0.020702, 0.019343, 0.017939, 0.016653, 0.015294, 0.014104, 0.012964, 0.011815, 0.010824, 0.009764, 0.008907, 0.008071, 0.00729, 0.006622, 0.005969, 0.005434, 0.004948, 0.00449, 0.004074, 0.003723, 0.003335, 0.003009, 0.002712, 0.002444, 0.002189, 0.001961, 0.001771, 0.001597, 0.001472, 0.001355, 0.001233, 0.001099, 0.001001, 0.000903, 0.000794, 0.000716, 0.000649, 0.000585, 0.000526, 0.000469, 0.000424, 0.000384, 0.000348, 0.000312, 0.000266]}, {\"legendgroup\": \"Sim_11\", \"name\": \"Ip_stoch11\", \"type\": \"bar\", \"x\": [0, 1, 2, 3, 4, 5, 6, 7, 8, 9, 10, 11, 12, 13, 14, 15, 16, 17, 18, 19, 20, 21, 22, 23, 24, 25, 26, 27, 28, 29, 30, 31, 32, 33, 34, 35, 36, 37, 38, 39, 40, 41, 42, 43, 44, 45, 46, 47, 48, 49, 50, 51, 52, 53, 54, 55, 56, 57, 58, 59, 60, 61, 62, 63, 64, 65, 66, 67, 68, 69, 70, 71, 72, 73, 74, 75, 76, 77, 78, 79, 80, 81, 82, 83, 84, 85, 86, 87, 88, 89, 90, 91, 92, 93, 94, 95, 96, 97, 98], \"y\": [0.00017, 2e-05, 2e-05, 6e-05, 0.0001, 0.00011, 0.00011, 0.00015, 0.00024, 0.0002, 0.00049, 0.00037, 0.00055, 0.00056, 0.00072, 0.00086, 0.00103, 0.00104, 0.00171, 0.00208, 0.00242, 0.0029, 0.00369, 0.00454, 0.00515, 0.00692, 0.00838, 0.01034, 0.01225, 0.01541, 0.01919, 0.02226, 0.02698, 0.02977, 0.03131, 0.03331, 0.0356, 0.03609, 0.0352, 0.03584, 0.03541, 0.03387, 0.03324, 0.0311, 0.03014, 0.02824, 0.02682, 0.02544, 0.02386, 0.02129, 0.01961, 0.01833, 0.01651, 0.01588, 0.01361, 0.01271, 0.01138, 0.01065, 0.00899, 0.00875, 0.00782, 0.00696, 0.00615, 0.00532, 0.00519, 0.00463, 0.00423, 0.00356, 0.00319, 0.00327, 0.00296, 0.00243, 0.00261, 0.00234, 0.00176, 0.00187, 0.00139, 0.00128, 0.00111, 0.00094, 0.00107, 0.00093, 0.0008, 0.00075, 0.00069, 0.00065, 0.00054, 0.00049, 0.00043, 0.00045, 0.00034, 0.00038, 0.00027, 0.00026, 0.00017, 0.00019, 0.0002, 0.00012, 0.00017]}, {\"legendgroup\": \"Sim_12\", \"line\": {\"color\": \"yellow\", \"dash\": \"dot\"}, \"name\": \"Beta_meas12\", \"type\": \"scatter\", \"x\": [0, 1, 2, 3, 4, 5, 6, 7, 8, 9, 10, 11, 12, 13, 14, 15, 16, 17, 18, 19, 20, 21, 22, 23, 24, 25, 26, 27, 28, 29, 30, 31, 32, 33, 34, 35, 36, 37, 38, 39, 40, 41, 42, 43, 44, 45, 46, 47, 48, 49, 50, 51, 52, 53, 54, 55, 56, 57, 58, 59, 60, 61, 62, 63, 64, 65, 66, 67, 68, 69, 70, 71, 72, 73, 74, 75, 76, 77, 78, 79, 80, 81, 82, 83, 84, 85, 86, 87, 88, 89, 90, 91, 92, 93, 94, 95, 96, 97, 98], \"y\": [0.0025000300003600044, 0.0033333733338133387, 0.0025000400006400104, 0.003000060001200024, 0.0030435482624796024, 0.0034483758649690496, 0.0042106863218697044, 0.0019231769282771936, 0.0032260064640136725, 0.0029116224232347268, 0.002886877965306965, 0.0029918030324077834, 0.003810083891855912, 0.0031664592711235966, 0.002875204102538834, 0.002924468304826863, 0.0032012004501688136, 0.0023504028930639133, 0.0026275978252712708, 0.002601821274892425, 0.0027525834598426126, 0.002626897131675499, 0.002880754455212954, 0.00298066767125578, 0.002991179896841199, 0.0028870557193771194, 0.0032156914209809178, 0.0026796546423415203, 0.0029917403118797426, 0.002940284687947629, 0.0028443457825571474, 0.002930798058713931, 0.0027727144707336356, 0.0025361276524198777, 0.0022392999702613033, 0.0021381409729958646, 0.0019302610686834066, 0.0017223697155613771, 0.001609605116639336, 0.001430732356978281, 0.0013510079095480647, 0.001256103164866115, 0.0011397164440863556, 0.0010887659536066307, 0.0010133290753732733, 0.0009430795590019225, 0.0008987308907326031, 0.0008516402312793056, 0.0008564629393710762, 0.0007650603720973315, 0.000707017693205983, 0.0007057977860411097, 0.0007229968350277707, 0.0006399402578229588, 0.0006429978066379635, 0.0006220893791165903, 0.0005883173538894453, 0.000567987203552736, 0.0005680818193463224, 0.0005758210112474958, 0.0005712098575753702, 0.0005487520198185027, 0.0005470075927886433, 0.0005608881305307227, 0.000513924346256865, 0.000533757449640646, 0.0005419690772822541, 0.0005399655742351365, 0.0005293092218797682, 0.00048225572708046274, 0.0005146983984111555, 0.0005134462799767634, 0.0005184146977878055, 0.0004917844706922191, 0.0004889771144679271, 0.0005202117164579798, 0.0005216391361298346, 0.0005409717667214379, 0.0004976467599929228, 0.00045052342547119694, 0.0005122494035962154, 0.0004045350830244291, 0.00043657233215720596, 0.0004768714486191043, 0.0004394321888271754, 0.0005093525917791898, 0.00041389198612711063, 0.0005171650534390583, 0.0005004203530966011, 0.00035208698524556064, 0.0005234171442206665, 0.0007109821604500805, 0.0005397791820043235, 0.0004937923389896259, 0.000410798089732821, 0.0006488887374815169, 0.00029164522381614215, 0.00022515040762886263, 0.0003384358886080239]}, {\"legendgroup\": \"Sim_12\", \"line\": {\"color\": \"red\", \"dash\": \"dot\"}, \"name\": \"I_stoch12\", \"type\": \"scatter\", \"x\": [0, 1, 2, 3, 4, 5, 6, 7, 8, 9, 10, 11, 12, 13, 14, 15, 16, 17, 18, 19, 20, 21, 22, 23, 24, 25, 26, 27, 28, 29, 30, 31, 32, 33, 34, 35, 36, 37, 38, 39, 40, 41, 42, 43, 44, 45, 46, 47, 48, 49, 50, 51, 52, 53, 54, 55, 56, 57, 58, 59, 60, 61, 62, 63, 64, 65, 66, 67, 68, 69, 70, 71, 72, 73, 74, 75, 76, 77, 78, 79, 80, 81, 82, 83, 84, 85, 86, 87, 88, 89, 90, 91, 92, 93, 94, 95, 96, 97, 98], \"y\": [1.2e-05, 1.6e-05, 2e-05, 2.3e-05, 2.9e-05, 3.8e-05, 5.2e-05, 6.2e-05, 7.9e-05, 9.7e-05, 0.000117, 0.000147, 0.000199, 0.000247, 0.000301, 0.000375, 0.000481, 0.000575, 0.0007, 0.000829, 0.001006, 0.001206, 0.001475, 0.001822, 0.00226, 0.002766, 0.003494, 0.004216, 0.005255, 0.00649, 0.007938, 0.009794, 0.011932, 0.014197, 0.016482, 0.018931, 0.021303, 0.023476, 0.025527, 0.027186, 0.02867, 0.02978, 0.030476, 0.030927, 0.031114, 0.030968, 0.030459, 0.029723, 0.028926, 0.027787, 0.026503, 0.025214, 0.023918, 0.022448, 0.020984, 0.019485, 0.018037, 0.016557, 0.015201, 0.013937, 0.012811, 0.011653, 0.010541, 0.009647, 0.00877, 0.007998, 0.007332, 0.006695, 0.006071, 0.00547, 0.004893, 0.004437, 0.003981, 0.003633, 0.003298, 0.002961, 0.002669, 0.002397, 0.00218, 0.001956, 0.001783, 0.001583, 0.001428, 0.001276, 0.00114, 0.00104, 0.000929, 0.00084, 0.000739, 0.00065, 0.000577, 0.000519, 0.000466, 0.000414, 0.00037, 0.000343, 0.000311, 0.000266, 0.00024]}, {\"legendgroup\": \"Sim_12\", \"name\": \"Ip_stoch12\", \"type\": \"bar\", \"x\": [0, 1, 2, 3, 4, 5, 6, 7, 8, 9, 10, 11, 12, 13, 14, 15, 16, 17, 18, 19, 20, 21, 22, 23, 24, 25, 26, 27, 28, 29, 30, 31, 32, 33, 34, 35, 36, 37, 38, 39, 40, 41, 42, 43, 44, 45, 46, 47, 48, 49, 50, 51, 52, 53, 54, 55, 56, 57, 58, 59, 60, 61, 62, 63, 64, 65, 66, 67, 68, 69, 70, 71, 72, 73, 74, 75, 76, 77, 78, 79, 80, 81, 82, 83, 84, 85, 86, 87, 88, 89, 90, 91, 92, 93, 94, 95, 96, 97, 98], \"y\": [0.00013, 4e-05, 4e-05, 6e-05, 7e-05, 0.0001, 0.00016, 0.0001, 0.0002, 0.00023, 0.00028, 0.00035, 0.00056, 0.00063, 0.00071, 0.00088, 0.0012, 0.00113, 0.00151, 0.00182, 0.00228, 0.00264, 0.00347, 0.00439, 0.00544, 0.00651, 0.00887, 0.00933, 0.01256, 0.01537, 0.01834, 0.02308, 0.02689, 0.0299, 0.03134, 0.03466, 0.03585, 0.03591, 0.0369, 0.03559, 0.03573, 0.03498, 0.03293, 0.03217, 0.03037, 0.02843, 0.02697, 0.02515, 0.0247, 0.02149, 0.0191, 0.01821, 0.01777, 0.01494, 0.01411, 0.01278, 0.01124, 0.01006, 0.00925, 0.00862, 0.00785, 0.00694, 0.0063, 0.00585, 0.00491, 0.00464, 0.0043, 0.00393, 0.00352, 0.00291, 0.0028, 0.0025, 0.00229, 0.00195, 0.00177, 0.00171, 0.00154, 0.00144, 0.00119, 0.00098, 0.001, 0.00072, 0.00069, 0.00068, 0.00056, 0.00058, 0.00043, 0.00048, 0.00042, 0.00026, 0.00034, 0.00041, 0.00028, 0.00023, 0.00017, 0.00024, 0.0001, 7e-05, 9e-05]}, {\"legendgroup\": \"Sim_13\", \"line\": {\"color\": \"yellow\", \"dash\": \"dot\"}, \"name\": \"Beta_meas13\", \"type\": \"scatter\", \"x\": [0, 1, 2, 3, 4, 5, 6, 7, 8, 9, 10, 11, 12, 13, 14, 15, 16, 17, 18, 19, 20, 21, 22, 23, 24, 25, 26, 27, 28, 29, 30, 31, 32, 33, 34, 35, 36, 37, 38, 39, 40, 41, 42, 43, 44, 45, 46, 47, 48, 49, 50, 51, 52, 53, 54, 55, 56, 57, 58, 59, 60, 61, 62, 63, 64, 65, 66, 67, 68, 69, 70, 71, 72, 73, 74, 75, 76, 77, 78, 79, 80, 81, 82, 83, 84, 85, 86, 87, 88, 89, 90, 91, 92, 93, 94, 95, 96, 97, 98], \"y\": [0.0023077223080823126, 0.0015384815387215417, 0.004666736667716683, 0.004090999092889135, 0.0035484971001842995, 0.002051362054402173, 0.003478420876925556, 0.003442832963630454, 0.0033335933536149153, 0.0025492796343658426, 0.0035541490603007587, 0.0022788410695472163, 0.0034952737768364703, 0.0028932621529120794, 0.0036344236604314633, 0.002985864336370878, 0.002775667769685967, 0.0027784623031982124, 0.003013356017989562, 0.002797105015181321, 0.0027787585834564477, 0.0028185859129251927, 0.002790187480300217, 0.0026369984963634484, 0.0027779174097323704, 0.00301422359382497, 0.0028689469408605703, 0.002905456533292946, 0.0029666639075760005, 0.002919864628228633, 0.002931640665344558, 0.0028751413172473507, 0.002838181623948981, 0.002571813934532015, 0.002306818684603104, 0.0020607082280672305, 0.001902057780475518, 0.001729856785584483, 0.0015971932021180907, 0.001501024105705338, 0.0013691933815942728, 0.0012293828027483027, 0.0011756122608153079, 0.0010570907985558858, 0.000980541081910785, 0.0009527209028492844, 0.000887956758012255, 0.0008578471609572137, 0.0008137212895981892, 0.0007489558361147681, 0.0007371161470506954, 0.0007146264994614001, 0.0006850847755931867, 0.0006679583721478489, 0.0006239545701833798, 0.0005931794725976659, 0.0006143244738929102, 0.000596301922959077, 0.0005620147160993122, 0.0005648537548249521, 0.0005328163481076869, 0.0005337030233271733, 0.0005360795374899352, 0.0005503377479774938, 0.0005445145278061078, 0.0005269242397291261, 0.000508056774359164, 0.0005321509262214765, 0.0005186510748510012, 0.0005110273357487002, 0.0005028120151702087, 0.00048438073775228046, 0.0005148856213515077, 0.0004866236985097114, 0.00047268150207116586, 0.0005321069956955373, 0.0005563632824224426, 0.0005345605852931959, 0.0005758239670030048, 0.000485194578552226, 0.00048478944361948073, 0.0004778915542597005, 0.0005015025025004965, 0.000472870351338866, 0.00046989703566691624, 0.0004963183138076712, 0.0004363505630502312, 0.0004670476805979525, 0.00042403324411784495, 0.000545798005373157, 0.0004391794055777014, 0.00042248383113450126, 0.0005250878647902229, 0.0006033752904252684, 0.0005343601391393463, 0.0006345496134259242, 0.00036379643406735324, 0.00033007928981886893, 0.0006164665771674886]}, {\"legendgroup\": \"Sim_13\", \"line\": {\"color\": \"red\", \"dash\": \"dot\"}, \"name\": \"I_stoch13\", \"type\": \"scatter\", \"x\": [0, 1, 2, 3, 4, 5, 6, 7, 8, 9, 10, 11, 12, 13, 14, 15, 16, 17, 18, 19, 20, 21, 22, 23, 24, 25, 26, 27, 28, 29, 30, 31, 32, 33, 34, 35, 36, 37, 38, 39, 40, 41, 42, 43, 44, 45, 46, 47, 48, 49, 50, 51, 52, 53, 54, 55, 56, 57, 58, 59, 60, 61, 62, 63, 64, 65, 66, 67, 68, 69, 70, 71, 72, 73, 74, 75, 76, 77, 78, 79, 80, 81, 82, 83, 84, 85, 86, 87, 88, 89, 90, 91, 92, 93, 94, 95, 96, 97, 98], \"y\": [1.3e-05, 1.5e-05, 2.2e-05, 3.1e-05, 3.9e-05, 4.6e-05, 6.1e-05, 7.8e-05, 0.000102, 0.000121, 0.000158, 0.000186, 0.000242, 0.0003, 0.000392, 0.000483, 0.000587, 0.000714, 0.000891, 0.001088, 0.001318, 0.001619, 0.001953, 0.002349, 0.002868, 0.003554, 0.004373, 0.005392, 0.006675, 0.00822, 0.010098, 0.012383, 0.015181, 0.018218, 0.021306, 0.024357, 0.027327, 0.030161, 0.032751, 0.035075, 0.037093, 0.0384, 0.039453, 0.039875, 0.039858, 0.039587, 0.038872, 0.037925, 0.036703, 0.035137, 0.033533, 0.031889, 0.030195, 0.028422, 0.026424, 0.024462, 0.022667, 0.020936, 0.019224, 0.017634, 0.016053, 0.014576, 0.013296, 0.012215, 0.01117, 0.010121, 0.009122, 0.008243, 0.007512, 0.006768, 0.006086, 0.005468, 0.004915, 0.004484, 0.004057, 0.003644, 0.003341, 0.002996, 0.002728, 0.00244, 0.002202, 0.001998, 0.001822, 0.00162, 0.001473, 0.001308, 0.001179, 0.001086, 0.000972, 0.000866, 0.000758, 0.000667, 0.000597, 0.000543, 0.000473, 0.00044, 0.000394, 0.000357, 0.000319]}, {\"legendgroup\": \"Sim_13\", \"name\": \"Ip_stoch13\", \"type\": \"bar\", \"x\": [0, 1, 2, 3, 4, 5, 6, 7, 8, 9, 10, 11, 12, 13, 14, 15, 16, 17, 18, 19, 20, 21, 22, 23, 24, 25, 26, 27, 28, 29, 30, 31, 32, 33, 34, 35, 36, 37, 38, 39, 40, 41, 42, 43, 44, 45, 46, 47, 48, 49, 50, 51, 52, 53, 54, 55, 56, 57, 58, 59, 60, 61, 62, 63, 64, 65, 66, 67, 68, 69, 70, 71, 72, 73, 74, 75, 76, 77, 78, 79, 80, 81, 82, 83, 84, 85, 86, 87, 88, 89, 90, 91, 92, 93, 94, 95, 96, 97, 98], \"y\": [0.00013, 2e-05, 7e-05, 9e-05, 0.00011, 8e-05, 0.00016, 0.00021, 0.00026, 0.00026, 0.00043, 0.00036, 0.00065, 0.0007, 0.00109, 0.00117, 0.00134, 0.00163, 0.00215, 0.00249, 0.00302, 0.00371, 0.00451, 0.00514, 0.00651, 0.00862, 0.01016, 0.01265, 0.01591, 0.01936, 0.0239, 0.02874, 0.03471, 0.03845, 0.04126, 0.04297, 0.0452, 0.04598, 0.04672, 0.04755, 0.04634, 0.04391, 0.04341, 0.04006, 0.03754, 0.03646, 0.03376, 0.03205, 0.02969, 0.02648, 0.02499, 0.02316, 0.02115, 0.01956, 0.01723, 0.01526, 0.01466, 0.01321, 0.01152, 0.01065, 0.00923, 0.00843, 0.0077, 0.00722, 0.00657, 0.00582, 0.00509, 0.00481, 0.00424, 0.00381, 0.00338, 0.00293, 0.0028, 0.00238, 0.00211, 0.00215, 0.00202, 0.00178, 0.00172, 0.00132, 0.00118, 0.00105, 0.001, 0.00086, 0.00076, 0.00073, 0.00057, 0.00055, 0.00046, 0.00053, 0.00038, 0.00032, 0.00035, 0.00036, 0.00029, 0.0003, 0.00016, 0.00013, 0.00022]}, {\"legendgroup\": \"Sim_14\", \"line\": {\"color\": \"yellow\", \"dash\": \"dot\"}, \"name\": \"Beta_meas14\", \"type\": \"scatter\", \"x\": [0, 1, 2, 3, 4, 5, 6, 7, 8, 9, 10, 11, 12, 13, 14, 15, 16, 17, 18, 19, 20, 21, 22, 23, 24, 25, 26, 27, 28, 29, 30, 31, 32, 33, 34, 35, 36, 37, 38, 39, 40, 41, 42, 43, 44, 45, 46, 47, 48, 49, 50, 51, 52, 53, 54, 55, 56, 57, 58, 59, 60, 61, 62, 63, 64, 65, 66, 67, 68, 69, 70, 71, 72, 73, 74, 75, 76, 77, 78, 79, 80, 81, 82, 83, 84, 85, 86, 87, 88, 89, 90, 91, 92, 93, 94, 95, 96, 97, 98], \"y\": [0.0023077223080823126, 0.0030769630774430835, 0.00176473588286295, 0.004210606317309503, 0.003846253848753914, 0.001944514446964535, 0.003658686591516106, 0.003148318157328644, 0.0023531011873513283, 0.0019232269347778358, 0.0027588607105369888, 0.003786797807164429, 0.002681529471356903, 0.00333388342409831, 0.0028852155094413485, 0.0026281211512857346, 0.0033019911890638286, 0.0031037745746482154, 0.003095773032321741, 0.0027304291926005114, 0.0026793776664689266, 0.002816413586210379, 0.00287455031514212, 0.002866308716822639, 0.0027782901367219975, 0.0028771279725680445, 0.002853201253249372, 0.002918220395319203, 0.0028414211561389358, 0.0028381881509874723, 0.0029172993209149348, 0.0027598372683367766, 0.002858705737321213, 0.002520002217613862, 0.002274913555646236, 0.0020327773772588933, 0.0019201131719221443, 0.0017577711466284804, 0.001577843900604018, 0.0014591973570890655, 0.001407028790718937, 0.0012440265212125274, 0.001186233947921084, 0.0010983813702702566, 0.0010305017114173637, 0.0009565214720651525, 0.0008909746240452999, 0.0008712240629570584, 0.0007834304902927716, 0.0008001967828186731, 0.0007302900093967853, 0.000694788571423804, 0.0007054992473214633, 0.0006714616279146842, 0.0006366722735400173, 0.0005942271520069322, 0.0006295952807341833, 0.0005866939209041461, 0.0005383356581169961, 0.0005643106249580279, 0.0005616580200802766, 0.0005348831744245622, 0.0005255450142895669, 0.0005518660791927948, 0.0004925960673897844, 0.0005221866788083922, 0.0005433720464557469, 0.0004925664173861727, 0.0004487099511981348, 0.0005059097192842583, 0.00045333457199881307, 0.0005638891472880913, 0.0005239700437612652, 0.0005193199338227967, 0.0004980314718078348, 0.0004914407152359225, 0.00047397806436926497, 0.0005289072205075608, 0.0005037163510160185, 0.000524447245970745, 0.0004156039575594129, 0.0004959820952474722, 0.00040747364895643047, 0.000633219499292805, 0.0006455505521749394, 0.0004785986415083464, 0.0005921017999167115, 0.0004221765025488956, 0.0004486998082762826, 0.0004416904950692636, 0.00045405167335068567, 0.00041688678288803163, 0.0004160005120467103, 0.000589872747554397, 0.00044519624297528776, 0.00063422584005526, 0.00036375640324943603, 0.0004334633723450369, 0.0006155446569954342]}, {\"legendgroup\": \"Sim_14\", \"line\": {\"color\": \"red\", \"dash\": \"dot\"}, \"name\": \"I_stoch14\", \"type\": \"scatter\", \"x\": [0, 1, 2, 3, 4, 5, 6, 7, 8, 9, 10, 11, 12, 13, 14, 15, 16, 17, 18, 19, 20, 21, 22, 23, 24, 25, 26, 27, 28, 29, 30, 31, 32, 33, 34, 35, 36, 37, 38, 39, 40, 41, 42, 43, 44, 45, 46, 47, 48, 49, 50, 51, 52, 53, 54, 55, 56, 57, 58, 59, 60, 61, 62, 63, 64, 65, 66, 67, 68, 69, 70, 71, 72, 73, 74, 75, 76, 77, 78, 79, 80, 81, 82, 83, 84, 85, 86, 87, 88, 89, 90, 91, 92, 93, 94, 95, 96, 97, 98], \"y\": [1.3e-05, 1.7e-05, 1.9e-05, 2.6e-05, 3.6e-05, 4.1e-05, 5.4e-05, 6.8e-05, 7.8e-05, 8.7e-05, 0.000103, 0.000138, 0.000165, 0.000208, 0.000255, 0.000309, 0.00039, 0.000488, 0.000612, 0.000747, 0.000892, 0.001104, 0.001345, 0.001644, 0.002013, 0.00247, 0.003004, 0.003702, 0.004534, 0.00556, 0.006837, 0.008307, 0.010179, 0.012121, 0.014101, 0.016016, 0.018047, 0.01995, 0.021666, 0.023151, 0.024566, 0.025511, 0.026283, 0.026731, 0.026924, 0.026731, 0.026372, 0.025839, 0.02502, 0.024106, 0.022981, 0.021808, 0.020651, 0.019348, 0.018116, 0.016883, 0.015671, 0.014514, 0.013381, 0.012239, 0.011174, 0.010208, 0.009273, 0.008435, 0.007603, 0.006875, 0.006272, 0.005648, 0.005126, 0.004654, 0.004185, 0.003774, 0.00342, 0.003122, 0.002816, 0.002517, 0.002274, 0.002049, 0.001853, 0.001663, 0.001474, 0.001327, 0.00117, 0.00107, 0.000983, 0.000879, 0.000806, 0.000736, 0.000657, 0.000595, 0.000528, 0.000481, 0.000424, 0.000382, 0.000347, 0.00033, 0.0003, 0.00026, 0.000232]}, {\"legendgroup\": \"Sim_14\", \"name\": \"Ip_stoch14\", \"type\": \"bar\", \"x\": [0, 1, 2, 3, 4, 5, 6, 7, 8, 9, 10, 11, 12, 13, 14, 15, 16, 17, 18, 19, 20, 21, 22, 23, 24, 25, 26, 27, 28, 29, 30, 31, 32, 33, 34, 35, 36, 37, 38, 39, 40, 41, 42, 43, 44, 45, 46, 47, 48, 49, 50, 51, 52, 53, 54, 55, 56, 57, 58, 59, 60, 61, 62, 63, 64, 65, 66, 67, 68, 69, 70, 71, 72, 73, 74, 75, 76, 77, 78, 79, 80, 81, 82, 83, 84, 85, 86, 87, 88, 89, 90, 91, 92, 93, 94, 95, 96, 97, 98], \"y\": [0.00013, 4e-05, 3e-05, 8e-05, 0.0001, 7e-05, 0.00015, 0.00017, 0.00016, 0.00015, 0.00024, 0.00039, 0.00037, 0.00055, 0.0006, 0.00067, 0.00102, 0.00121, 0.00151, 0.00167, 0.002, 0.00251, 0.00317, 0.00385, 0.00456, 0.00578, 0.00703, 0.00874, 0.01048, 0.01281, 0.01613, 0.01874, 0.02355, 0.02539, 0.02724, 0.02826, 0.03026, 0.03115, 0.03085, 0.03093, 0.03182, 0.02981, 0.02949, 0.02811, 0.02681, 0.02506, 0.02318, 0.02237, 0.01972, 0.01952, 0.01718, 0.0156, 0.01505, 0.01358, 0.01208, 0.01057, 0.01045, 0.00905, 0.0077, 0.00745, 0.00679, 0.00591, 0.00531, 0.00507, 0.00412, 0.00394, 0.00371, 0.00307, 0.00252, 0.00258, 0.0021, 0.00235, 0.00197, 0.00177, 0.00155, 0.00138, 0.00119, 0.0012, 0.00103, 0.00097, 0.00069, 0.00073, 0.00054, 0.00074, 0.00069, 0.00047, 0.00052, 0.00034, 0.00033, 0.00029, 0.00027, 0.00022, 0.0002, 0.00025, 0.00017, 0.00022, 0.00012, 0.00013, 0.00016]}, {\"legendgroup\": \"Sim_15\", \"line\": {\"color\": \"yellow\", \"dash\": \"dot\"}, \"name\": \"Beta_meas15\", \"type\": \"scatter\", \"x\": [0, 1, 2, 3, 4, 5, 6, 7, 8, 9, 10, 11, 12, 13, 14, 15, 16, 17, 18, 19, 20, 21, 22, 23, 24, 25, 26, 27, 28, 29, 30, 31, 32, 33, 34, 35, 36, 37, 38, 39, 40, 41, 42, 43, 44, 45, 46, 47, 48, 49, 50, 51, 52, 53, 54, 55, 56, 57, 58, 59, 60, 61, 62, 63, 64, 65, 66, 67, 68, 69, 70, 71, 72, 73, 74, 75, 76, 77, 78, 79, 80, 81, 82, 83, 84, 85, 86, 87, 88, 89, 90, 91, 92, 93, 94, 95, 96, 97, 98], \"y\": [0.0033333833340833453, 0.004000060000900014, 0.0014286014292014416, 0.002083383334533362, 0.0014815214825615107, 0.001666716668166712, 0.0026471488265895162, 0.0033334733392135804, 0.004285954299155039, 0.002564302579703781, 0.0023915243680679493, 0.0030844421848464885, 0.0022140304960102447, 0.002987473057863898, 0.0031256001152221227, 0.0023855073747562905, 0.0029690381176459514, 0.002458003158248244, 0.0026834934258824707, 0.0025012806556957163, 0.0028356172905147476, 0.00268656524950014, 0.0026794133401019304, 0.002851098747817966, 0.0028578575557305264, 0.003058779925191806, 0.0030086157954840502, 0.002755856677715063, 0.0029509916412199903, 0.002962489266981094, 0.0029350244308683385, 0.0028537327891713865, 0.002767800314275677, 0.00248985618811679, 0.0023052018325747372, 0.0021389731817108622, 0.001862262688855692, 0.0017014105820121086, 0.0015795818177340463, 0.001474689084941981, 0.001324069533224898, 0.0012234223250844373, 0.0011464001516697196, 0.001088019922415677, 0.0009894547469451046, 0.0009629597045791218, 0.0009161299419936614, 0.00080612424568537, 0.0007889597202562255, 0.0008011312608024158, 0.0007543649507110217, 0.0006925709720658912, 0.0007186108864482118, 0.0006452750465791529, 0.0006232645932030947, 0.0006308467813095992, 0.0006033539676735962, 0.0005581748388487418, 0.0005669835233446689, 0.00057418780974514, 0.0005774630751864245, 0.0005250938372243783, 0.0005547492053851128, 0.0005692500321196427, 0.0005206680556193973, 0.0005128166500798996, 0.0004962494670701419, 0.0005105389481802306, 0.0005161622883633466, 0.0004152881960912927, 0.0005161466278631073, 0.0005026251737988402, 0.0005088973895702556, 0.000516721314216505, 0.0004625641443336448, 0.0005013865096128935, 0.0006296100991670751, 0.0005053920457109745, 0.0005192374830005951, 0.0005524411885750334, 0.0005131765290375327, 0.0005588870048991626, 0.0004966542065972183, 0.0004725521661812514, 0.0004924390401281883, 0.000505125202353156, 0.0005361346152526439, 0.0004962280301449265, 0.0004973181710728212, 0.00036290442217857605, 0.0004442455632171905, 0.0004885528260031282, 0.0004247083782391659, 0.0005041688514978635, 0.0005919160439542175, 0.00019873551481421563, 0.0005770731159332196, 0.00037983685677809437, 0.00027912978034463454]}, {\"legendgroup\": \"Sim_15\", \"line\": {\"color\": \"red\", \"dash\": \"dot\"}, \"name\": \"I_stoch15\", \"type\": \"scatter\", \"x\": [0, 1, 2, 3, 4, 5, 6, 7, 8, 9, 10, 11, 12, 13, 14, 15, 16, 17, 18, 19, 20, 21, 22, 23, 24, 25, 26, 27, 28, 29, 30, 31, 32, 33, 34, 35, 36, 37, 38, 39, 40, 41, 42, 43, 44, 45, 46, 47, 48, 49, 50, 51, 52, 53, 54, 55, 56, 57, 58, 59, 60, 61, 62, 63, 64, 65, 66, 67, 68, 69, 70, 71, 72, 73, 74, 75, 76, 77, 78, 79, 80, 81, 82, 83, 84, 85, 86, 87, 88, 89, 90, 91, 92, 93, 94, 95, 96, 97, 98], \"y\": [1.5e-05, 2.1e-05, 2.4e-05, 2.7e-05, 3e-05, 3.4e-05, 4.2e-05, 5.6e-05, 7.8e-05, 9.2e-05, 0.000107, 0.000131, 0.000154, 0.000192, 0.000239, 0.000283, 0.00035, 0.000425, 0.000512, 0.000614, 0.000745, 0.000904, 0.001092, 0.001356, 0.001657, 0.002055, 0.002521, 0.003066, 0.003778, 0.004676, 0.005759, 0.00707, 0.008621, 0.010203, 0.01189, 0.013676, 0.015298, 0.016832, 0.018312, 0.019629, 0.020708, 0.021493, 0.022029, 0.022424, 0.022414, 0.022341, 0.022033, 0.021463, 0.020804, 0.020089, 0.019272, 0.018329, 0.017364, 0.016294, 0.015293, 0.014241, 0.013162, 0.012213, 0.011202, 0.010306, 0.009401, 0.008582, 0.007808, 0.007138, 0.006477, 0.005858, 0.005297, 0.004828, 0.004329, 0.00389, 0.003534, 0.003154, 0.002853, 0.002601, 0.002339, 0.002085, 0.001923, 0.001717, 0.001541, 0.001405, 0.001272, 0.001149, 0.001038, 0.000935, 0.000852, 0.000784, 0.000726, 0.000664, 0.000579, 0.000518, 0.000471, 0.000424, 0.000377, 0.000338, 0.000302, 0.00026, 0.000237, 0.000215, 0.000193]}, {\"legendgroup\": \"Sim_15\", \"name\": \"Ip_stoch15\", \"type\": \"bar\", \"x\": [0, 1, 2, 3, 4, 5, 6, 7, 8, 9, 10, 11, 12, 13, 14, 15, 16, 17, 18, 19, 20, 21, 22, 23, 24, 25, 26, 27, 28, 29, 30, 31, 32, 33, 34, 35, 36, 37, 38, 39, 40, 41, 42, 43, 44, 45, 46, 47, 48, 49, 50, 51, 52, 53, 54, 55, 56, 57, 58, 59, 60, 61, 62, 63, 64, 65, 66, 67, 68, 69, 70, 71, 72, 73, 74, 75, 76, 77, 78, 79, 80, 81, 82, 83, 84, 85, 86, 87, 88, 89, 90, 91, 92, 93, 94, 95, 96, 97, 98], \"y\": [0.00015, 6e-05, 3e-05, 5e-05, 4e-05, 5e-05, 9e-05, 0.00014, 0.00024, 0.0002, 0.00022, 0.00033, 0.00029, 0.00046, 0.0006, 0.00057, 0.00084, 0.00086, 0.00114, 0.00128, 0.00174, 0.002, 0.00242, 0.00311, 0.00387, 0.00506, 0.00617, 0.00693, 0.00902, 0.01115, 0.01366, 0.01634, 0.01943, 0.02128, 0.02328, 0.02513, 0.02512, 0.02563, 0.02614, 0.02651, 0.02548, 0.02481, 0.02411, 0.02344, 0.02169, 0.0211, 0.02001, 0.01737, 0.01657, 0.01632, 0.01485, 0.01309, 0.01293, 0.01101, 0.00999, 0.0095, 0.00847, 0.00725, 0.00684, 0.00636, 0.00589, 0.00489, 0.00472, 0.00441, 0.00369, 0.0033, 0.00289, 0.00269, 0.00248, 0.00179, 0.002, 0.00177, 0.0016, 0.00147, 0.0012, 0.00117, 0.00131, 0.00097, 0.00089, 0.00085, 0.00072, 0.00071, 0.00057, 0.00049, 0.00046, 0.00043, 0.00042, 0.00036, 0.00033, 0.00021, 0.00023, 0.00023, 0.00018, 0.00019, 0.0002, 6e-05, 0.00015, 9e-05, 6e-05]}, {\"legendgroup\": \"Sim_16\", \"line\": {\"color\": \"yellow\", \"dash\": \"dot\"}, \"name\": \"Beta_meas16\", \"type\": \"scatter\", \"x\": [0, 1, 2, 3, 4, 5, 6, 7, 8, 9, 10, 11, 12, 13, 14, 15, 16, 17, 18, 19, 20, 21, 22, 23, 24, 25, 26, 27, 28, 29, 30, 31, 32, 33, 34, 35, 36, 37, 38, 39, 40, 41, 42, 43, 44, 45, 46, 47, 48, 49, 50, 51, 52, 53, 54, 55, 56, 57, 58, 59, 60, 61, 62, 63, 64, 65, 66, 67, 68, 69, 70, 71, 72, 73, 74, 75, 76, 77, 78, 79, 80, 81, 82, 83, 84, 85, 86, 87, 88, 89, 90, 91, 92, 93, 94, 95, 96, 97, 98], \"y\": [0.0035714785721285814, 0.0021428871432771493, 0.0035294717657259, 0.0027273327285927563, 0.0025000700019600555, 0.002187570002240072, 0.002973082977043123, 0.002222322226722425, 0.0024529601955696105, 0.0032260064640136725, 0.0029335533498345712, 0.0016130532397577492, 0.0030696169620062323, 0.0030403800475059385, 0.0030578049161361647, 0.0029539379856789046, 0.003362492313353212, 0.003144752990174162, 0.002892337095435112, 0.0029842232660677393, 0.002936644588732324, 0.002885314468432344, 0.0029344004542178935, 0.0029481676311583294, 0.003051459452818213, 0.002737840750355697, 0.002916617459663753, 0.0029221423443767363, 0.002960223405636355, 0.002921815393564729, 0.0029021504618323944, 0.0029081137188984147, 0.0027847814157337283, 0.0025710435843004495, 0.0023167403765772983, 0.002048594221325471, 0.0019204886195640142, 0.0017077710698873388, 0.0016030496481715614, 0.0014618430570073663, 0.0013316936340298454, 0.0012414869115095419, 0.0011770899722717755, 0.0010485185996844898, 0.0009948173374728275, 0.0009421031551777848, 0.000872862914021633, 0.0008576264457494573, 0.000826919164332775, 0.0007281845795475848, 0.0007508479493249404, 0.000685666307181617, 0.0006745228164239775, 0.0006531897223326749, 0.000635264836051216, 0.0006280521339895594, 0.0006416872302568376, 0.0006128414811272922, 0.0005777690980992478, 0.0005372831709028118, 0.0005569992666565091, 0.0005613821418631702, 0.0005114442896044553, 0.0005284172611415214, 0.0005582759948564028, 0.0005538949723748787, 0.0005486754213792862, 0.0005612735973189621, 0.0005342286861525985, 0.0005296705856411314, 0.0005346033968844326, 0.0004888273102821119, 0.0005576522459738491, 0.0005450772344572254, 0.00045665326174508845, 0.0005319076831556887, 0.0004926447308776378, 0.0005195617043554051, 0.00047344362318837963, 0.0005341885054875151, 0.0004718567235420699, 0.000583043023636427, 0.0005349472127162793, 0.0004209557966278058, 0.000540115507891914, 0.0006166170120744833, 0.0003698711684136397, 0.0004866746023078589, 0.000689699566868672, 0.0004722966182871397, 0.0006264277484101396, 0.0005831981357036416, 0.0005979097124286273, 0.0003565075106250546, 0.00017818707586687163, 0.00043746783572421317, 0.0005033047049842353, 0.00034975037825853167, 0.0006515110405501659]}, {\"legendgroup\": \"Sim_16\", \"line\": {\"color\": \"red\", \"dash\": \"dot\"}, \"name\": \"I_stoch16\", \"type\": \"scatter\", \"x\": [0, 1, 2, 3, 4, 5, 6, 7, 8, 9, 10, 11, 12, 13, 14, 15, 16, 17, 18, 19, 20, 21, 22, 23, 24, 25, 26, 27, 28, 29, 30, 31, 32, 33, 34, 35, 36, 37, 38, 39, 40, 41, 42, 43, 44, 45, 46, 47, 48, 49, 50, 51, 52, 53, 54, 55, 56, 57, 58, 59, 60, 61, 62, 63, 64, 65, 66, 67, 68, 69, 70, 71, 72, 73, 74, 75, 76, 77, 78, 79, 80, 81, 82, 83, 84, 85, 86, 87, 88, 89, 90, 91, 92, 93, 94, 95, 96, 97, 98], \"y\": [1.4e-05, 1.7e-05, 2.2e-05, 2.8e-05, 3.2e-05, 3.7e-05, 4.5e-05, 5.3e-05, 6.2e-05, 7.5e-05, 9.3e-05, 0.000101, 0.000125, 0.000157, 0.000193, 0.000235, 0.000299, 0.000377, 0.000466, 0.000569, 0.000711, 0.00088, 0.00109, 0.001329, 0.001661, 0.002027, 0.002501, 0.003087, 0.003817, 0.004684, 0.005762, 0.007114, 0.008663, 0.010372, 0.012151, 0.013898, 0.015651, 0.017227, 0.018746, 0.020046, 0.021123, 0.02195, 0.022619, 0.022932, 0.023, 0.022875, 0.022436, 0.021871, 0.021214, 0.02031, 0.01947, 0.018411, 0.017356, 0.016339, 0.01528, 0.014244, 0.013296, 0.012337, 0.011352, 0.010432, 0.00955, 0.008758, 0.007974, 0.007217, 0.006652, 0.006088, 0.005554, 0.005042, 0.004609, 0.00417, 0.003799, 0.003473, 0.003184, 0.002899, 0.002639, 0.002401, 0.002141, 0.001947, 0.001744, 0.001592, 0.00146, 0.001329, 0.001213, 0.001075, 0.000974, 0.000893, 0.000802, 0.00074, 0.000678, 0.000591, 0.000549, 0.000502, 0.000449, 0.000393, 0.000343, 0.000318, 0.000286, 0.000261, 0.000235]}, {\"legendgroup\": \"Sim_16\", \"name\": \"Ip_stoch16\", \"type\": \"bar\", \"x\": [0, 1, 2, 3, 4, 5, 6, 7, 8, 9, 10, 11, 12, 13, 14, 15, 16, 17, 18, 19, 20, 21, 22, 23, 24, 25, 26, 27, 28, 29, 30, 31, 32, 33, 34, 35, 36, 37, 38, 39, 40, 41, 42, 43, 44, 45, 46, 47, 48, 49, 50, 51, 52, 53, 54, 55, 56, 57, 58, 59, 60, 61, 62, 63, 64, 65, 66, 67, 68, 69, 70, 71, 72, 73, 74, 75, 76, 77, 78, 79, 80, 81, 82, 83, 84, 85, 86, 87, 88, 89, 90, 91, 92, 93, 94, 95, 96, 97, 98], \"y\": [0.00015, 3e-05, 6e-05, 6e-05, 7e-05, 7e-05, 0.00011, 0.0001, 0.00013, 0.0002, 0.00022, 0.00015, 0.00031, 0.00038, 0.00048, 0.00057, 0.00079, 0.00094, 0.00109, 0.00139, 0.00167, 0.00205, 0.00258, 0.00321, 0.00405, 0.00454, 0.0059, 0.00729, 0.00911, 0.01111, 0.01353, 0.01666, 0.01967, 0.02208, 0.02378, 0.02459, 0.02632, 0.02631, 0.02714, 0.02689, 0.02616, 0.02567, 0.02527, 0.02318, 0.02229, 0.02117, 0.01951, 0.01881, 0.01769, 0.01512, 0.01494, 0.01309, 0.01219, 0.01114, 0.01021, 0.00945, 0.00901, 0.00804, 0.00704, 0.00603, 0.00575, 0.00531, 0.00444, 0.00418, 0.004, 0.00366, 0.00332, 0.0031, 0.00268, 0.00243, 0.00222, 0.00185, 0.00193, 0.00173, 0.00132, 0.0014, 0.00118, 0.00111, 0.00092, 0.00093, 0.00075, 0.00085, 0.00071, 0.00051, 0.00058, 0.0006, 0.00033, 0.00039, 0.00051, 0.00032, 0.00037, 0.00032, 0.0003, 0.00016, 7e-05, 0.00015, 0.00016, 0.0001, 0.00017]}, {\"legendgroup\": \"Sim_17\", \"line\": {\"color\": \"yellow\", \"dash\": \"dot\"}, \"name\": \"Beta_meas17\", \"type\": \"scatter\", \"x\": [0, 1, 2, 3, 4, 5, 6, 7, 8, 9, 10, 11, 12, 13, 14, 15, 16, 17, 18, 19, 20, 21, 22, 23, 24, 25, 26, 27, 28, 29, 30, 31, 32, 33, 34, 35, 36, 37, 38, 39, 40, 41, 42, 43, 44, 45, 46, 47, 48, 49, 50, 51, 52, 53, 54, 55, 56, 57, 58, 59, 60, 61, 62, 63, 64, 65, 66, 67, 68, 69, 70, 71, 72, 73, 74, 75, 76, 77, 78, 79, 80, 81, 82, 83, 84, 85, 86, 87, 88, 89, 90, 91, 92, 93, 94, 95, 96, 97, 98], \"y\": [0.004000060000900014, 0.0033333833340833453, 0.002000040000800016, 0.00521751130710789, 0.005000170005780197, 0.00200010000500025, 0.0035089719412252115, 0.0021623221740030385, 0.002442070483177832, 0.002941476501191357, 0.0020771931120276404, 0.002667066726675668, 0.0031672367692851386, 0.0033920845272673583, 0.003390272046036162, 0.003316900338801734, 0.0031238435710509898, 0.0026704998548329802, 0.003209574549393533, 0.0031953086224961176, 0.0030763749304663457, 0.002792963167417056, 0.0031730307328152554, 0.0029772369634880193, 0.0029052787471568337, 0.0028732412727616027, 0.002851516761438686, 0.002856586046849523, 0.0027622792247553474, 0.0028714060830481412, 0.0029010330072701315, 0.0028480165190636736, 0.0027974082819138602, 0.002501765006412197, 0.0023039293020005987, 0.002032460377475951, 0.0018666460715069527, 0.0017405258415151873, 0.0015497479349566748, 0.001457146465826726, 0.0013233634729820174, 0.0012972260481013767, 0.0011712168530503193, 0.0010564765859483523, 0.001017981459162567, 0.0009673712397917144, 0.0009179960956288339, 0.0008628781945394038, 0.0008000847093443046, 0.0007541342040429225, 0.0007100995923773937, 0.000700675737721475, 0.0006828483533159161, 0.0006597236730398774, 0.000618691177513089, 0.0006292447103042237, 0.0006216202170741231, 0.0005964342522019951, 0.0005596727878006151, 0.0005764467256443693, 0.0005817380649763092, 0.0005285780711869333, 0.000493057270758621, 0.0005363854629506026, 0.0005575168959500338, 0.0005103726044028434, 0.0005135748459424613, 0.000504508232819895, 0.0005280862462944925, 0.0004900889360336311, 0.00046170435645357077, 0.0005197088952737684, 0.0005047086997369074, 0.0005135779296499617, 0.000541206902045432, 0.0005197256326090544, 0.000494544578005787, 0.0005077359261858078, 0.0005051318341003058, 0.0004948719968742689, 0.0005017389914535596, 0.0005165810940398495, 0.0005491169546455847, 0.0004619522197423125, 0.0004765252745104743, 0.0004535847766748883, 0.0005349358625003405, 0.0004517942577891937, 0.0004289865982166585, 0.00044113802750096954, 0.0005167048363621315, 0.00047553349378044756, 0.0005419920545376506, 0.0004222411417218064, 0.0005241397318405834, 0.0005266259721712931, 0.0004285355239488, 0.0003287021724138177, 0.0005002100882370595]}, {\"legendgroup\": \"Sim_17\", \"line\": {\"color\": \"red\", \"dash\": \"dot\"}, \"name\": \"I_stoch17\", \"type\": \"scatter\", \"x\": [0, 1, 2, 3, 4, 5, 6, 7, 8, 9, 10, 11, 12, 13, 14, 15, 16, 17, 18, 19, 20, 21, 22, 23, 24, 25, 26, 27, 28, 29, 30, 31, 32, 33, 34, 35, 36, 37, 38, 39, 40, 41, 42, 43, 44, 45, 46, 47, 48, 49, 50, 51, 52, 53, 54, 55, 56, 57, 58, 59, 60, 61, 62, 63, 64, 65, 66, 67, 68, 69, 70, 71, 72, 73, 74, 75, 76, 77, 78, 79, 80, 81, 82, 83, 84, 85, 86, 87, 88, 89, 90, 91, 92, 93, 94, 95, 96, 97, 98], \"y\": [1.5e-05, 2e-05, 2.3e-05, 3.4e-05, 5e-05, 5.7e-05, 7.4e-05, 8.6e-05, 0.000102, 0.00013, 0.00015, 0.00018, 0.00023, 0.000298, 0.000377, 0.000474, 0.000592, 0.000714, 0.000899, 0.001139, 0.001445, 0.001768, 0.002242, 0.002782, 0.003426, 0.004212, 0.005148, 0.006321, 0.007686, 0.009448, 0.011631, 0.014204, 0.017262, 0.020508, 0.023913, 0.027233, 0.030404, 0.033488, 0.036171, 0.038559, 0.040433, 0.042247, 0.043233, 0.043612, 0.043749, 0.043517, 0.042812, 0.041806, 0.040319, 0.038643, 0.036837, 0.034869, 0.03285, 0.030716, 0.028732, 0.026727, 0.024774, 0.022988, 0.021179, 0.01937, 0.017778, 0.016162, 0.014702, 0.013362, 0.012239, 0.011145, 0.010112, 0.009135, 0.008354, 0.007529, 0.006722, 0.00606, 0.005482, 0.004958, 0.004484, 0.004081, 0.003657, 0.003337, 0.00302, 0.002738, 0.002484, 0.002245, 0.002039, 0.001808, 0.001612, 0.001479, 0.001352, 0.001237, 0.001112, 0.000988, 0.000884, 0.000794, 0.000711, 0.00063, 0.000589, 0.000537, 0.000487, 0.00042, 0.000379]}, {\"legendgroup\": \"Sim_17\", \"name\": \"Ip_stoch17\", \"type\": \"bar\", \"x\": [0, 1, 2, 3, 4, 5, 6, 7, 8, 9, 10, 11, 12, 13, 14, 15, 16, 17, 18, 19, 20, 21, 22, 23, 24, 25, 26, 27, 28, 29, 30, 31, 32, 33, 34, 35, 36, 37, 38, 39, 40, 41, 42, 43, 44, 45, 46, 47, 48, 49, 50, 51, 52, 53, 54, 55, 56, 57, 58, 59, 60, 61, 62, 63, 64, 65, 66, 67, 68, 69, 70, 71, 72, 73, 74, 75, 76, 77, 78, 79, 80, 81, 82, 83, 84, 85, 86, 87, 88, 89, 90, 91, 92, 93, 94, 95, 96, 97, 98], \"y\": [0.00016, 5e-05, 4e-05, 0.00012, 0.00017, 0.0001, 0.0002, 0.00016, 0.00021, 0.0003, 0.00027, 0.0004, 0.00057, 0.00078, 0.00101, 0.00125, 0.00148, 0.00158, 0.00229, 0.00287, 0.0035, 0.00403, 0.0056, 0.00666, 0.00806, 0.00981, 0.01196, 0.01463, 0.01735, 0.0219, 0.02715, 0.03274, 0.03917, 0.04244, 0.04628, 0.04744, 0.04945, 0.05131, 0.05016, 0.0508, 0.04906, 0.05033, 0.04739, 0.0437, 0.04246, 0.04047, 0.03821, 0.03536, 0.03205, 0.02918, 0.02638, 0.02486, 0.02298, 0.02096, 0.01842, 0.01756, 0.01617, 0.01441, 0.01257, 0.01195, 0.01105, 0.00923, 0.00784, 0.00777, 0.00735, 0.00617, 0.00566, 0.00505, 0.00478, 0.00406, 0.00345, 0.00347, 0.00304, 0.0028, 0.00267, 0.00232, 0.00201, 0.00185, 0.00168, 0.00149, 0.00137, 0.00128, 0.00123, 0.00094, 0.00086, 0.00073, 0.00079, 0.00061, 0.00053, 0.00049, 0.00051, 0.00042, 0.00043, 0.0003, 0.00033, 0.00031, 0.00023, 0.00016, 0.00021]}],                        {\"height\": 800, \"template\": {\"data\": {\"bar\": [{\"error_x\": {\"color\": \"#2a3f5f\"}, \"error_y\": {\"color\": \"#2a3f5f\"}, \"marker\": {\"line\": {\"color\": \"#E5ECF6\", \"width\": 0.5}}, \"type\": \"bar\"}], \"barpolar\": [{\"marker\": {\"line\": {\"color\": \"#E5ECF6\", \"width\": 0.5}}, \"type\": \"barpolar\"}], \"carpet\": [{\"aaxis\": {\"endlinecolor\": \"#2a3f5f\", \"gridcolor\": \"white\", \"linecolor\": \"white\", \"minorgridcolor\": \"white\", \"startlinecolor\": \"#2a3f5f\"}, \"baxis\": {\"endlinecolor\": \"#2a3f5f\", \"gridcolor\": \"white\", \"linecolor\": \"white\", \"minorgridcolor\": \"white\", \"startlinecolor\": \"#2a3f5f\"}, \"type\": \"carpet\"}], \"choropleth\": [{\"colorbar\": {\"outlinewidth\": 0, \"ticks\": \"\"}, \"type\": \"choropleth\"}], \"contour\": [{\"colorbar\": {\"outlinewidth\": 0, \"ticks\": \"\"}, \"colorscale\": [[0.0, \"#0d0887\"], [0.1111111111111111, \"#46039f\"], [0.2222222222222222, \"#7201a8\"], [0.3333333333333333, \"#9c179e\"], [0.4444444444444444, \"#bd3786\"], [0.5555555555555556, \"#d8576b\"], [0.6666666666666666, \"#ed7953\"], [0.7777777777777778, \"#fb9f3a\"], [0.8888888888888888, \"#fdca26\"], [1.0, \"#f0f921\"]], \"type\": \"contour\"}], \"contourcarpet\": [{\"colorbar\": {\"outlinewidth\": 0, \"ticks\": \"\"}, \"type\": \"contourcarpet\"}], \"heatmap\": [{\"colorbar\": {\"outlinewidth\": 0, \"ticks\": \"\"}, \"colorscale\": [[0.0, \"#0d0887\"], [0.1111111111111111, \"#46039f\"], [0.2222222222222222, \"#7201a8\"], [0.3333333333333333, \"#9c179e\"], [0.4444444444444444, \"#bd3786\"], [0.5555555555555556, \"#d8576b\"], [0.6666666666666666, \"#ed7953\"], [0.7777777777777778, \"#fb9f3a\"], [0.8888888888888888, \"#fdca26\"], [1.0, \"#f0f921\"]], \"type\": \"heatmap\"}], \"heatmapgl\": [{\"colorbar\": {\"outlinewidth\": 0, \"ticks\": \"\"}, \"colorscale\": [[0.0, \"#0d0887\"], [0.1111111111111111, \"#46039f\"], [0.2222222222222222, \"#7201a8\"], [0.3333333333333333, \"#9c179e\"], [0.4444444444444444, \"#bd3786\"], [0.5555555555555556, \"#d8576b\"], [0.6666666666666666, \"#ed7953\"], [0.7777777777777778, \"#fb9f3a\"], [0.8888888888888888, \"#fdca26\"], [1.0, \"#f0f921\"]], \"type\": \"heatmapgl\"}], \"histogram\": [{\"marker\": {\"colorbar\": {\"outlinewidth\": 0, \"ticks\": \"\"}}, \"type\": \"histogram\"}], \"histogram2d\": [{\"colorbar\": {\"outlinewidth\": 0, \"ticks\": \"\"}, \"colorscale\": [[0.0, \"#0d0887\"], [0.1111111111111111, \"#46039f\"], [0.2222222222222222, \"#7201a8\"], [0.3333333333333333, \"#9c179e\"], [0.4444444444444444, \"#bd3786\"], [0.5555555555555556, \"#d8576b\"], [0.6666666666666666, \"#ed7953\"], [0.7777777777777778, \"#fb9f3a\"], [0.8888888888888888, \"#fdca26\"], [1.0, \"#f0f921\"]], \"type\": \"histogram2d\"}], \"histogram2dcontour\": [{\"colorbar\": {\"outlinewidth\": 0, \"ticks\": \"\"}, \"colorscale\": [[0.0, \"#0d0887\"], [0.1111111111111111, \"#46039f\"], [0.2222222222222222, \"#7201a8\"], [0.3333333333333333, \"#9c179e\"], [0.4444444444444444, \"#bd3786\"], [0.5555555555555556, \"#d8576b\"], [0.6666666666666666, \"#ed7953\"], [0.7777777777777778, \"#fb9f3a\"], [0.8888888888888888, \"#fdca26\"], [1.0, \"#f0f921\"]], \"type\": \"histogram2dcontour\"}], \"mesh3d\": [{\"colorbar\": {\"outlinewidth\": 0, \"ticks\": \"\"}, \"type\": \"mesh3d\"}], \"parcoords\": [{\"line\": {\"colorbar\": {\"outlinewidth\": 0, \"ticks\": \"\"}}, \"type\": \"parcoords\"}], \"pie\": [{\"automargin\": true, \"type\": \"pie\"}], \"scatter\": [{\"marker\": {\"colorbar\": {\"outlinewidth\": 0, \"ticks\": \"\"}}, \"type\": \"scatter\"}], \"scatter3d\": [{\"line\": {\"colorbar\": {\"outlinewidth\": 0, \"ticks\": \"\"}}, \"marker\": {\"colorbar\": {\"outlinewidth\": 0, \"ticks\": \"\"}}, \"type\": \"scatter3d\"}], \"scattercarpet\": [{\"marker\": {\"colorbar\": {\"outlinewidth\": 0, \"ticks\": \"\"}}, \"type\": \"scattercarpet\"}], \"scattergeo\": [{\"marker\": {\"colorbar\": {\"outlinewidth\": 0, \"ticks\": \"\"}}, \"type\": \"scattergeo\"}], \"scattergl\": [{\"marker\": {\"colorbar\": {\"outlinewidth\": 0, \"ticks\": \"\"}}, \"type\": \"scattergl\"}], \"scattermapbox\": [{\"marker\": {\"colorbar\": {\"outlinewidth\": 0, \"ticks\": \"\"}}, \"type\": \"scattermapbox\"}], \"scatterpolar\": [{\"marker\": {\"colorbar\": {\"outlinewidth\": 0, \"ticks\": \"\"}}, \"type\": \"scatterpolar\"}], \"scatterpolargl\": [{\"marker\": {\"colorbar\": {\"outlinewidth\": 0, \"ticks\": \"\"}}, \"type\": \"scatterpolargl\"}], \"scatterternary\": [{\"marker\": {\"colorbar\": {\"outlinewidth\": 0, \"ticks\": \"\"}}, \"type\": \"scatterternary\"}], \"surface\": [{\"colorbar\": {\"outlinewidth\": 0, \"ticks\": \"\"}, \"colorscale\": [[0.0, \"#0d0887\"], [0.1111111111111111, \"#46039f\"], [0.2222222222222222, \"#7201a8\"], [0.3333333333333333, \"#9c179e\"], [0.4444444444444444, \"#bd3786\"], [0.5555555555555556, \"#d8576b\"], [0.6666666666666666, \"#ed7953\"], [0.7777777777777778, \"#fb9f3a\"], [0.8888888888888888, \"#fdca26\"], [1.0, \"#f0f921\"]], \"type\": \"surface\"}], \"table\": [{\"cells\": {\"fill\": {\"color\": \"#EBF0F8\"}, \"line\": {\"color\": \"white\"}}, \"header\": {\"fill\": {\"color\": \"#C8D4E3\"}, \"line\": {\"color\": \"white\"}}, \"type\": \"table\"}]}, \"layout\": {\"annotationdefaults\": {\"arrowcolor\": \"#2a3f5f\", \"arrowhead\": 0, \"arrowwidth\": 1}, \"autotypenumbers\": \"strict\", \"coloraxis\": {\"colorbar\": {\"outlinewidth\": 0, \"ticks\": \"\"}}, \"colorscale\": {\"diverging\": [[0, \"#8e0152\"], [0.1, \"#c51b7d\"], [0.2, \"#de77ae\"], [0.3, \"#f1b6da\"], [0.4, \"#fde0ef\"], [0.5, \"#f7f7f7\"], [0.6, \"#e6f5d0\"], [0.7, \"#b8e186\"], [0.8, \"#7fbc41\"], [0.9, \"#4d9221\"], [1, \"#276419\"]], \"sequential\": [[0.0, \"#0d0887\"], [0.1111111111111111, \"#46039f\"], [0.2222222222222222, \"#7201a8\"], [0.3333333333333333, \"#9c179e\"], [0.4444444444444444, \"#bd3786\"], [0.5555555555555556, \"#d8576b\"], [0.6666666666666666, \"#ed7953\"], [0.7777777777777778, \"#fb9f3a\"], [0.8888888888888888, \"#fdca26\"], [1.0, \"#f0f921\"]], \"sequentialminus\": [[0.0, \"#0d0887\"], [0.1111111111111111, \"#46039f\"], [0.2222222222222222, \"#7201a8\"], [0.3333333333333333, \"#9c179e\"], [0.4444444444444444, \"#bd3786\"], [0.5555555555555556, \"#d8576b\"], [0.6666666666666666, \"#ed7953\"], [0.7777777777777778, \"#fb9f3a\"], [0.8888888888888888, \"#fdca26\"], [1.0, \"#f0f921\"]]}, \"colorway\": [\"#636efa\", \"#EF553B\", \"#00cc96\", \"#ab63fa\", \"#FFA15A\", \"#19d3f3\", \"#FF6692\", \"#B6E880\", \"#FF97FF\", \"#FECB52\"], \"font\": {\"color\": \"#2a3f5f\"}, \"geo\": {\"bgcolor\": \"white\", \"lakecolor\": \"white\", \"landcolor\": \"#E5ECF6\", \"showlakes\": true, \"showland\": true, \"subunitcolor\": \"white\"}, \"hoverlabel\": {\"align\": \"left\"}, \"hovermode\": \"closest\", \"mapbox\": {\"style\": \"light\"}, \"paper_bgcolor\": \"white\", \"plot_bgcolor\": \"#E5ECF6\", \"polar\": {\"angularaxis\": {\"gridcolor\": \"white\", \"linecolor\": \"white\", \"ticks\": \"\"}, \"bgcolor\": \"#E5ECF6\", \"radialaxis\": {\"gridcolor\": \"white\", \"linecolor\": \"white\", \"ticks\": \"\"}}, \"scene\": {\"xaxis\": {\"backgroundcolor\": \"#E5ECF6\", \"gridcolor\": \"white\", \"gridwidth\": 2, \"linecolor\": \"white\", \"showbackground\": true, \"ticks\": \"\", \"zerolinecolor\": \"white\"}, \"yaxis\": {\"backgroundcolor\": \"#E5ECF6\", \"gridcolor\": \"white\", \"gridwidth\": 2, \"linecolor\": \"white\", \"showbackground\": true, \"ticks\": \"\", \"zerolinecolor\": \"white\"}, \"zaxis\": {\"backgroundcolor\": \"#E5ECF6\", \"gridcolor\": \"white\", \"gridwidth\": 2, \"linecolor\": \"white\", \"showbackground\": true, \"ticks\": \"\", \"zerolinecolor\": \"white\"}}, \"shapedefaults\": {\"line\": {\"color\": \"#2a3f5f\"}}, \"ternary\": {\"aaxis\": {\"gridcolor\": \"white\", \"linecolor\": \"white\", \"ticks\": \"\"}, \"baxis\": {\"gridcolor\": \"white\", \"linecolor\": \"white\", \"ticks\": \"\"}, \"bgcolor\": \"#E5ECF6\", \"caxis\": {\"gridcolor\": \"white\", \"linecolor\": \"white\", \"ticks\": \"\"}}, \"title\": {\"x\": 0.05}, \"xaxis\": {\"automargin\": true, \"gridcolor\": \"white\", \"linecolor\": \"white\", \"ticks\": \"\", \"title\": {\"standoff\": 15}, \"zerolinecolor\": \"white\", \"zerolinewidth\": 2}, \"yaxis\": {\"automargin\": true, \"gridcolor\": \"white\", \"linecolor\": \"white\", \"ticks\": \"\", \"title\": {\"standoff\": 15}, \"zerolinecolor\": \"white\", \"zerolinewidth\": 2}}}, \"title\": {\"text\": \"$\\\\text{Stochastic HIV SIR model}$\", \"x\": 0.5, \"xanchor\": \"center\"}, \"xaxis\": {\"title\": {\"text\": \"Years\"}}, \"yaxis\": {\"title\": {\"text\": \"Proportion of population\"}}},                        {\"responsive\": true}                    ).then(function(){\n",
              "                            \n",
              "var gd = document.getElementById('38e4b7e9-a0ff-4e89-885c-a3922004d9a4');\n",
              "var x = new MutationObserver(function (mutations, observer) {{\n",
              "        var display = window.getComputedStyle(gd).display;\n",
              "        if (!display || display === 'none') {{\n",
              "            console.log([gd, 'removed!']);\n",
              "            Plotly.purge(gd);\n",
              "            observer.disconnect();\n",
              "        }}\n",
              "}});\n",
              "\n",
              "// Listen for the removal of the full notebook cells\n",
              "var notebookContainer = gd.closest('#notebook-container');\n",
              "if (notebookContainer) {{\n",
              "    x.observe(notebookContainer, {childList: true});\n",
              "}}\n",
              "\n",
              "// Listen for the clearing of the current output cell\n",
              "var outputEl = gd.closest('.output');\n",
              "if (outputEl) {{\n",
              "    x.observe(outputEl, {childList: true});\n",
              "}}\n",
              "\n",
              "                        })                };                            </script>        </div>\n",
              "</body>\n",
              "</html>"
            ]
          },
          "metadata": {
            "tags": []
          }
        }
      ]
    },
    {
      "cell_type": "code",
      "metadata": {
        "colab": {
          "base_uri": "https://localhost:8080/",
          "height": 230
        },
        "id": "ibxz7LHaQmbz",
        "outputId": "609ae854-ddf0-4fb7-cbcf-471275f28391"
      },
      "source": [
        "#collapse_hide\n",
        "fig = go.Figure()\n",
        "\n",
        "for i in range(len(results_stoch)):\n",
        "  #fig.add_trace(go.Scatter(name='Beta_stoch'+str(i), x=np.arange(len(results_stoch[i][0])), y=results_stoch[i][6], line={'dash':'dot','color':'yellow'}, legendgroup=\"Sim_\"+str(i)))\n",
        "  #fig.add_trace(go.Scatter(name='Beta_meas'+str(i), x=np.arange(len(results_stoch[i][0])), y=results_stoch[i][7], line={'dash':'dot','color':'yellow'}, legendgroup=\"Sim_\"+str(i)))\n",
        "  fig.add_trace(go.Scatter(name='I_stoch'+str(i), x=np.arange(len(results_stoch[i][0])), y=results_stoch[i][1]/p, line={'dash':'dot', 'color':'red'}, legendgroup=\"Sim_\"+str(i)))\n",
        "  fig.add_trace(go.Bar(name='Ip_stoch'+str(i), x=np.arange(len(results_stoch[i][0])), y=results_stoch[i][4]*10/p, legendgroup=\"Sim_\"+str(i)))\n",
        "  #fig.add_trace(go.Scatter(name='R_stoch'+str(i), x=np.arange(len(results_stoch[i][0])), y=results_stoch[i][2]/p, line={'dash':'dot', 'color':'green'}, legendgroup=\"Sim_\"+str(i)))\n",
        "\n",
        "fig.update_layout(\n",
        "    xaxis_title = 'Years',\n",
        "    yaxis_title = 'Proportion of population',\n",
        "    title={\n",
        "        'text':r'$\\text{Stochastic HIV SIR model}$',\n",
        "        'x':0.5,\n",
        "        'xanchor':'center'\n",
        "    }\n",
        ")\n",
        "\n",
        "fig.show()"
      ],
      "execution_count": null,
      "outputs": [
        {
          "output_type": "error",
          "ename": "NameError",
          "evalue": "ignored",
          "traceback": [
            "\u001b[0;31m---------------------------------------------------------------------------\u001b[0m",
            "\u001b[0;31mNameError\u001b[0m                                 Traceback (most recent call last)",
            "\u001b[0;32m<ipython-input-2-79543e669eb1>\u001b[0m in \u001b[0;36m<module>\u001b[0;34m()\u001b[0m\n\u001b[1;32m      1\u001b[0m \u001b[0;31m#collapse_hide\u001b[0m\u001b[0;34m\u001b[0m\u001b[0;34m\u001b[0m\u001b[0;34m\u001b[0m\u001b[0m\n\u001b[0;32m----> 2\u001b[0;31m \u001b[0mfig\u001b[0m \u001b[0;34m=\u001b[0m \u001b[0mgo\u001b[0m\u001b[0;34m.\u001b[0m\u001b[0mFigure\u001b[0m\u001b[0;34m(\u001b[0m\u001b[0;34m)\u001b[0m\u001b[0;34m\u001b[0m\u001b[0;34m\u001b[0m\u001b[0m\n\u001b[0m\u001b[1;32m      3\u001b[0m \u001b[0;34m\u001b[0m\u001b[0m\n\u001b[1;32m      4\u001b[0m \u001b[0;32mfor\u001b[0m \u001b[0mi\u001b[0m \u001b[0;32min\u001b[0m \u001b[0mrange\u001b[0m\u001b[0;34m(\u001b[0m\u001b[0mlen\u001b[0m\u001b[0;34m(\u001b[0m\u001b[0mresults_stoch\u001b[0m\u001b[0;34m)\u001b[0m\u001b[0;34m)\u001b[0m\u001b[0;34m:\u001b[0m\u001b[0;34m\u001b[0m\u001b[0;34m\u001b[0m\u001b[0m\n\u001b[1;32m      5\u001b[0m   \u001b[0;31m#fig.add_trace(go.Scatter(name='Beta_stoch'+str(i), x=np.arange(len(results_stoch[i][0])), y=results_stoch[i][6], line={'dash':'dot','color':'yellow'}, legendgroup=\"Sim_\"+str(i)))\u001b[0m\u001b[0;34m\u001b[0m\u001b[0;34m\u001b[0m\u001b[0;34m\u001b[0m\u001b[0m\n",
            "\u001b[0;31mNameError\u001b[0m: name 'go' is not defined"
          ]
        }
      ]
    },
    {
      "cell_type": "code",
      "metadata": {
        "colab": {
          "base_uri": "https://localhost:8080/"
        },
        "id": "ncnz85PMpL8g",
        "outputId": "f434dc20-96b7-42c7-debb-11bfde507daa"
      },
      "source": [
        "for j in range(len(results_stoch)):\n",
        "  #4 is Ipd\n",
        "  #1 is I\n",
        "  print(j, \": peak incidence is:\", np.argmax(results_stoch[j][4]), \" Peak prev is:\", np.argmax(results_stoch[j][1]), \"Diff is \", np.argmax(results_stoch[j][1])-np.argmax(results_stoch[j][4]))"
      ],
      "execution_count": null,
      "outputs": [
        {
          "output_type": "stream",
          "text": [
            "0 : peak incidence is: 37  Peak prev is: 41 Diff is  4\n",
            "1 : peak incidence is: 32  Peak prev is: 38 Diff is  6\n",
            "2 : peak incidence is: 0  Peak prev is: 10 Diff is  10\n",
            "3 : peak incidence is: 36  Peak prev is: 42 Diff is  6\n",
            "4 : peak incidence is: 36  Peak prev is: 41 Diff is  5\n",
            "5 : peak incidence is: 36  Peak prev is: 42 Diff is  6\n",
            "6 : peak incidence is: 43  Peak prev is: 50 Diff is  7\n",
            "7 : peak incidence is: 46  Peak prev is: 53 Diff is  7\n",
            "8 : peak incidence is: 45  Peak prev is: 52 Diff is  7\n",
            "9 : peak incidence is: 36  Peak prev is: 41 Diff is  5\n",
            "10 : peak incidence is: 44  Peak prev is: 51 Diff is  7\n",
            "11 : peak incidence is: 41  Peak prev is: 45 Diff is  4\n"
          ],
          "name": "stdout"
        }
      ]
    },
    {
      "cell_type": "code",
      "metadata": {
        "colab": {
          "base_uri": "https://localhost:8080/"
        },
        "id": "9zS0ASBspOke",
        "outputId": "49c72c5c-9362-469b-cd54-978c7bcbeaed"
      },
      "source": [
        "#collapse_hide\n",
        "# Define parameters for stochastic model\n",
        "years = 50\n",
        "p = 1000000\n",
        "num_E = 0\n",
        "num_I = 50\n",
        "num_R = 0\n",
        "beta_stoch = [0.4,0.4,0.4]\n",
        "#beta_stoch = np.linspace(0.15,0.45,num=29)\n",
        "#beta_stoch = [0.1,0.1,0.1,0.1,0.1,0.1]\n",
        "#beta_stoch2 = [0.05,0.05,0.05,0.05,0.05,0.05]\n",
        "beta_stoch2 = 0.03*np.ones(len(beta_stoch))\n",
        "#beta_stoch = beta_stoch2\n",
        "\n",
        "#control= [1,1,1,1,1,1]\n",
        "control = 0.7*np.ones(len(beta_stoch))\n",
        "\n",
        "n = len(beta_stoch)\n",
        "\n",
        "senegal = []\n",
        "\n",
        "# Run n stochastic simulations\n",
        "for i in tqdm.tqdm(range(n)):\n",
        "  res = seir_model_stoch(beta_stoch[i]*np.ones(years),beta_stoch2[i], p, num_I, num_R, years, 'gamma', 0, control[i])\n",
        "  senegal.append(res)"
      ],
      "execution_count": null,
      "outputs": [
        {
          "output_type": "stream",
          "text": [
            "100%|██████████| 3/3 [02:57<00:00, 59.32s/it]\n"
          ],
          "name": "stderr"
        }
      ]
    },
    {
      "cell_type": "code",
      "metadata": {
        "colab": {
          "base_uri": "https://localhost:8080/",
          "height": 230
        },
        "id": "xYMK2jDZZduP",
        "outputId": "78415a3f-1920-40b9-d892-0df689e66742"
      },
      "source": [
        "#collapse_hide\n",
        "fig = go.Figure()\n",
        "\n",
        "for i in range(len(senegal)):\n",
        "  #fig.add_trace(go.Scatter(name='Beta_stoch1', x=np.arange(len(senegal[0])), y=senegal[6], line={'dash':'dot','color':'yellow'}, legendgroup=\"Sim_\"+str(i)))\n",
        "  fig.add_trace(go.Scatter(name='Beta_meas'+str(i), x=np.arange(len(senegal[i][0])), y=senegal[i][7], line={'dash':'dot','color':'yellow'}, legendgroup=\"Sim_\"+str(i)))\n",
        "  fig.add_trace(go.Scatter(name='I_stoch'+str(i), x=np.arange(len(senegal[i][0])), y=senegal[i][1]/p, line={'dash':'dot', 'color':'red'}, legendgroup=\"Sim_\"+str(i)))\n",
        "  fig.add_trace(go.Bar(name='Ip_stoch'+str(i), x=np.arange(len(senegal[i][0])), y=senegal[i][4]*10/p, legendgroup=\"Sim_\"+str(i)))\n",
        "  fig.add_trace(go.Scatter(name='R_stoch'+str(i), x=np.arange(len(senegal[i][0])), y=senegal[i][2]/p, line={'dash':'dot', 'color':'green'}, legendgroup=\"Sim_\"+str(i)))\n",
        "\n",
        "fig.update_layout(\n",
        "    xaxis_title = 'Years',\n",
        "    yaxis_title = 'Proportion of population',\n",
        "    title={\n",
        "        'text':r'$\\text{Stochastic HIV SIR model}$',\n",
        "        'x':0.5,\n",
        "        'xanchor':'center'\n",
        "    }\n",
        ")\n",
        "\n",
        "fig.show()"
      ],
      "execution_count": null,
      "outputs": [
        {
          "output_type": "error",
          "ename": "NameError",
          "evalue": "ignored",
          "traceback": [
            "\u001b[0;31m---------------------------------------------------------------------------\u001b[0m",
            "\u001b[0;31mNameError\u001b[0m                                 Traceback (most recent call last)",
            "\u001b[0;32m<ipython-input-1-1f2752312026>\u001b[0m in \u001b[0;36m<module>\u001b[0;34m()\u001b[0m\n\u001b[1;32m      1\u001b[0m \u001b[0;31m#collapse_hide\u001b[0m\u001b[0;34m\u001b[0m\u001b[0;34m\u001b[0m\u001b[0;34m\u001b[0m\u001b[0m\n\u001b[0;32m----> 2\u001b[0;31m \u001b[0mfig\u001b[0m \u001b[0;34m=\u001b[0m \u001b[0mgo\u001b[0m\u001b[0;34m.\u001b[0m\u001b[0mFigure\u001b[0m\u001b[0;34m(\u001b[0m\u001b[0;34m)\u001b[0m\u001b[0;34m\u001b[0m\u001b[0;34m\u001b[0m\u001b[0m\n\u001b[0m\u001b[1;32m      3\u001b[0m \u001b[0;34m\u001b[0m\u001b[0m\n\u001b[1;32m      4\u001b[0m \u001b[0;32mfor\u001b[0m \u001b[0mi\u001b[0m \u001b[0;32min\u001b[0m \u001b[0mrange\u001b[0m\u001b[0;34m(\u001b[0m\u001b[0mlen\u001b[0m\u001b[0;34m(\u001b[0m\u001b[0msenegal\u001b[0m\u001b[0;34m)\u001b[0m\u001b[0;34m)\u001b[0m\u001b[0;34m:\u001b[0m\u001b[0;34m\u001b[0m\u001b[0;34m\u001b[0m\u001b[0m\n\u001b[1;32m      5\u001b[0m   \u001b[0;31m#fig.add_trace(go.Scatter(name='Beta_stoch1', x=np.arange(len(senegal[0])), y=senegal[6], line={'dash':'dot','color':'yellow'}, legendgroup=\"Sim_\"+str(i)))\u001b[0m\u001b[0;34m\u001b[0m\u001b[0;34m\u001b[0m\u001b[0;34m\u001b[0m\u001b[0m\n",
            "\u001b[0;31mNameError\u001b[0m: name 'go' is not defined"
          ]
        }
      ]
    },
    {
      "cell_type": "code",
      "metadata": {
        "colab": {
          "base_uri": "https://localhost:8080/",
          "height": 230
        },
        "id": "HSrD-FJgbHJM",
        "outputId": "d60253e3-6b7c-44b6-e310-4a7a0379347e"
      },
      "source": [
        "#collapse_hide\n",
        "fig = go.Figure()\n",
        "\n",
        "for i in range(len(senegal)):\n",
        "  #fig.add_trace(go.Scatter(name='Beta_stoch1', x=np.arange(len(senegal[0])), y=senegal[6], line={'dash':'dot','color':'yellow'}, legendgroup=\"Sim_\"+str(i)))\n",
        "  fig.add_trace(go.Scatter(name='Beta_meas'+str(i), x=np.arange(len(senegal[i][0])), y=senegal[i][7], line={'dash':'dot','color':'yellow'}, legendgroup=\"Sim_\"+str(i)))\n",
        "  fig.add_trace(go.Scatter(name='I_stoch'+str(i), x=np.arange(len(senegal[i][0])), y=senegal[i][1]/p, line={'dash':'dot', 'color':'red'}, legendgroup=\"Sim_\"+str(i)))\n",
        "  fig.add_trace(go.Bar(name='Ip_stoch'+str(i), x=np.arange(len(senegal[i][0])), y=senegal[i][4]*10/p, legendgroup=\"Sim_\"+str(i)))\n",
        "  fig.add_trace(go.Scatter(name='R_stoch'+str(i), x=np.arange(len(senegal[i][0])), y=senegal[i][2]/p, line={'dash':'dot', 'color':'green'}, legendgroup=\"Sim_\"+str(i)))\n",
        "\n",
        "fig.update_layout(\n",
        "    xaxis_title = 'Years',\n",
        "    yaxis_title = 'Proportion of population',\n",
        "    title={\n",
        "        'text':r'$\\text{Stochastic HIV SIR model}$',\n",
        "        'x':0.5,\n",
        "        'xanchor':'center'\n",
        "    }\n",
        ")\n",
        "\n",
        "fig.show()"
      ],
      "execution_count": null,
      "outputs": [
        {
          "output_type": "error",
          "ename": "NameError",
          "evalue": "ignored",
          "traceback": [
            "\u001b[0;31m---------------------------------------------------------------------------\u001b[0m",
            "\u001b[0;31mNameError\u001b[0m                                 Traceback (most recent call last)",
            "\u001b[0;32m<ipython-input-1-1f2752312026>\u001b[0m in \u001b[0;36m<module>\u001b[0;34m()\u001b[0m\n\u001b[1;32m      1\u001b[0m \u001b[0;31m#collapse_hide\u001b[0m\u001b[0;34m\u001b[0m\u001b[0;34m\u001b[0m\u001b[0;34m\u001b[0m\u001b[0m\n\u001b[0;32m----> 2\u001b[0;31m \u001b[0mfig\u001b[0m \u001b[0;34m=\u001b[0m \u001b[0mgo\u001b[0m\u001b[0;34m.\u001b[0m\u001b[0mFigure\u001b[0m\u001b[0;34m(\u001b[0m\u001b[0;34m)\u001b[0m\u001b[0;34m\u001b[0m\u001b[0;34m\u001b[0m\u001b[0m\n\u001b[0m\u001b[1;32m      3\u001b[0m \u001b[0;34m\u001b[0m\u001b[0m\n\u001b[1;32m      4\u001b[0m \u001b[0;32mfor\u001b[0m \u001b[0mi\u001b[0m \u001b[0;32min\u001b[0m \u001b[0mrange\u001b[0m\u001b[0;34m(\u001b[0m\u001b[0mlen\u001b[0m\u001b[0;34m(\u001b[0m\u001b[0msenegal\u001b[0m\u001b[0;34m)\u001b[0m\u001b[0;34m)\u001b[0m\u001b[0;34m:\u001b[0m\u001b[0;34m\u001b[0m\u001b[0;34m\u001b[0m\u001b[0m\n\u001b[1;32m      5\u001b[0m   \u001b[0;31m#fig.add_trace(go.Scatter(name='Beta_stoch1', x=np.arange(len(senegal[0])), y=senegal[6], line={'dash':'dot','color':'yellow'}, legendgroup=\"Sim_\"+str(i)))\u001b[0m\u001b[0;34m\u001b[0m\u001b[0;34m\u001b[0m\u001b[0;34m\u001b[0m\u001b[0m\n",
            "\u001b[0;31mNameError\u001b[0m: name 'go' is not defined"
          ]
        }
      ]
    },
    {
      "cell_type": "code",
      "metadata": {
        "id": "SUKhG6UqcP_Y"
      },
      "source": [
        ""
      ],
      "execution_count": null,
      "outputs": []
    }
  ]
}