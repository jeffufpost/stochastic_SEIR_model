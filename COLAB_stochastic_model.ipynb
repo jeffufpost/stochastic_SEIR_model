{
  "nbformat": 4,
  "nbformat_minor": 0,
  "metadata": {
    "colab": {
      "name": "Untitled0.ipynb",
      "provenance": [],
      "toc_visible": true,
      "authorship_tag": "ABX9TyPh2fx3CCEuLpXZ9rlfHdja",
      "include_colab_link": true
    },
    "kernelspec": {
      "name": "python3",
      "display_name": "Python 3"
    }
  },
  "cells": [
    {
      "cell_type": "markdown",
      "metadata": {
        "id": "view-in-github",
        "colab_type": "text"
      },
      "source": [
        "<a href=\"https://colab.research.google.com/github/jeffufpost/stochastic_SEIR_model/blob/master/COLAB_stochastic_model.ipynb\" target=\"_parent\"><img src=\"https://colab.research.google.com/assets/colab-badge.svg\" alt=\"Open In Colab\"/></a>"
      ]
    },
    {
      "cell_type": "code",
      "metadata": {
        "id": "fp4eQqJ5wIJJ",
        "colab_type": "code",
        "colab": {}
      },
      "source": [
        "import numpy as np\n",
        "import pandas as pd\n",
        "\n",
        "import plotly.graph_objects as go\n",
        "import plotly.express as px"
      ],
      "execution_count": 0,
      "outputs": []
    },
    {
      "cell_type": "markdown",
      "metadata": {
        "id": "9VTxRApBxa4I",
        "colab_type": "text"
      },
      "source": [
        "# Epidemiology of SEIR model and initial population array"
      ]
    },
    {
      "cell_type": "markdown",
      "metadata": {
        "id": "ITKk3SnDxtEc",
        "colab_type": "text"
      },
      "source": [
        "We want to model an epidemic with 4 individual states that are {S, E, I, R}.\n",
        "Instead of using the standard differential equation approach, we want to model here the changes from one state to the next in a stochastic manner that depend on external factors as described below:\n",
        "\n",
        "State S - susceptible:\n",
        "An individual is susceptible to the disease when they are not immune to the disease. In an SEIR model, the individual in state S can be exposed to the disease, and go into the state E. The probability of this happening depends on three key variables:\n",
        "* beta : the number of contacts the individual has per day\n",
        "* I/p : the probability of a contact being with an infectious individual\n",
        "* r : the probability of a contact with an infectious individual leading to infection\n",
        "\n",
        "State E - exposed:\n",
        "Once an individual is exposed to the disease (changing from S as described above), they develop the disease after an incubation period."
      ]
    },
    {
      "cell_type": "code",
      "metadata": {
        "id": "VEjTvdmax2jr",
        "colab_type": "code",
        "colab": {}
      },
      "source": [
        ""
      ],
      "execution_count": 0,
      "outputs": []
    },
    {
      "cell_type": "code",
      "metadata": {
        "id": "1HawuPvRxmek",
        "colab_type": "code",
        "colab": {}
      },
      "source": [
        "p = 5000 \n",
        "beta = 5\n",
        "r = "
      ],
      "execution_count": 0,
      "outputs": []
    }
  ]
}